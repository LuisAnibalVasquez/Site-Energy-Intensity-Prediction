{
 "cells": [
  {
   "cell_type": "code",
   "execution_count": null,
   "id": "972e60e1",
   "metadata": {},
   "outputs": [],
   "source": [
    "import dtale\n",
    "import pandas as pd"
   ]
  },
  {
   "cell_type": "code",
   "execution_count": null,
   "id": "5ce7f27c",
   "metadata": {},
   "outputs": [],
   "source": [
    "df = pd.read_csv('../../data/raw/train_dataset.csv')"
   ]
  },
  {
   "cell_type": "code",
   "execution_count": null,
   "id": "b275896a",
   "metadata": {},
   "outputs": [],
   "source": [
    "dtale.show(df)"
   ]
  },
  {
   "cell_type": "code",
   "execution_count": null,
   "id": "e0784ed2",
   "metadata": {},
   "outputs": [],
   "source": [
    "df_test = pd.read_csv('../../data/raw/x_test.csv')"
   ]
  },
  {
   "cell_type": "code",
   "execution_count": null,
   "id": "04a99ad1",
   "metadata": {},
   "outputs": [],
   "source": [
    "dtale.show(df_test)"
   ]
  },
  {
   "cell_type": "code",
   "execution_count": null,
   "id": "8a443220",
   "metadata": {},
   "outputs": [],
   "source": [
    "df.describe()"
   ]
  },
  {
   "cell_type": "code",
   "execution_count": null,
   "id": "dd11675f",
   "metadata": {},
   "outputs": [],
   "source": [
    "df_test.describe()"
   ]
  },
  {
   "cell_type": "code",
   "execution_count": null,
   "id": "ceeccf7b",
   "metadata": {},
   "outputs": [],
   "source": [
    "print(df.shape)\n",
    "print(df_test.shape)"
   ]
  },
  {
   "cell_type": "code",
   "execution_count": null,
   "id": "52c19cdd",
   "metadata": {},
   "outputs": [],
   "source": [
    "print(df['State_Factor'].value_counts())\n",
    "print('*****************************************')\n",
    "print(df['building_class'].value_counts())\n",
    "print('*****************************************')\n",
    "print(df['facility_type'].value_counts())"
   ]
  }
 ],
 "metadata": {
  "kernelspec": {
   "display_name": "Python 3 (ipykernel)",
   "language": "python",
   "name": "python3"
  },
  "language_info": {
   "codemirror_mode": {
    "name": "ipython",
    "version": 3
   },
   "file_extension": ".py",
   "mimetype": "text/x-python",
   "name": "python",
   "nbconvert_exporter": "python",
   "pygments_lexer": "ipython3",
   "version": "3.10.11"
  }
 },
 "nbformat": 4,
 "nbformat_minor": 5
}
