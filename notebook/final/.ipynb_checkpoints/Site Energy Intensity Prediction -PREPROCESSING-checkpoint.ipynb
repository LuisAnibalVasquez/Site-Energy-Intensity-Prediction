{
 "cells": [
  {
   "cell_type": "markdown",
   "id": "5f8ec4d8",
   "metadata": {},
   "source": [
    "# Proprocesammiento\n",
    "\n",
    "En esta notebook se hace lo siguiente:  \n",
    "1.- se calcula la Mean de los features que tiene valores nulos para luego ser imputados.  \n",
    "2.- Se elimina las variables categoricas.  \n",
    "3.- se cacula en Z-score para eliminar los Outliers.  \n",
    "4.- Se caclula en valor VIF para ser usado para eliminas las variables multicolineares.  \n",
    "5.- Se determinan y corrigen los feautures Skewed.  \n",
    "6.- Se estandarizan las columnas usando un StandardScaler.  \n"
   ]
  },
  {
   "cell_type": "code",
   "execution_count": 86,
   "id": "35217b17",
   "metadata": {},
   "outputs": [],
   "source": [
    "import pandas as pd\n",
    "import matplotlib.pyplot as plt\n",
    "\n",
    "from scipy import stats\n",
    "from sklearn.decomposition import PCA\n",
    "from sklearn.preprocessing import LabelEncoder\n",
    "from sklearn.preprocessing import OneHotEncoder"
   ]
  },
  {
   "cell_type": "code",
   "execution_count": 87,
   "id": "87b6bba3",
   "metadata": {},
   "outputs": [],
   "source": [
    "pd.set_option('display.max_columns', None)\n",
    "pd.set_option('display.max_rows', None)"
   ]
  },
  {
   "cell_type": "code",
   "execution_count": 88,
   "id": "d9567328",
   "metadata": {},
   "outputs": [],
   "source": [
    "df_full = pd.read_csv('../../data/raw/train_dataset.csv')"
   ]
  },
  {
   "cell_type": "code",
   "execution_count": 89,
   "id": "f72f4a2a",
   "metadata": {},
   "outputs": [],
   "source": [
    "# Se obtienen los valores de la Mean antes de imputar para poder imputar la misma media en ambos set de datos\n",
    "a = df_full['year_built'].mean()\n",
    "b = df_full['energy_star_rating'].mean()\n",
    "c = df_full['direction_max_wind_speed'].mean()\n",
    "d = df_full['direction_peak_wind_speed'].mean()\n",
    "e = df_full['max_wind_speed'].mean()\n",
    "f = df_full['days_with_fog'].mean()"
   ]
  },
  {
   "cell_type": "code",
   "execution_count": 90,
   "id": "eefe28ed",
   "metadata": {},
   "outputs": [],
   "source": [
    "df_full['year_built'].fillna(a, inplace=True)\n",
    "df_full['energy_star_rating'].fillna(b, inplace=True)\n",
    "df_full['direction_max_wind_speed'].fillna(c, inplace=True)\n",
    "df_full['direction_peak_wind_speed'].fillna(d, inplace=True)\n",
    "df_full['max_wind_speed'].fillna(e, inplace=True)\n",
    "df_full['days_with_fog'].fillna(f, inplace=True)"
   ]
  },
  {
   "cell_type": "code",
   "execution_count": 91,
   "id": "9e0df5d6",
   "metadata": {},
   "outputs": [],
   "source": [
    "df_full['State_Factor'].value_counts()"
   ]
  },
  {
   "cell_type": "code",
   "execution_count": 92,
   "id": "c0fbbcd8",
   "metadata": {},
   "outputs": [],
   "source": [
    "df_full['building_class'].value_counts()"
   ]
  },
  {
   "cell_type": "code",
   "execution_count": 93,
   "id": "b8ed3290",
   "metadata": {},
   "outputs": [],
   "source": [
    "df_full.head()"
   ]
  },
  {
   "cell_type": "code",
   "execution_count": 94,
   "id": "4bd2a786",
   "metadata": {},
   "outputs": [],
   "source": [
    "df_full = df_full.drop(columns=['facility_type', 'id'])"
   ]
  },
  {
   "cell_type": "code",
   "execution_count": null,
   "id": "32f2f7f2",
   "metadata": {},
   "outputs": [],
   "source": [
    "df_full.head()"
   ]
  },
  {
   "cell_type": "code",
   "execution_count": null,
   "id": "3884db9e",
   "metadata": {},
   "outputs": [],
   "source": [
    "df_full.shape"
   ]
  },
  {
   "cell_type": "code",
   "execution_count": null,
   "id": "22095032",
   "metadata": {},
   "outputs": [],
   "source": [
    "ohc = OneHotEncoder()\n",
    "ohs1 = ohc.fit_transform(df_full.building_class.values.reshape(-1,1)).toarray()\n",
    "dfs1 = pd.DataFrame(ohs1, columns = [\"Temp_building_class_\"+str(ohc.categories_[0][i])\n",
    "                               for i in range(len(ohc.categories_[0]))])\n",
    "df_full = pd.concat([df_full, dfs1], axis = 1)  \n",
    "df_full.head()"
   ]
  },
  {
   "cell_type": "code",
   "execution_count": null,
   "id": "9c022951",
   "metadata": {},
   "outputs": [],
   "source": [
    "df_full.shape"
   ]
  },
  {
   "cell_type": "code",
   "execution_count": null,
   "id": "a77eb305",
   "metadata": {},
   "outputs": [],
   "source": [
    "df_full = df_full.drop(columns=['building_class'], axis = 1)\n",
    "df_full.head()"
   ]
  },
  {
   "cell_type": "code",
   "execution_count": null,
   "id": "85a0a865",
   "metadata": {},
   "outputs": [],
   "source": [
    "df_full.shape"
   ]
  },
  {
   "cell_type": "code",
   "execution_count": null,
   "id": "8009c344",
   "metadata": {},
   "outputs": [],
   "source": [
    "df_full['TEMP_State_Factor']=LabelEncoder().fit_transform(df_full.State_Factor)"
   ]
  },
  {
   "cell_type": "code",
   "execution_count": null,
   "id": "2f6aeffe",
   "metadata": {},
   "outputs": [],
   "source": [
    "df_full.head()"
   ]
  },
  {
   "cell_type": "code",
   "execution_count": null,
   "id": "42da34f0",
   "metadata": {},
   "outputs": [],
   "source": [
    "df_full = df_full.drop(columns=['State_Factor'], axis = 1)\n",
    "df_full.head()"
   ]
  },
  {
   "cell_type": "code",
   "execution_count": null,
   "id": "5470be40",
   "metadata": {},
   "outputs": [],
   "source": [
    "aux_site_eui= pd.DataFrame(df_full['site_eui'])\n",
    "aux_site_eui.head()"
   ]
  },
  {
   "cell_type": "code",
   "execution_count": null,
   "id": "9d1ed475",
   "metadata": {},
   "outputs": [],
   "source": [
    "df_full = df_full.drop(columns=['site_eui'], axis = 1)\n",
    "df_full.head()"
   ]
  },
  {
   "cell_type": "code",
   "execution_count": null,
   "id": "63eee89d",
   "metadata": {},
   "outputs": [],
   "source": [
    "df_full.shape"
   ]
  },
  {
   "cell_type": "code",
   "execution_count": null,
   "id": "1c4f4e32",
   "metadata": {},
   "outputs": [],
   "source": [
    "df_full = pd.concat([df_full, aux_site_eui], axis = 1)  \n",
    "df_full.head()"
   ]
  },
  {
   "cell_type": "code",
   "execution_count": null,
   "id": "ab24c700",
   "metadata": {},
   "outputs": [],
   "source": [
    "df_full.shape"
   ]
  },
  {
   "cell_type": "markdown",
   "id": "ec243b06",
   "metadata": {},
   "source": [
    "Se calcula el Z-score para eliminar los outliers"
   ]
  },
  {
   "cell_type": "code",
   "execution_count": null,
   "id": "44d6abf0",
   "metadata": {},
   "outputs": [],
   "source": [
    "from scipy import stats\n",
    "import numpy as np"
   ]
  },
  {
   "cell_type": "code",
   "execution_count": null,
   "id": "3ab44146",
   "metadata": {},
   "outputs": [],
   "source": [
    "z = np.abs(stats.zscore(df_full))"
   ]
  },
  {
   "cell_type": "code",
   "execution_count": null,
   "id": "7aa3eb87",
   "metadata": {},
   "outputs": [],
   "source": [
    "df_full.shape"
   ]
  },
  {
   "cell_type": "code",
   "execution_count": null,
   "id": "4fbf5396",
   "metadata": {},
   "outputs": [],
   "source": [
    "df_full.head()"
   ]
  },
  {
   "cell_type": "markdown",
   "id": "6320b7ce",
   "metadata": {},
   "source": [
    "Se elimina aquellas fillas que no cumplan con el treshold"
   ]
  },
  {
   "cell_type": "code",
   "execution_count": null,
   "id": "60d6120e",
   "metadata": {},
   "outputs": [],
   "source": [
    "df_full_z_scores = df_full[(z < 3).all(axis=1)]"
   ]
  },
  {
   "cell_type": "code",
   "execution_count": null,
   "id": "e5893628",
   "metadata": {},
   "outputs": [],
   "source": [
    "df_full_z_scores.shape"
   ]
  },
  {
   "cell_type": "code",
   "execution_count": null,
   "id": "d31f50f4",
   "metadata": {},
   "outputs": [],
   "source": [
    "df_full_z_scores.head()"
   ]
  },
  {
   "cell_type": "markdown",
   "id": "e86d5a02",
   "metadata": {},
   "source": [
    "Probamos haciendo una standarizacion normal comun y corriente ya que en teoria se eliminaron los outlier"
   ]
  },
  {
   "cell_type": "code",
   "execution_count": null,
   "id": "c1c3f32b",
   "metadata": {},
   "outputs": [],
   "source": [
    "from sklearn.preprocessing import StandardScaler"
   ]
  },
  {
   "cell_type": "code",
   "execution_count": null,
   "id": "b188f7ce",
   "metadata": {},
   "outputs": [],
   "source": [
    "transformer = StandardScaler().fit(df_full_z_scores)\n",
    "df_full_scaled = transformer.transform(df_full_z_scores)"
   ]
  },
  {
   "cell_type": "code",
   "execution_count": null,
   "id": "fe8bc2b5",
   "metadata": {},
   "outputs": [],
   "source": [
    "#se debe transforma a un dataframe ya que el metodo transorm lo retorna en un ndarray\n",
    "df_full_scaled_df = pd.DataFrame(df_full_scaled, columns=df_full_SKW.columns)\n",
    "df_full_scaled_df.describe()"
   ]
  },
  {
   "cell_type": "code",
   "execution_count": null,
   "id": "79beeb60",
   "metadata": {},
   "outputs": [],
   "source": [
    "df_full_scaled_df.shape"
   ]
  },
  {
   "cell_type": "code",
   "execution_count": null,
   "id": "8292ccdf",
   "metadata": {},
   "outputs": [],
   "source": [
    "# Usaremps PCA\n",
    "aux = df_full_scaled_df.drop(columns=['site_eui'])\n",
    "pca = PCA().fit(aux)\n",
    "plt.rcParams[\"figure.figsize\"] = (12,6)\n",
    "fig, ax = plt.subplots()\n",
    "\n",
    "xi = np.arange(1, 49, step=1)\n",
    "y = np.cumsum(pca.explained_variance_ratio_)\n",
    "plt.ylim(0.0,1.1)\n",
    "plt.plot(xi, y, marker='o', linestyle='--', color='b')\n",
    "plt.xlabel('Number of Components')\n",
    "plt.xticks(np.arange(0, 11, step=1)) #change from 0-based array index to 1-based human-readable label\n",
    "plt.ylabel('Cumulative variance (%)')\n",
    "plt.title('The number of components needed to explain variance')\n",
    "plt.axhline(y=0.95, color='r', linestyle='-')\n",
    "plt.text(0.5, 0.85, '95% cut-off threshold', color = 'red', fontsize=16)\n",
    "ax.grid(axis='x')\n",
    "plt.show()"
   ]
  },
  {
   "cell_type": "code",
   "execution_count": null,
   "id": "f5b2f99b",
   "metadata": {},
   "outputs": [],
   "source": [
    "df_full_scaled_df.to_csv('data/preprocesada/Full_Data_sin_MultiC_sin_Skew.csv')"
   ]
  }
 ],
 "metadata": {
  "kernelspec": {
   "display_name": "Python 3 (ipykernel)",
   "language": "python",
   "name": "python3"
  },
  "language_info": {
   "codemirror_mode": {
    "name": "ipython",
    "version": 3
   },
   "file_extension": ".py",
   "mimetype": "text/x-python",
   "name": "python",
   "nbconvert_exporter": "python",
   "pygments_lexer": "ipython3",
   "version": "3.10.11"
  }
 },
 "nbformat": 4,
 "nbformat_minor": 5
}
