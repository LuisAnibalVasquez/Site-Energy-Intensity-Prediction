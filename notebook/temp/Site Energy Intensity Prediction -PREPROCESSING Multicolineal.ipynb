{
 "cells": [
  {
   "cell_type": "code",
   "execution_count": null,
   "id": "35217b17",
   "metadata": {},
   "outputs": [],
   "source": [
    "import pandas as pd"
   ]
  },
  {
   "cell_type": "code",
   "execution_count": null,
   "id": "87b6bba3",
   "metadata": {},
   "outputs": [],
   "source": [
    "pd.set_option('display.max_columns', None)\n",
    "pd.set_option('display.max_rows', None)"
   ]
  },
  {
   "cell_type": "code",
   "execution_count": null,
   "id": "d9567328",
   "metadata": {},
   "outputs": [],
   "source": [
    "#este es el set de entrtenammiento completo el cual se prepocesara y se generar 2 nuevos CSV  X e y para train\n",
    "df_train = pd.read_csv('data/raw/train_dataset.csv')\n",
    "\n",
    "#estos son los set de datos de test los cuales se preprocesaran y se generar 2 nuevos CSV para test\n",
    "df_test = pd.read_csv('data/raw/x_test.csv')\n",
    "tmp_y_test_final = pd.read_csv('data/raw/y_test.csv')"
   ]
  },
  {
   "cell_type": "markdown",
   "id": "e48b0733",
   "metadata": {},
   "source": [
    "Primero se imputan valores en las columnas que contienen nulos en el dataset DE PRUEBA\n",
    "\n",
    "year_built, energy_star_rating, direction_max_wind_speed, direction_peak_wind_speed, max_wind_speed, days_with_fog\n"
   ]
  },
  {
   "cell_type": "code",
   "execution_count": null,
   "id": "f72f4a2a",
   "metadata": {},
   "outputs": [],
   "source": [
    "# Se obtienen los valores antes de imputar para poder imputra la misma media en ambos set de datos\n",
    "a = df_train['year_built'].mean()\n",
    "b = df_train['energy_star_rating'].mean()\n",
    "c = df_train['direction_max_wind_speed'].mean()\n",
    "d = df_train['direction_peak_wind_speed'].mean()\n",
    "e = df_train['max_wind_speed'].mean()\n",
    "f = df_train['days_with_fog'].mean()"
   ]
  },
  {
   "cell_type": "code",
   "execution_count": null,
   "id": "eefe28ed",
   "metadata": {},
   "outputs": [],
   "source": [
    "df_train['year_built'].fillna(a, inplace=True)\n",
    "df_train['energy_star_rating'].fillna(b, inplace=True)\n",
    "df_train['direction_max_wind_speed'].fillna(c, inplace=True)\n",
    "df_train['direction_peak_wind_speed'].fillna(d, inplace=True)\n",
    "df_train['max_wind_speed'].fillna(e, inplace=True)\n",
    "df_train['days_with_fog'].fillna(f, inplace=True)"
   ]
  },
  {
   "cell_type": "markdown",
   "id": "36f56852",
   "metadata": {},
   "source": [
    "Ahoar se imputan los valores nulos en el DF de TEST pero con los valores del DF de TRAIN"
   ]
  },
  {
   "cell_type": "code",
   "execution_count": null,
   "id": "1fd25743",
   "metadata": {},
   "outputs": [],
   "source": [
    "a = df_test['year_built'].mean()\n",
    "b = df_test['energy_star_rating'].mean()\n",
    "c = df_test['direction_max_wind_speed'].mean()\n",
    "d = df_test['direction_peak_wind_speed'].mean()\n",
    "e = df_test['max_wind_speed'].mean()\n",
    "f = df_test['days_with_fog'].mean()"
   ]
  },
  {
   "cell_type": "code",
   "execution_count": null,
   "id": "709e31f2",
   "metadata": {},
   "outputs": [],
   "source": [
    "df_test['year_built'].fillna(a, inplace=True)\n",
    "df_test['energy_star_rating'].fillna(b, inplace=True)\n",
    "df_test['direction_max_wind_speed'].fillna(c, inplace=True)\n",
    "df_test['direction_peak_wind_speed'].fillna(d, inplace=True)\n",
    "df_test['max_wind_speed'].fillna(e, inplace=True)\n",
    "df_test['days_with_fog'].fillna(f, inplace=True)"
   ]
  },
  {
   "cell_type": "code",
   "execution_count": null,
   "id": "4bd2a786",
   "metadata": {},
   "outputs": [],
   "source": [
    "#se genera el nuevo DF sin las columnas categoricas y la variable objetivo\n",
    "temp_X_train = df_train.drop(columns=['State_Factor','building_class', 'facility_type', 'site_eui', 'id'])"
   ]
  },
  {
   "cell_type": "code",
   "execution_count": null,
   "id": "8884acbc",
   "metadata": {},
   "outputs": [],
   "source": [
    "# se genera el nuevo DF de TEST sin las variables categoricas\n",
    "temp_X_test = df_test.drop(columns=['State_Factor', 'building_class', 'facility_type','id'])"
   ]
  },
  {
   "cell_type": "code",
   "execution_count": null,
   "id": "ce2a48b3",
   "metadata": {},
   "outputs": [],
   "source": [
    "# se genera el nuevo DF de train SOLO CON LA VARIABLE OBJETIVO\n",
    "temp_y_train = df_train.iloc[:, -1]"
   ]
  },
  {
   "cell_type": "code",
   "execution_count": null,
   "id": "bb56d52f",
   "metadata": {},
   "outputs": [],
   "source": [
    "temp_y_test = tmp_y_test_final.iloc[:, -1]"
   ]
  },
  {
   "cell_type": "code",
   "execution_count": null,
   "id": "6d176f46",
   "metadata": {},
   "outputs": [],
   "source": [
    "temp_X_train.shape"
   ]
  },
  {
   "cell_type": "code",
   "execution_count": null,
   "id": "b2d261ac",
   "metadata": {},
   "outputs": [],
   "source": [
    "temp_X_test.shape"
   ]
  },
  {
   "cell_type": "code",
   "execution_count": null,
   "id": "9f94834a",
   "metadata": {},
   "outputs": [],
   "source": [
    "temp_y_train.shape"
   ]
  },
  {
   "cell_type": "code",
   "execution_count": null,
   "id": "ee305853",
   "metadata": {},
   "outputs": [],
   "source": [
    "temp_y_test.shape"
   ]
  },
  {
   "cell_type": "markdown",
   "id": "ec243b06",
   "metadata": {},
   "source": [
    "Se calcula el Z-score para tratar de eliminar los outliers"
   ]
  },
  {
   "cell_type": "code",
   "execution_count": null,
   "id": "44d6abf0",
   "metadata": {},
   "outputs": [],
   "source": [
    "from scipy import stats\n",
    "import numpy as np"
   ]
  },
  {
   "cell_type": "code",
   "execution_count": null,
   "id": "3ab44146",
   "metadata": {},
   "outputs": [],
   "source": [
    "z = np.abs(stats.zscore(temp_X_train))\n",
    "print(z)"
   ]
  },
  {
   "cell_type": "code",
   "execution_count": null,
   "id": "60d6120e",
   "metadata": {},
   "outputs": [],
   "source": [
    "temp_X_train = temp_X_train[(z < 3).all(axis=1)]"
   ]
  },
  {
   "cell_type": "code",
   "execution_count": null,
   "id": "e5893628",
   "metadata": {},
   "outputs": [],
   "source": [
    "temp_X_train.shape"
   ]
  },
  {
   "cell_type": "code",
   "execution_count": null,
   "id": "1ace4c2a",
   "metadata": {},
   "outputs": [],
   "source": [
    "temp_X_test = temp_X_test[(z < 3).all(axis=1)]"
   ]
  },
  {
   "cell_type": "code",
   "execution_count": null,
   "id": "cb37f8c2",
   "metadata": {},
   "outputs": [],
   "source": [
    "temp_X_test.shape"
   ]
  },
  {
   "cell_type": "code",
   "execution_count": null,
   "id": "02cb0c52",
   "metadata": {},
   "outputs": [],
   "source": [
    "temp_y_train = temp_y_train[(z < 3).all(axis=1)]"
   ]
  },
  {
   "cell_type": "code",
   "execution_count": null,
   "id": "6ce4089d",
   "metadata": {},
   "outputs": [],
   "source": [
    "temp_y_train.shape"
   ]
  },
  {
   "cell_type": "code",
   "execution_count": null,
   "id": "d7a40612",
   "metadata": {},
   "outputs": [],
   "source": [
    "temp_y_test = temp_y_test[(z < 3).all(axis=1)]"
   ]
  },
  {
   "cell_type": "code",
   "execution_count": null,
   "id": "697a2221",
   "metadata": {},
   "outputs": [],
   "source": [
    "temp_y_test.shape"
   ]
  },
  {
   "cell_type": "code",
   "execution_count": null,
   "id": "43a991a7",
   "metadata": {},
   "outputs": [],
   "source": [
    "from statsmodels.stats.outliers_influence import variance_inflation_factor\n",
    "from statsmodels.tools.tools import add_constant"
   ]
  },
  {
   "cell_type": "code",
   "execution_count": null,
   "id": "671029fb",
   "metadata": {},
   "outputs": [],
   "source": [
    "# compute the vif for all given features\n",
    "def compute_vif(df, considered_features):\n",
    "    \n",
    "    X = df[considered_features]\n",
    "    # the calculation of variance inflation requires a constant\n",
    "    X['intercept'] = 1\n",
    "    \n",
    "    # create dataframe to store vif values\n",
    "    vif = pd.DataFrame()\n",
    "    vif[\"Variable\"] = X.columns\n",
    "    vif[\"VIF\"] = [variance_inflation_factor(X.values, i) for i in range(X.shape[1])]\n",
    "    vif = vif[vif['Variable']!='intercept']\n",
    "    return vif"
   ]
  },
  {
   "cell_type": "code",
   "execution_count": null,
   "id": "6e9ef7d4",
   "metadata": {},
   "outputs": [],
   "source": [
    "# featires altamente correlacionadas y que deberia ser borradas\n",
    "considered_features = ['january_avg_temp', \n",
    "'february_min_temp', \n",
    "'february_avg_temp', \n",
    "'march_min_temp',\n",
    "'heating_degree_days', \n",
    "'cooling_degree_days',\n",
    "'july_avg_temp', \n",
    "'august_avg_temp', \n",
    "'days_below_20F',\n",
    "'days_below_30F', \n",
    "'days_below_10F', \n",
    "'direction_peak_wind_speed', \n",
    "'direction_max_wind_speed',\n",
    "'max_wind_speed'\n",
    "]\n",
    "\n",
    "# compute vif \n",
    "compute_vif(temp_X_train, considered_features).sort_values('VIF', ascending=False)"
   ]
  },
  {
   "cell_type": "code",
   "execution_count": null,
   "id": "9e8f3591",
   "metadata": {},
   "outputs": [],
   "source": [
    "X_train_final = temp_X_train.drop(columns=['january_avg_temp','february_min_temp', \n",
    "                                          'february_avg_temp', 'march_min_temp','heating_degree_days',\n",
    "                                          'cooling_degree_days','july_avg_temp', 'august_avg_temp', \n",
    "                                          'days_below_20F','days_below_30F', 'days_below_10F', 'direction_peak_wind_speed',\n",
    "                                          'direction_max_wind_speed','max_wind_speed'])"
   ]
  },
  {
   "cell_type": "code",
   "execution_count": null,
   "id": "82f2c4cb",
   "metadata": {},
   "outputs": [],
   "source": [
    "X_test_final = temp_X_test.drop(columns=['january_avg_temp','february_min_temp', \n",
    "                                          'february_avg_temp', 'march_min_temp','heating_degree_days',\n",
    "                                          'cooling_degree_days','july_avg_temp', 'august_avg_temp', \n",
    "                                          'days_below_20F','days_below_30F', 'days_below_10F', 'direction_peak_wind_speed',\n",
    "                                          'direction_max_wind_speed','max_wind_speed'])"
   ]
  },
  {
   "cell_type": "markdown",
   "id": "e86d5a02",
   "metadata": {},
   "source": [
    "Probamos haciendo una standarizacion normal comun y corriente ya que en teoria se eliminaron los outlier"
   ]
  },
  {
   "cell_type": "code",
   "execution_count": null,
   "id": "c1c3f32b",
   "metadata": {},
   "outputs": [],
   "source": [
    "from sklearn.preprocessing import StandardScaler"
   ]
  },
  {
   "cell_type": "code",
   "execution_count": null,
   "id": "b188f7ce",
   "metadata": {},
   "outputs": [],
   "source": [
    "transformer = StandardScaler().fit(X_train_final)\n",
    "temp_X_train_scaled = transformer.transform(X_train_final)"
   ]
  },
  {
   "cell_type": "code",
   "execution_count": null,
   "id": "ecb7b16e",
   "metadata": {},
   "outputs": [],
   "source": [
    "transformer2 = StandardScaler().fit(X_test_final)\n",
    "temp_X_test_scaled = transformer2.transform(X_test_final)"
   ]
  },
  {
   "cell_type": "code",
   "execution_count": null,
   "id": "fe8bc2b5",
   "metadata": {},
   "outputs": [],
   "source": [
    "#se debe transforma a un dataframe ya que el metodo transorm lo retorna en un ndarray\n",
    "temp_X_train_scaled_df = pd.DataFrame(temp_X_train_scaled, columns=X_train_final.columns)\n",
    "temp_X_train_scaled_df.describe()"
   ]
  },
  {
   "cell_type": "code",
   "execution_count": null,
   "id": "aa50ba88",
   "metadata": {},
   "outputs": [],
   "source": [
    "#se debe transforma a un dataframe ya que el metodo transorm lo retorna en un ndarray\n",
    "temp_X_test_scaled_df = pd.DataFrame(temp_X_test_scaled, columns=X_test_final.columns)\n",
    "temp_X_test_scaled_df.describe()"
   ]
  },
  {
   "cell_type": "code",
   "execution_count": null,
   "id": "2da1ba91",
   "metadata": {},
   "outputs": [],
   "source": [
    "temp_X_train_scaled_df.shape"
   ]
  },
  {
   "cell_type": "code",
   "execution_count": null,
   "id": "a058858e",
   "metadata": {},
   "outputs": [],
   "source": [
    "temp_X_test_scaled_df.shape"
   ]
  },
  {
   "cell_type": "code",
   "execution_count": null,
   "id": "d7185186",
   "metadata": {},
   "outputs": [],
   "source": [
    "temp_y_train.shape"
   ]
  },
  {
   "cell_type": "code",
   "execution_count": null,
   "id": "d9f572c9",
   "metadata": {},
   "outputs": [],
   "source": [
    "temp_y_test.shape"
   ]
  },
  {
   "cell_type": "code",
   "execution_count": null,
   "id": "ad3402ce",
   "metadata": {},
   "outputs": [],
   "source": [
    "#X_train_final.to_csv('data/preprocesada/X_train.csv')\n",
    "#X_test_final.to_csv('data/preprocesada/X_test.csv')\n",
    "\n",
    "temp_X_train_scaled_df.to_csv('data/preprocesada/X_train.csv')\n",
    "temp_X_test_scaled_df.to_csv('data/preprocesada/X_test.csv')\n",
    "\n",
    "temp_y_train.to_csv('data/preprocesada/y_train.csv')\n",
    "temp_y_test.to_csv('data/preprocesada/y_test.csv')"
   ]
  }
 ],
 "metadata": {
  "kernelspec": {
   "display_name": "Python 3 (ipykernel)",
   "language": "python",
   "name": "python3"
  },
  "language_info": {
   "codemirror_mode": {
    "name": "ipython",
    "version": 3
   },
   "file_extension": ".py",
   "mimetype": "text/x-python",
   "name": "python",
   "nbconvert_exporter": "python",
   "pygments_lexer": "ipython3",
   "version": "3.9.7"
  }
 },
 "nbformat": 4,
 "nbformat_minor": 5
}
