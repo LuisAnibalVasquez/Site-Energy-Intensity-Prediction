{
 "cells": [
  {
   "cell_type": "code",
   "execution_count": 38,
   "id": "cd1a84ea",
   "metadata": {},
   "outputs": [],
   "source": [
    "import pandas as pd\n",
    "\n",
    "from sklearn.linear_model import LinearRegression\n",
    "from sklearn.tree import DecisionTreeRegressor\n",
    "from sklearn.svm import SVR\n",
    "from sklearn import linear_model\n",
    "from sklearn.ensemble import RandomForestRegressor\n",
    "from sklearn.datasets import make_regression\n",
    "from sklearn.ensemble import RandomForestRegressor"
   ]
  },
  {
   "cell_type": "code",
   "execution_count": 39,
   "id": "f91877f8",
   "metadata": {},
   "outputs": [],
   "source": [
    "pd.set_option('display.max_columns', None)\n",
    "pd.set_option('display.max_rows', None)\n",
    "pd.set_option('precision', 3)"
   ]
  },
  {
   "cell_type": "code",
   "execution_count": 40,
   "id": "ee21afec",
   "metadata": {},
   "outputs": [],
   "source": [
    "X_train = pd.read_csv('data/preprocesada/X_train.csv')\n",
    "y_train = pd.read_csv('data/preprocesada/y_train.csv')\n",
    "\n",
    "X_test = pd.read_csv('data/preprocesada/X_test.csv')\n",
    "y_test = pd.read_csv('data/preprocesada/y_test.csv')"
   ]
  },
  {
   "cell_type": "code",
   "execution_count": 41,
   "id": "29aa88d8",
   "metadata": {},
   "outputs": [],
   "source": [
    "def evaluate_model(model, x_test, y_test):\n",
    "    from sklearn import metrics\n",
    "    y_pred = model.predict(x_test)\n",
    "    rmse = metrics.mean_squared_error(y_test, y_pred, squared=False)\n",
    "    return {'rmse': rmse}"
   ]
  },
  {
   "cell_type": "code",
   "execution_count": 42,
   "id": "e91cd006",
   "metadata": {},
   "outputs": [],
   "source": [
    "def generate_model(modelName, X_train, X_test, y_train, y_test ):    \n",
    "    \n",
    "    if modelName == 'LinearRegression':\n",
    "        model = LinearRegression()\n",
    "        model.fit(X_train, y_train)\n",
    "        rf_eval = evaluate_model(model, X_test, y_test)\n",
    "        print('RMSE:', rf_eval['rmse'])   \n",
    "    if modelName == 'DecisionTreeRegressor':\n",
    "            model = DecisionTreeRegressor(max_depth=3)\n",
    "            model.fit(X_train, y_train)\n",
    "            rf_eval = evaluate_model(model, X_test, y_test)\n",
    "            print('RMSE:', rf_eval['rmse'])   \n",
    "    if modelName == 'SVR':\n",
    "            model = SVR()\n",
    "            model.fit(X_train, y_train['site_eui'])\n",
    "            rf_eval = evaluate_model(model, X_test, y_test)\n",
    "            print('RMSE:', rf_eval['rmse'])             \n",
    "    if modelName == 'Lasso':\n",
    "            model = linear_model.Lasso(alpha=0.1,  tol=1e-2)\n",
    "            model.fit(X_train, y_train)\n",
    "            rf_eval = evaluate_model(model, X_test, y_test)\n",
    "            print('RMSE:', rf_eval['rmse'])   \n",
    "    if modelName == 'RandomForestRegressor':\n",
    "        model = RandomForestRegressor(max_depth=3)\n",
    "        model.fit(X_train, y_train)\n",
    "        rf_eval = evaluate_model(model, X_test, y_test)\n",
    "        print('RMSE:', rf_eval['rmse'])"
   ]
  },
  {
   "cell_type": "code",
   "execution_count": 43,
   "id": "4e277c0e",
   "metadata": {},
   "outputs": [
    {
     "name": "stdout",
     "output_type": "stream",
     "text": [
      "RMSE: 11677.766407679821\n"
     ]
    }
   ],
   "source": [
    "generate_model('LinearRegression', X_train, X_test, y_train, y_test)"
   ]
  },
  {
   "cell_type": "code",
   "execution_count": 44,
   "id": "2f6b9a73",
   "metadata": {},
   "outputs": [
    {
     "name": "stdout",
     "output_type": "stream",
     "text": [
      "RMSE: 4630.566084435585\n"
     ]
    }
   ],
   "source": [
    "generate_model('DecisionTreeRegressor', X_train, X_test, y_train, y_test)"
   ]
  },
  {
   "cell_type": "code",
   "execution_count": 45,
   "id": "8b9d9710",
   "metadata": {},
   "outputs": [
    {
     "name": "stdout",
     "output_type": "stream",
     "text": [
      "RMSE: 8552.867123997547\n"
     ]
    }
   ],
   "source": [
    "generate_model('Lasso', X_train, X_test, y_train, y_test)"
   ]
  },
  {
   "cell_type": "code",
   "execution_count": 46,
   "id": "09b82a82",
   "metadata": {},
   "outputs": [
    {
     "name": "stdout",
     "output_type": "stream",
     "text": [
      "RMSE: 6541.459530650282\n"
     ]
    }
   ],
   "source": [
    "generate_model('RandomForestRegressor', X_train, X_test, y_train, y_test)"
   ]
  }
 ],
 "metadata": {
  "kernelspec": {
   "display_name": "Python 3 (ipykernel)",
   "language": "python",
   "name": "python3"
  },
  "language_info": {
   "codemirror_mode": {
    "name": "ipython",
    "version": 3
   },
   "file_extension": ".py",
   "mimetype": "text/x-python",
   "name": "python",
   "nbconvert_exporter": "python",
   "pygments_lexer": "ipython3",
   "version": "3.9.7"
  }
 },
 "nbformat": 4,
 "nbformat_minor": 5
}
