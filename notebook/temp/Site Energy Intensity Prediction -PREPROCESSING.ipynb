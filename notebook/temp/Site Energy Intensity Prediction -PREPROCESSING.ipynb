{
 "cells": [
  {
   "cell_type": "code",
   "execution_count": null,
   "id": "35217b17",
   "metadata": {},
   "outputs": [],
   "source": [
    "import pandas as pd"
   ]
  },
  {
   "cell_type": "code",
   "execution_count": null,
   "id": "87b6bba3",
   "metadata": {},
   "outputs": [],
   "source": [
    "pd.set_option('display.max_columns', None)\n",
    "pd.set_option('display.max_rows', None)"
   ]
  },
  {
   "cell_type": "code",
   "execution_count": null,
   "id": "d9567328",
   "metadata": {},
   "outputs": [],
   "source": [
    "#este es el set de entrtenammiento completo el cual se prepocesara y se generar 2 nuevos CSV  X e y para train\n",
    "df_train = pd.read_csv('data/raw/train_dataset.csv')\n",
    "\n",
    "#estos son los set de datos de test los cuales se preprocesaran y se generar 2 nuevos CSV para test\n",
    "df_test = pd.read_csv('data/raw/x_test.csv')\n",
    "tmp_y_test_final = pd.read_csv('data/raw/y_test.csv')"
   ]
  },
  {
   "cell_type": "markdown",
   "id": "e48b0733",
   "metadata": {},
   "source": [
    "Primero se imputan valores en las columnas que contienen nulos en el dataset DE PRUEBA\n",
    "\n",
    "year_built, energy_star_rating, direction_max_wind_speed, direction_peak_wind_speed, max_wind_speed, days_with_fog\n"
   ]
  },
  {
   "cell_type": "code",
   "execution_count": null,
   "id": "f72f4a2a",
   "metadata": {},
   "outputs": [],
   "source": [
    "# Se obtienen los valores antes de imputar para poder imputra la misma media en ambos set de datos\n",
    "a = df_train['year_built'].mean()\n",
    "b = df_train['energy_star_rating'].mean()\n",
    "c = df_train['direction_max_wind_speed'].mean()\n",
    "d = df_train['direction_peak_wind_speed'].mean()\n",
    "e = df_train['max_wind_speed'].mean()\n",
    "f = df_train['days_with_fog'].mean()\n",
    "\n",
    "print(e)\n",
    "print(f)"
   ]
  },
  {
   "cell_type": "code",
   "execution_count": null,
   "id": "eefe28ed",
   "metadata": {},
   "outputs": [],
   "source": [
    "df_train['year_built'].fillna(a, inplace=True)\n",
    "df_train['energy_star_rating'].fillna(b, inplace=True)\n",
    "df_train['direction_max_wind_speed'].fillna(c, inplace=True)\n",
    "df_train['direction_peak_wind_speed'].fillna(d, inplace=True)\n",
    "df_train['max_wind_speed'].fillna(e, inplace=True)\n",
    "df_train['days_with_fog'].fillna(f, inplace=True)"
   ]
  },
  {
   "cell_type": "markdown",
   "id": "36f56852",
   "metadata": {},
   "source": [
    "Ahoar se imputan los valores nulos en el DF de TEST pero con los valores del DF de TRAIN"
   ]
  },
  {
   "cell_type": "code",
   "execution_count": null,
   "id": "709e31f2",
   "metadata": {},
   "outputs": [],
   "source": [
    "df_test['year_built'].fillna(a, inplace=True)\n",
    "df_test['energy_star_rating'].fillna(b, inplace=True)\n",
    "df_test['direction_max_wind_speed'].fillna(c, inplace=True)\n",
    "df_test['direction_peak_wind_speed'].fillna(d, inplace=True)\n",
    "df_test['max_wind_speed'].fillna(e, inplace=True)\n",
    "df_test['days_with_fog'].fillna(f, inplace=True)"
   ]
  },
  {
   "cell_type": "code",
   "execution_count": null,
   "id": "87a564f5",
   "metadata": {},
   "outputs": [],
   "source": [
    "df_train.isnull().sum()"
   ]
  },
  {
   "cell_type": "code",
   "execution_count": null,
   "id": "76004bd7",
   "metadata": {},
   "outputs": [],
   "source": [
    "df_test.isnull().sum()"
   ]
  },
  {
   "cell_type": "code",
   "execution_count": null,
   "id": "b3162d40",
   "metadata": {},
   "outputs": [],
   "source": [
    "#se genera el nuevo DF sin las columnas categoricas\n",
    "X_train_final = df_train[['Year_Factor', \n",
    "                           'floor_area', 'year_built', 'energy_star_rating', 'ELEVATION',\n",
    "                           'january_min_temp', 'january_avg_temp', 'january_max_temp',\n",
    "                           'february_min_temp', 'february_avg_temp', 'february_max_temp',\n",
    "                           'march_min_temp', 'march_avg_temp', 'march_max_temp', 'april_min_temp',\n",
    "                           'april_avg_temp', 'april_max_temp', 'may_min_temp', 'may_avg_temp',\n",
    "                           'may_max_temp', 'june_min_temp', 'june_avg_temp', 'june_max_temp',\n",
    "                           'july_min_temp', 'july_avg_temp', 'july_max_temp', 'august_min_temp',\n",
    "                           'august_avg_temp', 'august_max_temp', 'september_min_temp',\n",
    "                           'september_avg_temp', 'september_max_temp', 'october_min_temp',\n",
    "                           'october_avg_temp', 'october_max_temp', 'november_min_temp',\n",
    "                           'november_avg_temp', 'november_max_temp', 'december_min_temp',\n",
    "                           'december_avg_temp', 'december_max_temp', 'cooling_degree_days',\n",
    "                           'heating_degree_days', 'precipitation_inches', 'snowfall_inches',\n",
    "                           'snowdepth_inches', 'avg_temp', 'days_below_30F', 'days_below_20F',\n",
    "                           'days_below_10F', 'days_below_0F', 'days_above_80F', 'days_above_90F',\n",
    "                           'days_above_100F', 'days_above_110F', 'direction_max_wind_speed',\n",
    "                           'direction_peak_wind_speed', 'max_wind_speed', 'days_with_fog',\n",
    "                           'id']]\n"
   ]
  },
  {
   "cell_type": "code",
   "execution_count": null,
   "id": "acb96d2d",
   "metadata": {},
   "outputs": [],
   "source": [
    "# se genera el nuevo DF de TEST sin las variables categoricas\n",
    "x_test_final = df_test[['Year_Factor', \n",
    "                           'floor_area', 'year_built', 'energy_star_rating', 'ELEVATION',\n",
    "                           'january_min_temp', 'january_avg_temp', 'january_max_temp',\n",
    "                           'february_min_temp', 'february_avg_temp', 'february_max_temp',\n",
    "                           'march_min_temp', 'march_avg_temp', 'march_max_temp', 'april_min_temp',\n",
    "                           'april_avg_temp', 'april_max_temp', 'may_min_temp', 'may_avg_temp',\n",
    "                           'may_max_temp', 'june_min_temp', 'june_avg_temp', 'june_max_temp',\n",
    "                           'july_min_temp', 'july_avg_temp', 'july_max_temp', 'august_min_temp',\n",
    "                           'august_avg_temp', 'august_max_temp', 'september_min_temp',\n",
    "                           'september_avg_temp', 'september_max_temp', 'october_min_temp',\n",
    "                           'october_avg_temp', 'october_max_temp', 'november_min_temp',\n",
    "                           'november_avg_temp', 'november_max_temp', 'december_min_temp',\n",
    "                           'december_avg_temp', 'december_max_temp', 'cooling_degree_days',\n",
    "                           'heating_degree_days', 'precipitation_inches', 'snowfall_inches',\n",
    "                           'snowdepth_inches', 'avg_temp', 'days_below_30F', 'days_below_20F',\n",
    "                           'days_below_10F', 'days_below_0F', 'days_above_80F', 'days_above_90F',\n",
    "                           'days_above_100F', 'days_above_110F', 'direction_max_wind_speed',\n",
    "                           'direction_peak_wind_speed', 'max_wind_speed', 'days_with_fog', 'id']]"
   ]
  },
  {
   "cell_type": "code",
   "execution_count": null,
   "id": "ce2a48b3",
   "metadata": {},
   "outputs": [],
   "source": [
    "# se genera el nuevo DF de train SOLO CON LA VARIABLE OBJETIVO\n",
    "y_train_final = df_train['site_eui']"
   ]
  },
  {
   "cell_type": "code",
   "execution_count": null,
   "id": "bb56d52f",
   "metadata": {},
   "outputs": [],
   "source": [
    "y_test_final = tmp_y_test_final['site_eui']"
   ]
  },
  {
   "cell_type": "code",
   "execution_count": null,
   "id": "6d176f46",
   "metadata": {},
   "outputs": [],
   "source": [
    "x_test_final.shape"
   ]
  },
  {
   "cell_type": "code",
   "execution_count": null,
   "id": "b2d261ac",
   "metadata": {},
   "outputs": [],
   "source": [
    "X_train_final.shape"
   ]
  },
  {
   "cell_type": "code",
   "execution_count": null,
   "id": "9f94834a",
   "metadata": {},
   "outputs": [],
   "source": [
    "y_train_final.shape"
   ]
  },
  {
   "cell_type": "code",
   "execution_count": null,
   "id": "ee305853",
   "metadata": {},
   "outputs": [],
   "source": [
    "x_test_final.shape"
   ]
  },
  {
   "cell_type": "code",
   "execution_count": null,
   "id": "d599d6ae",
   "metadata": {},
   "outputs": [],
   "source": [
    "y_test_final.shape"
   ]
  },
  {
   "cell_type": "code",
   "execution_count": null,
   "id": "ad3402ce",
   "metadata": {},
   "outputs": [],
   "source": [
    "X_train_final.to_csv('data/preprocesada/X_train.csv')\n",
    "y_train_final.to_csv('data/preprocesada/y_train.csv')\n",
    "\n",
    "x_test_final.to_csv('data/preprocesada/X_test.csv')\n",
    "y_test_final.to_csv('data/preprocesada/y_test.csv')"
   ]
  }
 ],
 "metadata": {
  "kernelspec": {
   "display_name": "Python 3 (ipykernel)",
   "language": "python",
   "name": "python3"
  },
  "language_info": {
   "codemirror_mode": {
    "name": "ipython",
    "version": 3
   },
   "file_extension": ".py",
   "mimetype": "text/x-python",
   "name": "python",
   "nbconvert_exporter": "python",
   "pygments_lexer": "ipython3",
   "version": "3.10.11"
  }
 },
 "nbformat": 4,
 "nbformat_minor": 5
}
