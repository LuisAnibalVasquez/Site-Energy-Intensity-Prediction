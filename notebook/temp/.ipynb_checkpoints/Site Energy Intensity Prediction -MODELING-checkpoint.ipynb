{
 "cells": [
  {
   "cell_type": "code",
   "execution_count": 1,
   "id": "cd1a84ea",
   "metadata": {},
   "outputs": [],
   "source": [
    "import pandas as pd\n",
    "\n",
    "from sklearn.linear_model import LinearRegression\n",
    "from sklearn.tree import DecisionTreeRegressor\n",
    "from sklearn.svm import SVR\n",
    "from sklearn import linear_model\n",
    "from sklearn.ensemble import RandomForestRegressor\n",
    "from sklearn.datasets import make_regression\n",
    "from sklearn.ensemble import RandomForestRegressor"
   ]
  },
  {
   "cell_type": "code",
   "execution_count": 2,
   "id": "f91877f8",
   "metadata": {},
   "outputs": [],
   "source": [
    "pd.set_option('display.max_columns', None)\n",
    "pd.set_option('display.max_rows', None)\n",
    "pd.set_option('precision', 3)"
   ]
  },
  {
   "cell_type": "code",
   "execution_count": 3,
   "id": "ee21afec",
   "metadata": {},
   "outputs": [],
   "source": [
    "X_train = pd.read_csv('data/preprocesada/X_train.csv')\n",
    "y_train = pd.read_csv('data/preprocesada/y_train.csv')\n",
    "\n",
    "X_test = pd.read_csv('data/preprocesada/X_test.csv')\n",
    "y_test = pd.read_csv('data/preprocesada/y_test.csv')"
   ]
  },
  {
   "cell_type": "code",
   "execution_count": 4,
   "id": "29aa88d8",
   "metadata": {},
   "outputs": [],
   "source": [
    "def evaluate_model(model, x_test, y_test):\n",
    "    from sklearn import metrics\n",
    "    y_pred = model.predict(x_test)\n",
    "    rmse = metrics.mean_squared_error(y_test, y_pred, squared=False)\n",
    "    return {'rmse': rmse}"
   ]
  },
  {
   "cell_type": "code",
   "execution_count": 10,
   "id": "e91cd006",
   "metadata": {},
   "outputs": [],
   "source": [
    "def generate_model(modelName, X_train, X_test, y_train, y_test ):    \n",
    "    \n",
    "    if modelName == 'LinearRegression':\n",
    "        model = LinearRegression()\n",
    "        model.fit(X_train, y_train)\n",
    "        rf_eval = evaluate_model(model, X_test, y_test)\n",
    "        print('RMSE:', rf_eval['rmse'])   \n",
    "    if modelName == 'DecisionTreeRegressor':\n",
    "            model = DecisionTreeRegressor(max_depth=3)\n",
    "            model.fit(X_train, y_train)\n",
    "            rf_eval = evaluate_model(model, X_test, y_test)\n",
    "            print('RMSE:', rf_eval['rmse'])   \n",
    "    if modelName == 'SVR':\n",
    "            model = SVR()\n",
    "            model.fit(X_train, y_train['site_eui'])\n",
    "            rf_eval = evaluate_model(model, X_test, y_test)\n",
    "            print('RMSE:', rf_eval['rmse'])             \n",
    "    if modelName == 'Lasso':\n",
    "            model = linear_model.Lasso(alpha=0.1, normalize=True, tol=1e-2)\n",
    "            model.fit(X_train, y_train)\n",
    "            rf_eval = evaluate_model(model, X_test, y_test)\n",
    "            print('RMSE:', rf_eval['rmse'])   \n",
    "    if modelName == 'RandomForestRegressor':\n",
    "        model = RandomForestRegressor(max_depth=3)\n",
    "        model.fit(X_train, y_train)\n",
    "        rf_eval = evaluate_model(model, X_test, y_test)\n",
    "        print('RMSE:', rf_eval['rmse'])"
   ]
  },
  {
   "cell_type": "code",
   "execution_count": 6,
   "id": "4e277c0e",
   "metadata": {},
   "outputs": [
    {
     "name": "stdout",
     "output_type": "stream",
     "text": [
      "RMSE: 12578.625670954438\n"
     ]
    }
   ],
   "source": [
    "generate_model('LinearRegression', X_train, X_test, y_train, y_test)"
   ]
  },
  {
   "cell_type": "code",
   "execution_count": 7,
   "id": "2f6b9a73",
   "metadata": {},
   "outputs": [
    {
     "name": "stdout",
     "output_type": "stream",
     "text": [
      "RMSE: 4630.566084435585\n"
     ]
    }
   ],
   "source": [
    "generate_model('DecisionTreeRegressor', X_train, X_test, y_train, y_test)"
   ]
  },
  {
   "cell_type": "code",
   "execution_count": 11,
   "id": "8b9d9710",
   "metadata": {},
   "outputs": [
    {
     "ename": "TypeError",
     "evalue": "__init__() got an unexpected keyword argument 'normalize'",
     "output_type": "error",
     "traceback": [
      "\u001b[1;31m---------------------------------------------------------------------------\u001b[0m",
      "\u001b[1;31mTypeError\u001b[0m                                 Traceback (most recent call last)",
      "\u001b[1;32m~\\AppData\\Local\\Temp/ipykernel_2372/479531067.py\u001b[0m in \u001b[0;36m<module>\u001b[1;34m\u001b[0m\n\u001b[1;32m----> 1\u001b[1;33m \u001b[0mgenerate_model\u001b[0m\u001b[1;33m(\u001b[0m\u001b[1;34m'Lasso'\u001b[0m\u001b[1;33m,\u001b[0m \u001b[0mX_train\u001b[0m\u001b[1;33m,\u001b[0m \u001b[0mX_test\u001b[0m\u001b[1;33m,\u001b[0m \u001b[0my_train\u001b[0m\u001b[1;33m,\u001b[0m \u001b[0my_test\u001b[0m\u001b[1;33m)\u001b[0m\u001b[1;33m\u001b[0m\u001b[1;33m\u001b[0m\u001b[0m\n\u001b[0m",
      "\u001b[1;32m~\\AppData\\Local\\Temp/ipykernel_2372/444235801.py\u001b[0m in \u001b[0;36mgenerate_model\u001b[1;34m(modelName, X_train, X_test, y_train, y_test)\u001b[0m\n\u001b[0;32m     17\u001b[0m             \u001b[0mprint\u001b[0m\u001b[1;33m(\u001b[0m\u001b[1;34m'RMSE:'\u001b[0m\u001b[1;33m,\u001b[0m \u001b[0mrf_eval\u001b[0m\u001b[1;33m[\u001b[0m\u001b[1;34m'rmse'\u001b[0m\u001b[1;33m]\u001b[0m\u001b[1;33m)\u001b[0m\u001b[1;33m\u001b[0m\u001b[1;33m\u001b[0m\u001b[0m\n\u001b[0;32m     18\u001b[0m     \u001b[1;32mif\u001b[0m \u001b[0mmodelName\u001b[0m \u001b[1;33m==\u001b[0m \u001b[1;34m'Lasso'\u001b[0m\u001b[1;33m:\u001b[0m\u001b[1;33m\u001b[0m\u001b[1;33m\u001b[0m\u001b[0m\n\u001b[1;32m---> 19\u001b[1;33m             \u001b[0mmodel\u001b[0m \u001b[1;33m=\u001b[0m \u001b[0mlinear_model\u001b[0m\u001b[1;33m.\u001b[0m\u001b[0mLasso\u001b[0m\u001b[1;33m(\u001b[0m\u001b[0malpha\u001b[0m\u001b[1;33m=\u001b[0m\u001b[1;36m0.1\u001b[0m\u001b[1;33m,\u001b[0m \u001b[0mnormalize\u001b[0m\u001b[1;33m=\u001b[0m\u001b[1;32mTrue\u001b[0m\u001b[1;33m,\u001b[0m \u001b[0mtol\u001b[0m\u001b[1;33m=\u001b[0m\u001b[1;36m1e-2\u001b[0m\u001b[1;33m)\u001b[0m\u001b[1;33m\u001b[0m\u001b[1;33m\u001b[0m\u001b[0m\n\u001b[0m\u001b[0;32m     20\u001b[0m             \u001b[0mmodel\u001b[0m\u001b[1;33m.\u001b[0m\u001b[0mfit\u001b[0m\u001b[1;33m(\u001b[0m\u001b[0mX_train\u001b[0m\u001b[1;33m,\u001b[0m \u001b[0my_train\u001b[0m\u001b[1;33m)\u001b[0m\u001b[1;33m\u001b[0m\u001b[1;33m\u001b[0m\u001b[0m\n\u001b[0;32m     21\u001b[0m             \u001b[0mrf_eval\u001b[0m \u001b[1;33m=\u001b[0m \u001b[0mevaluate_model\u001b[0m\u001b[1;33m(\u001b[0m\u001b[0mmodel\u001b[0m\u001b[1;33m,\u001b[0m \u001b[0mX_test\u001b[0m\u001b[1;33m,\u001b[0m \u001b[0my_test\u001b[0m\u001b[1;33m)\u001b[0m\u001b[1;33m\u001b[0m\u001b[1;33m\u001b[0m\u001b[0m\n",
      "\u001b[1;31mTypeError\u001b[0m: __init__() got an unexpected keyword argument 'normalize'"
     ]
    }
   ],
   "source": [
    "generate_model('Lasso', X_train, X_test, y_train, y_test)"
   ]
  },
  {
   "cell_type": "code",
   "execution_count": 9,
   "id": "09b82a82",
   "metadata": {},
   "outputs": [
    {
     "name": "stdout",
     "output_type": "stream",
     "text": [
      "RMSE: 7692.865120044685\n"
     ]
    }
   ],
   "source": [
    "generate_model('RandomForestRegressor', X_train, X_test, y_train, y_test)"
   ]
  }
 ],
 "metadata": {
  "kernelspec": {
   "display_name": "Python 3 (ipykernel)",
   "language": "python",
   "name": "python3"
  },
  "language_info": {
   "codemirror_mode": {
    "name": "ipython",
    "version": 3
   },
   "file_extension": ".py",
   "mimetype": "text/x-python",
   "name": "python",
   "nbconvert_exporter": "python",
   "pygments_lexer": "ipython3",
   "version": "3.9.7"
  }
 },
 "nbformat": 4,
 "nbformat_minor": 5
}
