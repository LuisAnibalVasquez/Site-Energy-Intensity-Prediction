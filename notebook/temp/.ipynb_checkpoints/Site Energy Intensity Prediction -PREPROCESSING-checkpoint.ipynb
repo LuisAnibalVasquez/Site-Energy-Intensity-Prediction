{
 "cells": [
  {
   "cell_type": "code",
   "execution_count": 1,
   "id": "35217b17",
   "metadata": {},
   "outputs": [],
   "source": [
    "import pandas as pd"
   ]
  },
  {
   "cell_type": "code",
   "execution_count": 2,
   "id": "87b6bba3",
   "metadata": {},
   "outputs": [],
   "source": [
    "pd.set_option('display.max_columns', None)\n",
    "pd.set_option('display.max_rows', None)"
   ]
  },
  {
   "cell_type": "code",
   "execution_count": 3,
   "id": "d9567328",
   "metadata": {},
   "outputs": [],
   "source": [
    "#este es el set de entrtenammiento completo el cual se prepocesara y se generar 2 nuevos CSV  X e y para train\n",
    "df_train = pd.read_csv('data/raw/train_dataset.csv')\n",
    "\n",
    "#estos son los set de datos de test los cuales se preprocesaran y se generar 2 nuevos CSV para test\n",
    "df_test = pd.read_csv('data/raw/x_test.csv')\n",
    "tmp_y_test_final = pd.read_csv('data/raw/y_test.csv')"
   ]
  },
  {
   "cell_type": "markdown",
   "id": "e48b0733",
   "metadata": {},
   "source": [
    "Primero se imputan valores en las columnas que contienen nulos en el dataset DE PRUEBA\n",
    "\n",
    "year_built, energy_star_rating, direction_max_wind_speed, direction_peak_wind_speed, max_wind_speed, days_with_fog\n"
   ]
  },
  {
   "cell_type": "code",
   "execution_count": 4,
   "id": "f72f4a2a",
   "metadata": {},
   "outputs": [
    {
     "name": "stdout",
     "output_type": "stream",
     "text": [
      "4.190601297764961\n",
      "109.14205133340009\n"
     ]
    }
   ],
   "source": [
    "# Se obtienen los valores antes de imputar para poder imputra la misma media en ambos set de datos\n",
    "a = df_train['year_built'].mean()\n",
    "b = df_train['energy_star_rating'].mean()\n",
    "c = df_train['direction_max_wind_speed'].mean()\n",
    "d = df_train['direction_peak_wind_speed'].mean()\n",
    "e = df_train['max_wind_speed'].mean()\n",
    "f = df_train['days_with_fog'].mean()\n",
    "\n",
    "print(e)\n",
    "print(f)"
   ]
  },
  {
   "cell_type": "code",
   "execution_count": 5,
   "id": "eefe28ed",
   "metadata": {},
   "outputs": [],
   "source": [
    "df_train['year_built'].fillna(a, inplace=True)\n",
    "df_train['energy_star_rating'].fillna(b, inplace=True)\n",
    "df_train['direction_max_wind_speed'].fillna(c, inplace=True)\n",
    "df_train['direction_peak_wind_speed'].fillna(d, inplace=True)\n",
    "df_train['max_wind_speed'].fillna(e, inplace=True)\n",
    "df_train['days_with_fog'].fillna(f, inplace=True)"
   ]
  },
  {
   "cell_type": "markdown",
   "id": "36f56852",
   "metadata": {},
   "source": [
    "Ahoar se imputan los valores nulos en el DF de TEST pero con los valores del DF de TRAIN"
   ]
  },
  {
   "cell_type": "code",
   "execution_count": 6,
   "id": "709e31f2",
   "metadata": {},
   "outputs": [],
   "source": [
    "df_test['year_built'].fillna(a, inplace=True)\n",
    "df_test['energy_star_rating'].fillna(b, inplace=True)\n",
    "df_test['direction_max_wind_speed'].fillna(c, inplace=True)\n",
    "df_test['direction_peak_wind_speed'].fillna(d, inplace=True)\n",
    "df_test['max_wind_speed'].fillna(e, inplace=True)\n",
    "df_test['days_with_fog'].fillna(f, inplace=True)"
   ]
  },
  {
   "cell_type": "code",
   "execution_count": 7,
   "id": "87a564f5",
   "metadata": {},
   "outputs": [
    {
     "data": {
      "text/plain": [
       "Year_Factor                  0\n",
       "State_Factor                 0\n",
       "building_class               0\n",
       "facility_type                0\n",
       "floor_area                   0\n",
       "year_built                   0\n",
       "energy_star_rating           0\n",
       "ELEVATION                    0\n",
       "january_min_temp             0\n",
       "january_avg_temp             0\n",
       "january_max_temp             0\n",
       "february_min_temp            0\n",
       "february_avg_temp            0\n",
       "february_max_temp            0\n",
       "march_min_temp               0\n",
       "march_avg_temp               0\n",
       "march_max_temp               0\n",
       "april_min_temp               0\n",
       "april_avg_temp               0\n",
       "april_max_temp               0\n",
       "may_min_temp                 0\n",
       "may_avg_temp                 0\n",
       "may_max_temp                 0\n",
       "june_min_temp                0\n",
       "june_avg_temp                0\n",
       "june_max_temp                0\n",
       "july_min_temp                0\n",
       "july_avg_temp                0\n",
       "july_max_temp                0\n",
       "august_min_temp              0\n",
       "august_avg_temp              0\n",
       "august_max_temp              0\n",
       "september_min_temp           0\n",
       "september_avg_temp           0\n",
       "september_max_temp           0\n",
       "october_min_temp             0\n",
       "october_avg_temp             0\n",
       "october_max_temp             0\n",
       "november_min_temp            0\n",
       "november_avg_temp            0\n",
       "november_max_temp            0\n",
       "december_min_temp            0\n",
       "december_avg_temp            0\n",
       "december_max_temp            0\n",
       "cooling_degree_days          0\n",
       "heating_degree_days          0\n",
       "precipitation_inches         0\n",
       "snowfall_inches              0\n",
       "snowdepth_inches             0\n",
       "avg_temp                     0\n",
       "days_below_30F               0\n",
       "days_below_20F               0\n",
       "days_below_10F               0\n",
       "days_below_0F                0\n",
       "days_above_80F               0\n",
       "days_above_90F               0\n",
       "days_above_100F              0\n",
       "days_above_110F              0\n",
       "direction_max_wind_speed     0\n",
       "direction_peak_wind_speed    0\n",
       "max_wind_speed               0\n",
       "days_with_fog                0\n",
       "site_eui                     0\n",
       "id                           0\n",
       "dtype: int64"
      ]
     },
     "execution_count": 7,
     "metadata": {},
     "output_type": "execute_result"
    }
   ],
   "source": [
    "df_train.isnull().sum()"
   ]
  },
  {
   "cell_type": "code",
   "execution_count": 8,
   "id": "76004bd7",
   "metadata": {},
   "outputs": [
    {
     "data": {
      "text/plain": [
       "Year_Factor                  0\n",
       "State_Factor                 0\n",
       "building_class               0\n",
       "facility_type                0\n",
       "floor_area                   0\n",
       "year_built                   0\n",
       "energy_star_rating           0\n",
       "ELEVATION                    0\n",
       "january_min_temp             0\n",
       "january_avg_temp             0\n",
       "january_max_temp             0\n",
       "february_min_temp            0\n",
       "february_avg_temp            0\n",
       "february_max_temp            0\n",
       "march_min_temp               0\n",
       "march_avg_temp               0\n",
       "march_max_temp               0\n",
       "april_min_temp               0\n",
       "april_avg_temp               0\n",
       "april_max_temp               0\n",
       "may_min_temp                 0\n",
       "may_avg_temp                 0\n",
       "may_max_temp                 0\n",
       "june_min_temp                0\n",
       "june_avg_temp                0\n",
       "june_max_temp                0\n",
       "july_min_temp                0\n",
       "july_avg_temp                0\n",
       "july_max_temp                0\n",
       "august_min_temp              0\n",
       "august_avg_temp              0\n",
       "august_max_temp              0\n",
       "september_min_temp           0\n",
       "september_avg_temp           0\n",
       "september_max_temp           0\n",
       "october_min_temp             0\n",
       "october_avg_temp             0\n",
       "october_max_temp             0\n",
       "november_min_temp            0\n",
       "november_avg_temp            0\n",
       "november_max_temp            0\n",
       "december_min_temp            0\n",
       "december_avg_temp            0\n",
       "december_max_temp            0\n",
       "cooling_degree_days          0\n",
       "heating_degree_days          0\n",
       "precipitation_inches         0\n",
       "snowfall_inches              0\n",
       "snowdepth_inches             0\n",
       "avg_temp                     0\n",
       "days_below_30F               0\n",
       "days_below_20F               0\n",
       "days_below_10F               0\n",
       "days_below_0F                0\n",
       "days_above_80F               0\n",
       "days_above_90F               0\n",
       "days_above_100F              0\n",
       "days_above_110F              0\n",
       "direction_max_wind_speed     0\n",
       "direction_peak_wind_speed    0\n",
       "max_wind_speed               0\n",
       "days_with_fog                0\n",
       "id                           0\n",
       "dtype: int64"
      ]
     },
     "execution_count": 8,
     "metadata": {},
     "output_type": "execute_result"
    }
   ],
   "source": [
    "df_test.isnull().sum()"
   ]
  },
  {
   "cell_type": "code",
   "execution_count": 9,
   "id": "b3162d40",
   "metadata": {},
   "outputs": [],
   "source": [
    "#se genera el nuevo DF sin las columnas categoricas\n",
    "X_train_final = df_train[['Year_Factor', \n",
    "                           'floor_area', 'year_built', 'energy_star_rating', 'ELEVATION',\n",
    "                           'january_min_temp', 'january_avg_temp', 'january_max_temp',\n",
    "                           'february_min_temp', 'february_avg_temp', 'february_max_temp',\n",
    "                           'march_min_temp', 'march_avg_temp', 'march_max_temp', 'april_min_temp',\n",
    "                           'april_avg_temp', 'april_max_temp', 'may_min_temp', 'may_avg_temp',\n",
    "                           'may_max_temp', 'june_min_temp', 'june_avg_temp', 'june_max_temp',\n",
    "                           'july_min_temp', 'july_avg_temp', 'july_max_temp', 'august_min_temp',\n",
    "                           'august_avg_temp', 'august_max_temp', 'september_min_temp',\n",
    "                           'september_avg_temp', 'september_max_temp', 'october_min_temp',\n",
    "                           'october_avg_temp', 'october_max_temp', 'november_min_temp',\n",
    "                           'november_avg_temp', 'november_max_temp', 'december_min_temp',\n",
    "                           'december_avg_temp', 'december_max_temp', 'cooling_degree_days',\n",
    "                           'heating_degree_days', 'precipitation_inches', 'snowfall_inches',\n",
    "                           'snowdepth_inches', 'avg_temp', 'days_below_30F', 'days_below_20F',\n",
    "                           'days_below_10F', 'days_below_0F', 'days_above_80F', 'days_above_90F',\n",
    "                           'days_above_100F', 'days_above_110F', 'direction_max_wind_speed',\n",
    "                           'direction_peak_wind_speed', 'max_wind_speed', 'days_with_fog',\n",
    "                           'id']]\n"
   ]
  },
  {
   "cell_type": "code",
   "execution_count": 10,
   "id": "acb96d2d",
   "metadata": {},
   "outputs": [],
   "source": [
    "# se genera el nuevo DF de TEST sin las variables categoricas\n",
    "x_test_final = df_test[['Year_Factor', \n",
    "                           'floor_area', 'year_built', 'energy_star_rating', 'ELEVATION',\n",
    "                           'january_min_temp', 'january_avg_temp', 'january_max_temp',\n",
    "                           'february_min_temp', 'february_avg_temp', 'february_max_temp',\n",
    "                           'march_min_temp', 'march_avg_temp', 'march_max_temp', 'april_min_temp',\n",
    "                           'april_avg_temp', 'april_max_temp', 'may_min_temp', 'may_avg_temp',\n",
    "                           'may_max_temp', 'june_min_temp', 'june_avg_temp', 'june_max_temp',\n",
    "                           'july_min_temp', 'july_avg_temp', 'july_max_temp', 'august_min_temp',\n",
    "                           'august_avg_temp', 'august_max_temp', 'september_min_temp',\n",
    "                           'september_avg_temp', 'september_max_temp', 'october_min_temp',\n",
    "                           'october_avg_temp', 'october_max_temp', 'november_min_temp',\n",
    "                           'november_avg_temp', 'november_max_temp', 'december_min_temp',\n",
    "                           'december_avg_temp', 'december_max_temp', 'cooling_degree_days',\n",
    "                           'heating_degree_days', 'precipitation_inches', 'snowfall_inches',\n",
    "                           'snowdepth_inches', 'avg_temp', 'days_below_30F', 'days_below_20F',\n",
    "                           'days_below_10F', 'days_below_0F', 'days_above_80F', 'days_above_90F',\n",
    "                           'days_above_100F', 'days_above_110F', 'direction_max_wind_speed',\n",
    "                           'direction_peak_wind_speed', 'max_wind_speed', 'days_with_fog', 'id']]"
   ]
  },
  {
   "cell_type": "code",
   "execution_count": 11,
   "id": "ce2a48b3",
   "metadata": {},
   "outputs": [],
   "source": [
    "# se genera el nuevo DF de train SOLO CON LA VARIABLE OBJETIVO\n",
    "y_train_final = df_train['site_eui']"
   ]
  },
  {
   "cell_type": "code",
   "execution_count": 12,
   "id": "bb56d52f",
   "metadata": {},
   "outputs": [],
   "source": [
    "y_test_final = tmp_y_test_final['site_eui']"
   ]
  },
  {
   "cell_type": "code",
   "execution_count": 13,
   "id": "6d176f46",
   "metadata": {},
   "outputs": [
    {
     "data": {
      "text/plain": [
       "(9705, 60)"
      ]
     },
     "execution_count": 13,
     "metadata": {},
     "output_type": "execute_result"
    }
   ],
   "source": [
    "x_test_final.shape"
   ]
  },
  {
   "cell_type": "code",
   "execution_count": 14,
   "id": "b2d261ac",
   "metadata": {},
   "outputs": [
    {
     "data": {
      "text/plain": [
       "(75757, 60)"
      ]
     },
     "execution_count": 14,
     "metadata": {},
     "output_type": "execute_result"
    }
   ],
   "source": [
    "X_train_final.shape"
   ]
  },
  {
   "cell_type": "code",
   "execution_count": 15,
   "id": "9f94834a",
   "metadata": {},
   "outputs": [
    {
     "data": {
      "text/plain": [
       "(75757,)"
      ]
     },
     "execution_count": 15,
     "metadata": {},
     "output_type": "execute_result"
    }
   ],
   "source": [
    "y_train_final.shape"
   ]
  },
  {
   "cell_type": "code",
   "execution_count": 16,
   "id": "ee305853",
   "metadata": {},
   "outputs": [
    {
     "data": {
      "text/plain": [
       "(9705, 60)"
      ]
     },
     "execution_count": 16,
     "metadata": {},
     "output_type": "execute_result"
    }
   ],
   "source": [
    "x_test_final.shape"
   ]
  },
  {
   "cell_type": "code",
   "execution_count": 17,
   "id": "d599d6ae",
   "metadata": {},
   "outputs": [
    {
     "data": {
      "text/plain": [
       "(9705,)"
      ]
     },
     "execution_count": 17,
     "metadata": {},
     "output_type": "execute_result"
    }
   ],
   "source": [
    "y_test_final.shape"
   ]
  },
  {
   "cell_type": "code",
   "execution_count": 18,
   "id": "ad3402ce",
   "metadata": {},
   "outputs": [],
   "source": [
    "X_train_final.to_csv('data/preprocesada/X_train.csv')\n",
    "y_train_final.to_csv('data/preprocesada/y_train.csv')\n",
    "\n",
    "x_test_final.to_csv('data/preprocesada/X_test.csv')\n",
    "y_test_final.to_csv('data/preprocesada/y_test.csv')"
   ]
  }
 ],
 "metadata": {
  "kernelspec": {
   "display_name": "Python 3 (ipykernel)",
   "language": "python",
   "name": "python3"
  },
  "language_info": {
   "codemirror_mode": {
    "name": "ipython",
    "version": 3
   },
   "file_extension": ".py",
   "mimetype": "text/x-python",
   "name": "python",
   "nbconvert_exporter": "python",
   "pygments_lexer": "ipython3",
   "version": "3.9.7"
  }
 },
 "nbformat": 4,
 "nbformat_minor": 5
}
