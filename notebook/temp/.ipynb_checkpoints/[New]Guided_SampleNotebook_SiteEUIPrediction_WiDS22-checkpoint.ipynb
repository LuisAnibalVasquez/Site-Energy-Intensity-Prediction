{
 "cells": [
  {
   "cell_type": "markdown",
   "metadata": {},
   "source": [
    "# <span style=\"font-family:cursive;text-align:center\">⬇️ Import Libraries</span>"
   ]
  },
  {
   "cell_type": "code",
   "execution_count": 3,
   "metadata": {
    "id": "TZNoWWNz9GQ7"
   },
   "outputs": [],
   "source": [
    "import numpy as np\n",
    "import pandas as pd\n",
    "\n",
    "\n",
    "import matplotlib.pyplot as plt\n",
    "import matplotlib.style as style\n",
    "import seaborn as sns\n",
    "\n",
    "\n",
    "# from sklearn.base import BaseEstimator, TransformerMixin\n",
    "# \n",
    "from sklearn.preprocessing import LabelEncoder\n",
    "from sklearn.impute import KNNImputer\n",
    "from category_encoders import TargetEncoder\n",
    "\n",
    "from sklearn.feature_selection import SelectFromModel\n",
    "from sklearn.linear_model import Ridge, Lasso, RANSACRegressor\n",
    "\n",
    "from sklearn.model_selection import cross_val_score, KFold, train_test_split\n",
    "from sklearn.metrics import mean_squared_error, r2_score\n",
    "from sklearn.metrics import mean_absolute_error\n",
    "\n",
    "from catboost import CatBoostRegressor\n",
    "from sklearn.ensemble import RandomForestRegressor\n",
    "from xgboost import XGBRegressor\n",
    "\n",
    "\n",
    "\n",
    "import optuna\n",
    "\n",
    "\n",
    "import tqdm\n",
    "import joblib\n",
    "import pickle\n",
    "# serializd your object and svaes its binary form \n",
    "\n",
    "import shap\n",
    "\n",
    "\n",
    "pd.set_option('display.max_columns', 70)\n",
    "plt.rcParams['axes.spines.top']=False\n",
    "plt.rcParams['axes.spines.right']=False\n",
    "\n",
    "style.use('ggplot')\n",
    "sns.set_palette('Set2')\n",
    "# blue, orange, green\n",
    "\n",
    "import warnings\n",
    "warnings.filterwarnings('ignore')"
   ]
  },
  {
   "cell_type": "markdown",
   "metadata": {},
   "source": [
    "# <span style=\"font-family:cursive;text-align:center\">⬇️ Import Data</span>"
   ]
  },
  {
   "cell_type": "code",
   "execution_count": 5,
   "metadata": {
    "id": "Ub6KGizfGCtU"
   },
   "outputs": [],
   "source": [
    "train = pd.read_csv('../../data/raw/train_dataset.csv')\n",
    "test = pd.read_csv('../../data/raw/x_test.csv')"
   ]
  },
  {
   "cell_type": "code",
   "execution_count": 6,
   "metadata": {
    "id": "ssNKRgGSLtA5"
   },
   "outputs": [],
   "source": [
    "df_train = train.copy()\n",
    "df_test = test.copy()"
   ]
  },
  {
   "cell_type": "code",
   "execution_count": 7,
   "metadata": {
    "colab": {
     "base_uri": "https://localhost:8080/"
    },
    "id": "8O_xm-VaL3MI",
    "outputId": "9069d8de-e543-4d3b-e777-f9dc6408bb26"
   },
   "outputs": [
    {
     "name": "stdout",
     "output_type": "stream",
     "text": [
      "(75757, 64)\n",
      "(9705, 63)\n"
     ]
    }
   ],
   "source": [
    "print(df_train.shape)\n",
    "print(df_test.shape)"
   ]
  },
  {
   "cell_type": "code",
   "execution_count": 8,
   "metadata": {},
   "outputs": [
    {
     "data": {
      "text/html": [
       "<div>\n",
       "<style scoped>\n",
       "    .dataframe tbody tr th:only-of-type {\n",
       "        vertical-align: middle;\n",
       "    }\n",
       "\n",
       "    .dataframe tbody tr th {\n",
       "        vertical-align: top;\n",
       "    }\n",
       "\n",
       "    .dataframe thead th {\n",
       "        text-align: right;\n",
       "    }\n",
       "</style>\n",
       "<table border=\"1\" class=\"dataframe\">\n",
       "  <thead>\n",
       "    <tr style=\"text-align: right;\">\n",
       "      <th></th>\n",
       "      <th>Year_Factor</th>\n",
       "      <th>State_Factor</th>\n",
       "      <th>building_class</th>\n",
       "      <th>facility_type</th>\n",
       "      <th>floor_area</th>\n",
       "      <th>year_built</th>\n",
       "      <th>energy_star_rating</th>\n",
       "      <th>ELEVATION</th>\n",
       "      <th>january_min_temp</th>\n",
       "      <th>january_avg_temp</th>\n",
       "      <th>january_max_temp</th>\n",
       "      <th>february_min_temp</th>\n",
       "      <th>february_avg_temp</th>\n",
       "      <th>february_max_temp</th>\n",
       "      <th>march_min_temp</th>\n",
       "      <th>march_avg_temp</th>\n",
       "      <th>march_max_temp</th>\n",
       "      <th>april_min_temp</th>\n",
       "      <th>april_avg_temp</th>\n",
       "      <th>april_max_temp</th>\n",
       "      <th>may_min_temp</th>\n",
       "      <th>may_avg_temp</th>\n",
       "      <th>may_max_temp</th>\n",
       "      <th>june_min_temp</th>\n",
       "      <th>june_avg_temp</th>\n",
       "      <th>june_max_temp</th>\n",
       "      <th>july_min_temp</th>\n",
       "      <th>july_avg_temp</th>\n",
       "      <th>july_max_temp</th>\n",
       "      <th>august_min_temp</th>\n",
       "      <th>august_avg_temp</th>\n",
       "      <th>august_max_temp</th>\n",
       "      <th>september_min_temp</th>\n",
       "      <th>september_avg_temp</th>\n",
       "      <th>september_max_temp</th>\n",
       "      <th>october_min_temp</th>\n",
       "      <th>october_avg_temp</th>\n",
       "      <th>october_max_temp</th>\n",
       "      <th>november_min_temp</th>\n",
       "      <th>november_avg_temp</th>\n",
       "      <th>november_max_temp</th>\n",
       "      <th>december_min_temp</th>\n",
       "      <th>december_avg_temp</th>\n",
       "      <th>december_max_temp</th>\n",
       "      <th>cooling_degree_days</th>\n",
       "      <th>heating_degree_days</th>\n",
       "      <th>precipitation_inches</th>\n",
       "      <th>snowfall_inches</th>\n",
       "      <th>snowdepth_inches</th>\n",
       "      <th>avg_temp</th>\n",
       "      <th>days_below_30F</th>\n",
       "      <th>days_below_20F</th>\n",
       "      <th>days_below_10F</th>\n",
       "      <th>days_below_0F</th>\n",
       "      <th>days_above_80F</th>\n",
       "      <th>days_above_90F</th>\n",
       "      <th>days_above_100F</th>\n",
       "      <th>days_above_110F</th>\n",
       "      <th>direction_max_wind_speed</th>\n",
       "      <th>direction_peak_wind_speed</th>\n",
       "      <th>max_wind_speed</th>\n",
       "      <th>days_with_fog</th>\n",
       "      <th>site_eui</th>\n",
       "      <th>id</th>\n",
       "    </tr>\n",
       "  </thead>\n",
       "  <tbody>\n",
       "    <tr>\n",
       "      <th>0</th>\n",
       "      <td>1</td>\n",
       "      <td>State_1</td>\n",
       "      <td>Commercial</td>\n",
       "      <td>Grocery_store_or_food_market</td>\n",
       "      <td>61242.0</td>\n",
       "      <td>1942.0</td>\n",
       "      <td>11.0</td>\n",
       "      <td>2.4</td>\n",
       "      <td>36</td>\n",
       "      <td>50.500000</td>\n",
       "      <td>68</td>\n",
       "      <td>35</td>\n",
       "      <td>50.589286</td>\n",
       "      <td>73</td>\n",
       "      <td>40</td>\n",
       "      <td>53.693548</td>\n",
       "      <td>80</td>\n",
       "      <td>41</td>\n",
       "      <td>55.500000</td>\n",
       "      <td>78</td>\n",
       "      <td>46</td>\n",
       "      <td>56.854839</td>\n",
       "      <td>84</td>\n",
       "      <td>50</td>\n",
       "      <td>60.500000</td>\n",
       "      <td>90</td>\n",
       "      <td>52</td>\n",
       "      <td>62.725806</td>\n",
       "      <td>84</td>\n",
       "      <td>52</td>\n",
       "      <td>62.161290</td>\n",
       "      <td>85</td>\n",
       "      <td>52</td>\n",
       "      <td>64.650000</td>\n",
       "      <td>90</td>\n",
       "      <td>47</td>\n",
       "      <td>63.016129</td>\n",
       "      <td>83</td>\n",
       "      <td>43</td>\n",
       "      <td>53.800000</td>\n",
       "      <td>72</td>\n",
       "      <td>36</td>\n",
       "      <td>49.274194</td>\n",
       "      <td>71</td>\n",
       "      <td>115</td>\n",
       "      <td>2960</td>\n",
       "      <td>16.59</td>\n",
       "      <td>0.0</td>\n",
       "      <td>0</td>\n",
       "      <td>56.972603</td>\n",
       "      <td>0</td>\n",
       "      <td>0</td>\n",
       "      <td>0</td>\n",
       "      <td>0</td>\n",
       "      <td>14</td>\n",
       "      <td>0</td>\n",
       "      <td>0</td>\n",
       "      <td>0</td>\n",
       "      <td>1.0</td>\n",
       "      <td>1.0</td>\n",
       "      <td>1.0</td>\n",
       "      <td>NaN</td>\n",
       "      <td>248.682615</td>\n",
       "      <td>0</td>\n",
       "    </tr>\n",
       "    <tr>\n",
       "      <th>1</th>\n",
       "      <td>1</td>\n",
       "      <td>State_1</td>\n",
       "      <td>Commercial</td>\n",
       "      <td>Warehouse_Distribution_or_Shipping_center</td>\n",
       "      <td>274000.0</td>\n",
       "      <td>1955.0</td>\n",
       "      <td>45.0</td>\n",
       "      <td>1.8</td>\n",
       "      <td>36</td>\n",
       "      <td>50.500000</td>\n",
       "      <td>68</td>\n",
       "      <td>35</td>\n",
       "      <td>50.589286</td>\n",
       "      <td>73</td>\n",
       "      <td>40</td>\n",
       "      <td>53.693548</td>\n",
       "      <td>80</td>\n",
       "      <td>41</td>\n",
       "      <td>55.500000</td>\n",
       "      <td>78</td>\n",
       "      <td>46</td>\n",
       "      <td>56.854839</td>\n",
       "      <td>84</td>\n",
       "      <td>50</td>\n",
       "      <td>60.500000</td>\n",
       "      <td>90</td>\n",
       "      <td>52</td>\n",
       "      <td>62.725806</td>\n",
       "      <td>84</td>\n",
       "      <td>52</td>\n",
       "      <td>62.161290</td>\n",
       "      <td>85</td>\n",
       "      <td>52</td>\n",
       "      <td>64.650000</td>\n",
       "      <td>90</td>\n",
       "      <td>47</td>\n",
       "      <td>63.016129</td>\n",
       "      <td>83</td>\n",
       "      <td>43</td>\n",
       "      <td>53.800000</td>\n",
       "      <td>72</td>\n",
       "      <td>36</td>\n",
       "      <td>49.274194</td>\n",
       "      <td>71</td>\n",
       "      <td>115</td>\n",
       "      <td>2960</td>\n",
       "      <td>16.59</td>\n",
       "      <td>0.0</td>\n",
       "      <td>0</td>\n",
       "      <td>56.972603</td>\n",
       "      <td>0</td>\n",
       "      <td>0</td>\n",
       "      <td>0</td>\n",
       "      <td>0</td>\n",
       "      <td>14</td>\n",
       "      <td>0</td>\n",
       "      <td>0</td>\n",
       "      <td>0</td>\n",
       "      <td>1.0</td>\n",
       "      <td>NaN</td>\n",
       "      <td>1.0</td>\n",
       "      <td>12.0</td>\n",
       "      <td>26.500150</td>\n",
       "      <td>1</td>\n",
       "    </tr>\n",
       "    <tr>\n",
       "      <th>2</th>\n",
       "      <td>1</td>\n",
       "      <td>State_1</td>\n",
       "      <td>Commercial</td>\n",
       "      <td>Retail_Enclosed_mall</td>\n",
       "      <td>280025.0</td>\n",
       "      <td>1951.0</td>\n",
       "      <td>97.0</td>\n",
       "      <td>1.8</td>\n",
       "      <td>36</td>\n",
       "      <td>50.500000</td>\n",
       "      <td>68</td>\n",
       "      <td>35</td>\n",
       "      <td>50.589286</td>\n",
       "      <td>73</td>\n",
       "      <td>40</td>\n",
       "      <td>53.693548</td>\n",
       "      <td>80</td>\n",
       "      <td>41</td>\n",
       "      <td>55.500000</td>\n",
       "      <td>78</td>\n",
       "      <td>46</td>\n",
       "      <td>56.854839</td>\n",
       "      <td>84</td>\n",
       "      <td>50</td>\n",
       "      <td>60.500000</td>\n",
       "      <td>90</td>\n",
       "      <td>52</td>\n",
       "      <td>62.725806</td>\n",
       "      <td>84</td>\n",
       "      <td>52</td>\n",
       "      <td>62.161290</td>\n",
       "      <td>85</td>\n",
       "      <td>52</td>\n",
       "      <td>64.650000</td>\n",
       "      <td>90</td>\n",
       "      <td>47</td>\n",
       "      <td>63.016129</td>\n",
       "      <td>83</td>\n",
       "      <td>43</td>\n",
       "      <td>53.800000</td>\n",
       "      <td>72</td>\n",
       "      <td>36</td>\n",
       "      <td>49.274194</td>\n",
       "      <td>71</td>\n",
       "      <td>115</td>\n",
       "      <td>2960</td>\n",
       "      <td>16.59</td>\n",
       "      <td>0.0</td>\n",
       "      <td>0</td>\n",
       "      <td>56.972603</td>\n",
       "      <td>0</td>\n",
       "      <td>0</td>\n",
       "      <td>0</td>\n",
       "      <td>0</td>\n",
       "      <td>14</td>\n",
       "      <td>0</td>\n",
       "      <td>0</td>\n",
       "      <td>0</td>\n",
       "      <td>1.0</td>\n",
       "      <td>NaN</td>\n",
       "      <td>1.0</td>\n",
       "      <td>12.0</td>\n",
       "      <td>24.693619</td>\n",
       "      <td>2</td>\n",
       "    </tr>\n",
       "    <tr>\n",
       "      <th>3</th>\n",
       "      <td>1</td>\n",
       "      <td>State_1</td>\n",
       "      <td>Commercial</td>\n",
       "      <td>Education_Other_classroom</td>\n",
       "      <td>55325.0</td>\n",
       "      <td>1980.0</td>\n",
       "      <td>46.0</td>\n",
       "      <td>1.8</td>\n",
       "      <td>36</td>\n",
       "      <td>50.500000</td>\n",
       "      <td>68</td>\n",
       "      <td>35</td>\n",
       "      <td>50.589286</td>\n",
       "      <td>73</td>\n",
       "      <td>40</td>\n",
       "      <td>53.693548</td>\n",
       "      <td>80</td>\n",
       "      <td>41</td>\n",
       "      <td>55.500000</td>\n",
       "      <td>78</td>\n",
       "      <td>46</td>\n",
       "      <td>56.854839</td>\n",
       "      <td>84</td>\n",
       "      <td>50</td>\n",
       "      <td>60.500000</td>\n",
       "      <td>90</td>\n",
       "      <td>52</td>\n",
       "      <td>62.725806</td>\n",
       "      <td>84</td>\n",
       "      <td>52</td>\n",
       "      <td>62.161290</td>\n",
       "      <td>85</td>\n",
       "      <td>52</td>\n",
       "      <td>64.650000</td>\n",
       "      <td>90</td>\n",
       "      <td>47</td>\n",
       "      <td>63.016129</td>\n",
       "      <td>83</td>\n",
       "      <td>43</td>\n",
       "      <td>53.800000</td>\n",
       "      <td>72</td>\n",
       "      <td>36</td>\n",
       "      <td>49.274194</td>\n",
       "      <td>71</td>\n",
       "      <td>115</td>\n",
       "      <td>2960</td>\n",
       "      <td>16.59</td>\n",
       "      <td>0.0</td>\n",
       "      <td>0</td>\n",
       "      <td>56.972603</td>\n",
       "      <td>0</td>\n",
       "      <td>0</td>\n",
       "      <td>0</td>\n",
       "      <td>0</td>\n",
       "      <td>14</td>\n",
       "      <td>0</td>\n",
       "      <td>0</td>\n",
       "      <td>0</td>\n",
       "      <td>1.0</td>\n",
       "      <td>NaN</td>\n",
       "      <td>1.0</td>\n",
       "      <td>12.0</td>\n",
       "      <td>48.406926</td>\n",
       "      <td>3</td>\n",
       "    </tr>\n",
       "    <tr>\n",
       "      <th>4</th>\n",
       "      <td>1</td>\n",
       "      <td>State_1</td>\n",
       "      <td>Commercial</td>\n",
       "      <td>Warehouse_Nonrefrigerated</td>\n",
       "      <td>66000.0</td>\n",
       "      <td>1985.0</td>\n",
       "      <td>100.0</td>\n",
       "      <td>2.4</td>\n",
       "      <td>36</td>\n",
       "      <td>50.500000</td>\n",
       "      <td>68</td>\n",
       "      <td>35</td>\n",
       "      <td>50.589286</td>\n",
       "      <td>73</td>\n",
       "      <td>40</td>\n",
       "      <td>53.693548</td>\n",
       "      <td>80</td>\n",
       "      <td>41</td>\n",
       "      <td>55.500000</td>\n",
       "      <td>78</td>\n",
       "      <td>46</td>\n",
       "      <td>56.854839</td>\n",
       "      <td>84</td>\n",
       "      <td>50</td>\n",
       "      <td>60.500000</td>\n",
       "      <td>90</td>\n",
       "      <td>52</td>\n",
       "      <td>62.725806</td>\n",
       "      <td>84</td>\n",
       "      <td>52</td>\n",
       "      <td>62.161290</td>\n",
       "      <td>85</td>\n",
       "      <td>52</td>\n",
       "      <td>64.650000</td>\n",
       "      <td>90</td>\n",
       "      <td>47</td>\n",
       "      <td>63.016129</td>\n",
       "      <td>83</td>\n",
       "      <td>43</td>\n",
       "      <td>53.800000</td>\n",
       "      <td>72</td>\n",
       "      <td>36</td>\n",
       "      <td>49.274194</td>\n",
       "      <td>71</td>\n",
       "      <td>115</td>\n",
       "      <td>2960</td>\n",
       "      <td>16.59</td>\n",
       "      <td>0.0</td>\n",
       "      <td>0</td>\n",
       "      <td>56.972603</td>\n",
       "      <td>0</td>\n",
       "      <td>0</td>\n",
       "      <td>0</td>\n",
       "      <td>0</td>\n",
       "      <td>14</td>\n",
       "      <td>0</td>\n",
       "      <td>0</td>\n",
       "      <td>0</td>\n",
       "      <td>1.0</td>\n",
       "      <td>1.0</td>\n",
       "      <td>1.0</td>\n",
       "      <td>NaN</td>\n",
       "      <td>3.899395</td>\n",
       "      <td>4</td>\n",
       "    </tr>\n",
       "    <tr>\n",
       "      <th>...</th>\n",
       "      <td>...</td>\n",
       "      <td>...</td>\n",
       "      <td>...</td>\n",
       "      <td>...</td>\n",
       "      <td>...</td>\n",
       "      <td>...</td>\n",
       "      <td>...</td>\n",
       "      <td>...</td>\n",
       "      <td>...</td>\n",
       "      <td>...</td>\n",
       "      <td>...</td>\n",
       "      <td>...</td>\n",
       "      <td>...</td>\n",
       "      <td>...</td>\n",
       "      <td>...</td>\n",
       "      <td>...</td>\n",
       "      <td>...</td>\n",
       "      <td>...</td>\n",
       "      <td>...</td>\n",
       "      <td>...</td>\n",
       "      <td>...</td>\n",
       "      <td>...</td>\n",
       "      <td>...</td>\n",
       "      <td>...</td>\n",
       "      <td>...</td>\n",
       "      <td>...</td>\n",
       "      <td>...</td>\n",
       "      <td>...</td>\n",
       "      <td>...</td>\n",
       "      <td>...</td>\n",
       "      <td>...</td>\n",
       "      <td>...</td>\n",
       "      <td>...</td>\n",
       "      <td>...</td>\n",
       "      <td>...</td>\n",
       "      <td>...</td>\n",
       "      <td>...</td>\n",
       "      <td>...</td>\n",
       "      <td>...</td>\n",
       "      <td>...</td>\n",
       "      <td>...</td>\n",
       "      <td>...</td>\n",
       "      <td>...</td>\n",
       "      <td>...</td>\n",
       "      <td>...</td>\n",
       "      <td>...</td>\n",
       "      <td>...</td>\n",
       "      <td>...</td>\n",
       "      <td>...</td>\n",
       "      <td>...</td>\n",
       "      <td>...</td>\n",
       "      <td>...</td>\n",
       "      <td>...</td>\n",
       "      <td>...</td>\n",
       "      <td>...</td>\n",
       "      <td>...</td>\n",
       "      <td>...</td>\n",
       "      <td>...</td>\n",
       "      <td>...</td>\n",
       "      <td>...</td>\n",
       "      <td>...</td>\n",
       "      <td>...</td>\n",
       "      <td>...</td>\n",
       "      <td>...</td>\n",
       "    </tr>\n",
       "    <tr>\n",
       "      <th>75752</th>\n",
       "      <td>6</td>\n",
       "      <td>State_11</td>\n",
       "      <td>Commercial</td>\n",
       "      <td>Office_Uncategorized</td>\n",
       "      <td>20410.0</td>\n",
       "      <td>1995.0</td>\n",
       "      <td>8.0</td>\n",
       "      <td>36.6</td>\n",
       "      <td>28</td>\n",
       "      <td>43.451613</td>\n",
       "      <td>56</td>\n",
       "      <td>34</td>\n",
       "      <td>47.672414</td>\n",
       "      <td>64</td>\n",
       "      <td>35</td>\n",
       "      <td>49.354839</td>\n",
       "      <td>71</td>\n",
       "      <td>40</td>\n",
       "      <td>56.266667</td>\n",
       "      <td>89</td>\n",
       "      <td>45</td>\n",
       "      <td>59.193548</td>\n",
       "      <td>88</td>\n",
       "      <td>47</td>\n",
       "      <td>63.566667</td>\n",
       "      <td>91</td>\n",
       "      <td>54</td>\n",
       "      <td>66.951613</td>\n",
       "      <td>87</td>\n",
       "      <td>52</td>\n",
       "      <td>68.612903</td>\n",
       "      <td>91</td>\n",
       "      <td>44</td>\n",
       "      <td>61.383333</td>\n",
       "      <td>79</td>\n",
       "      <td>39</td>\n",
       "      <td>55.403226</td>\n",
       "      <td>68</td>\n",
       "      <td>40</td>\n",
       "      <td>51.283333</td>\n",
       "      <td>71</td>\n",
       "      <td>24</td>\n",
       "      <td>38.532258</td>\n",
       "      <td>51</td>\n",
       "      <td>260</td>\n",
       "      <td>3772</td>\n",
       "      <td>45.03</td>\n",
       "      <td>1.4</td>\n",
       "      <td>1</td>\n",
       "      <td>55.147541</td>\n",
       "      <td>6</td>\n",
       "      <td>0</td>\n",
       "      <td>0</td>\n",
       "      <td>0</td>\n",
       "      <td>25</td>\n",
       "      <td>3</td>\n",
       "      <td>0</td>\n",
       "      <td>0</td>\n",
       "      <td>NaN</td>\n",
       "      <td>NaN</td>\n",
       "      <td>NaN</td>\n",
       "      <td>NaN</td>\n",
       "      <td>132.918411</td>\n",
       "      <td>75752</td>\n",
       "    </tr>\n",
       "    <tr>\n",
       "      <th>75753</th>\n",
       "      <td>6</td>\n",
       "      <td>State_11</td>\n",
       "      <td>Residential</td>\n",
       "      <td>5plus_Unit_Building</td>\n",
       "      <td>40489.0</td>\n",
       "      <td>1910.0</td>\n",
       "      <td>98.0</td>\n",
       "      <td>36.6</td>\n",
       "      <td>28</td>\n",
       "      <td>43.451613</td>\n",
       "      <td>56</td>\n",
       "      <td>34</td>\n",
       "      <td>47.672414</td>\n",
       "      <td>64</td>\n",
       "      <td>35</td>\n",
       "      <td>49.354839</td>\n",
       "      <td>71</td>\n",
       "      <td>40</td>\n",
       "      <td>56.266667</td>\n",
       "      <td>89</td>\n",
       "      <td>45</td>\n",
       "      <td>59.193548</td>\n",
       "      <td>88</td>\n",
       "      <td>47</td>\n",
       "      <td>63.566667</td>\n",
       "      <td>91</td>\n",
       "      <td>54</td>\n",
       "      <td>66.951613</td>\n",
       "      <td>87</td>\n",
       "      <td>52</td>\n",
       "      <td>68.612903</td>\n",
       "      <td>91</td>\n",
       "      <td>44</td>\n",
       "      <td>61.383333</td>\n",
       "      <td>79</td>\n",
       "      <td>39</td>\n",
       "      <td>55.403226</td>\n",
       "      <td>68</td>\n",
       "      <td>40</td>\n",
       "      <td>51.283333</td>\n",
       "      <td>71</td>\n",
       "      <td>24</td>\n",
       "      <td>38.532258</td>\n",
       "      <td>51</td>\n",
       "      <td>260</td>\n",
       "      <td>3772</td>\n",
       "      <td>45.03</td>\n",
       "      <td>1.4</td>\n",
       "      <td>1</td>\n",
       "      <td>55.147541</td>\n",
       "      <td>6</td>\n",
       "      <td>0</td>\n",
       "      <td>0</td>\n",
       "      <td>0</td>\n",
       "      <td>25</td>\n",
       "      <td>3</td>\n",
       "      <td>0</td>\n",
       "      <td>0</td>\n",
       "      <td>NaN</td>\n",
       "      <td>NaN</td>\n",
       "      <td>NaN</td>\n",
       "      <td>NaN</td>\n",
       "      <td>39.483672</td>\n",
       "      <td>75753</td>\n",
       "    </tr>\n",
       "    <tr>\n",
       "      <th>75754</th>\n",
       "      <td>6</td>\n",
       "      <td>State_11</td>\n",
       "      <td>Commercial</td>\n",
       "      <td>Commercial_Other</td>\n",
       "      <td>28072.0</td>\n",
       "      <td>1917.0</td>\n",
       "      <td>NaN</td>\n",
       "      <td>36.6</td>\n",
       "      <td>26</td>\n",
       "      <td>36.612903</td>\n",
       "      <td>48</td>\n",
       "      <td>30</td>\n",
       "      <td>41.637931</td>\n",
       "      <td>58</td>\n",
       "      <td>29</td>\n",
       "      <td>41.338710</td>\n",
       "      <td>62</td>\n",
       "      <td>34</td>\n",
       "      <td>50.183333</td>\n",
       "      <td>79</td>\n",
       "      <td>40</td>\n",
       "      <td>52.145161</td>\n",
       "      <td>79</td>\n",
       "      <td>41</td>\n",
       "      <td>56.233333</td>\n",
       "      <td>86</td>\n",
       "      <td>48</td>\n",
       "      <td>58.758065</td>\n",
       "      <td>81</td>\n",
       "      <td>48</td>\n",
       "      <td>61.612903</td>\n",
       "      <td>87</td>\n",
       "      <td>41</td>\n",
       "      <td>53.783333</td>\n",
       "      <td>73</td>\n",
       "      <td>37</td>\n",
       "      <td>47.661290</td>\n",
       "      <td>59</td>\n",
       "      <td>34</td>\n",
       "      <td>44.650000</td>\n",
       "      <td>62</td>\n",
       "      <td>15</td>\n",
       "      <td>30.338710</td>\n",
       "      <td>46</td>\n",
       "      <td>55</td>\n",
       "      <td>6218</td>\n",
       "      <td>106.32</td>\n",
       "      <td>36.6</td>\n",
       "      <td>438</td>\n",
       "      <td>47.911202</td>\n",
       "      <td>26</td>\n",
       "      <td>2</td>\n",
       "      <td>0</td>\n",
       "      <td>0</td>\n",
       "      <td>6</td>\n",
       "      <td>0</td>\n",
       "      <td>0</td>\n",
       "      <td>0</td>\n",
       "      <td>NaN</td>\n",
       "      <td>NaN</td>\n",
       "      <td>NaN</td>\n",
       "      <td>NaN</td>\n",
       "      <td>48.404398</td>\n",
       "      <td>75754</td>\n",
       "    </tr>\n",
       "    <tr>\n",
       "      <th>75755</th>\n",
       "      <td>6</td>\n",
       "      <td>State_11</td>\n",
       "      <td>Commercial</td>\n",
       "      <td>Commercial_Other</td>\n",
       "      <td>53575.0</td>\n",
       "      <td>2012.0</td>\n",
       "      <td>NaN</td>\n",
       "      <td>36.6</td>\n",
       "      <td>26</td>\n",
       "      <td>36.612903</td>\n",
       "      <td>48</td>\n",
       "      <td>30</td>\n",
       "      <td>41.637931</td>\n",
       "      <td>58</td>\n",
       "      <td>29</td>\n",
       "      <td>41.338710</td>\n",
       "      <td>62</td>\n",
       "      <td>34</td>\n",
       "      <td>50.183333</td>\n",
       "      <td>79</td>\n",
       "      <td>40</td>\n",
       "      <td>52.145161</td>\n",
       "      <td>79</td>\n",
       "      <td>41</td>\n",
       "      <td>56.233333</td>\n",
       "      <td>86</td>\n",
       "      <td>48</td>\n",
       "      <td>58.758065</td>\n",
       "      <td>81</td>\n",
       "      <td>48</td>\n",
       "      <td>61.612903</td>\n",
       "      <td>87</td>\n",
       "      <td>41</td>\n",
       "      <td>53.783333</td>\n",
       "      <td>73</td>\n",
       "      <td>37</td>\n",
       "      <td>47.661290</td>\n",
       "      <td>59</td>\n",
       "      <td>34</td>\n",
       "      <td>44.650000</td>\n",
       "      <td>62</td>\n",
       "      <td>15</td>\n",
       "      <td>30.338710</td>\n",
       "      <td>46</td>\n",
       "      <td>55</td>\n",
       "      <td>6218</td>\n",
       "      <td>106.32</td>\n",
       "      <td>36.6</td>\n",
       "      <td>438</td>\n",
       "      <td>47.911202</td>\n",
       "      <td>26</td>\n",
       "      <td>2</td>\n",
       "      <td>0</td>\n",
       "      <td>0</td>\n",
       "      <td>6</td>\n",
       "      <td>0</td>\n",
       "      <td>0</td>\n",
       "      <td>0</td>\n",
       "      <td>NaN</td>\n",
       "      <td>NaN</td>\n",
       "      <td>NaN</td>\n",
       "      <td>NaN</td>\n",
       "      <td>592.022750</td>\n",
       "      <td>75755</td>\n",
       "    </tr>\n",
       "    <tr>\n",
       "      <th>75756</th>\n",
       "      <td>6</td>\n",
       "      <td>State_11</td>\n",
       "      <td>Residential</td>\n",
       "      <td>2to4_Unit_Building</td>\n",
       "      <td>23888.0</td>\n",
       "      <td>1974.0</td>\n",
       "      <td>51.0</td>\n",
       "      <td>36.6</td>\n",
       "      <td>27</td>\n",
       "      <td>36.935484</td>\n",
       "      <td>51</td>\n",
       "      <td>29</td>\n",
       "      <td>42.172414</td>\n",
       "      <td>60</td>\n",
       "      <td>30</td>\n",
       "      <td>41.403226</td>\n",
       "      <td>66</td>\n",
       "      <td>36</td>\n",
       "      <td>51.533333</td>\n",
       "      <td>85</td>\n",
       "      <td>41</td>\n",
       "      <td>53.887097</td>\n",
       "      <td>80</td>\n",
       "      <td>41</td>\n",
       "      <td>58.433333</td>\n",
       "      <td>90</td>\n",
       "      <td>48</td>\n",
       "      <td>60.532258</td>\n",
       "      <td>83</td>\n",
       "      <td>49</td>\n",
       "      <td>64.338710</td>\n",
       "      <td>90</td>\n",
       "      <td>43</td>\n",
       "      <td>55.931034</td>\n",
       "      <td>75</td>\n",
       "      <td>40</td>\n",
       "      <td>48.532258</td>\n",
       "      <td>60</td>\n",
       "      <td>31</td>\n",
       "      <td>45.150000</td>\n",
       "      <td>69</td>\n",
       "      <td>18</td>\n",
       "      <td>30.919355</td>\n",
       "      <td>42</td>\n",
       "      <td>148</td>\n",
       "      <td>5853</td>\n",
       "      <td>107.69</td>\n",
       "      <td>28.8</td>\n",
       "      <td>377</td>\n",
       "      <td>49.127397</td>\n",
       "      <td>17</td>\n",
       "      <td>1</td>\n",
       "      <td>0</td>\n",
       "      <td>0</td>\n",
       "      <td>16</td>\n",
       "      <td>0</td>\n",
       "      <td>0</td>\n",
       "      <td>0</td>\n",
       "      <td>NaN</td>\n",
       "      <td>NaN</td>\n",
       "      <td>NaN</td>\n",
       "      <td>NaN</td>\n",
       "      <td>29.154684</td>\n",
       "      <td>75756</td>\n",
       "    </tr>\n",
       "  </tbody>\n",
       "</table>\n",
       "<p>75757 rows × 64 columns</p>\n",
       "</div>"
      ],
      "text/plain": [
       "       Year_Factor State_Factor building_class  \\\n",
       "0                1      State_1     Commercial   \n",
       "1                1      State_1     Commercial   \n",
       "2                1      State_1     Commercial   \n",
       "3                1      State_1     Commercial   \n",
       "4                1      State_1     Commercial   \n",
       "...            ...          ...            ...   \n",
       "75752            6     State_11     Commercial   \n",
       "75753            6     State_11    Residential   \n",
       "75754            6     State_11     Commercial   \n",
       "75755            6     State_11     Commercial   \n",
       "75756            6     State_11    Residential   \n",
       "\n",
       "                                   facility_type  floor_area  year_built  \\\n",
       "0                   Grocery_store_or_food_market     61242.0      1942.0   \n",
       "1      Warehouse_Distribution_or_Shipping_center    274000.0      1955.0   \n",
       "2                           Retail_Enclosed_mall    280025.0      1951.0   \n",
       "3                      Education_Other_classroom     55325.0      1980.0   \n",
       "4                      Warehouse_Nonrefrigerated     66000.0      1985.0   \n",
       "...                                          ...         ...         ...   \n",
       "75752                       Office_Uncategorized     20410.0      1995.0   \n",
       "75753                        5plus_Unit_Building     40489.0      1910.0   \n",
       "75754                           Commercial_Other     28072.0      1917.0   \n",
       "75755                           Commercial_Other     53575.0      2012.0   \n",
       "75756                         2to4_Unit_Building     23888.0      1974.0   \n",
       "\n",
       "       energy_star_rating  ELEVATION  january_min_temp  january_avg_temp  \\\n",
       "0                    11.0        2.4                36         50.500000   \n",
       "1                    45.0        1.8                36         50.500000   \n",
       "2                    97.0        1.8                36         50.500000   \n",
       "3                    46.0        1.8                36         50.500000   \n",
       "4                   100.0        2.4                36         50.500000   \n",
       "...                   ...        ...               ...               ...   \n",
       "75752                 8.0       36.6                28         43.451613   \n",
       "75753                98.0       36.6                28         43.451613   \n",
       "75754                 NaN       36.6                26         36.612903   \n",
       "75755                 NaN       36.6                26         36.612903   \n",
       "75756                51.0       36.6                27         36.935484   \n",
       "\n",
       "       january_max_temp  february_min_temp  february_avg_temp  \\\n",
       "0                    68                 35          50.589286   \n",
       "1                    68                 35          50.589286   \n",
       "2                    68                 35          50.589286   \n",
       "3                    68                 35          50.589286   \n",
       "4                    68                 35          50.589286   \n",
       "...                 ...                ...                ...   \n",
       "75752                56                 34          47.672414   \n",
       "75753                56                 34          47.672414   \n",
       "75754                48                 30          41.637931   \n",
       "75755                48                 30          41.637931   \n",
       "75756                51                 29          42.172414   \n",
       "\n",
       "       february_max_temp  march_min_temp  march_avg_temp  march_max_temp  \\\n",
       "0                     73              40       53.693548              80   \n",
       "1                     73              40       53.693548              80   \n",
       "2                     73              40       53.693548              80   \n",
       "3                     73              40       53.693548              80   \n",
       "4                     73              40       53.693548              80   \n",
       "...                  ...             ...             ...             ...   \n",
       "75752                 64              35       49.354839              71   \n",
       "75753                 64              35       49.354839              71   \n",
       "75754                 58              29       41.338710              62   \n",
       "75755                 58              29       41.338710              62   \n",
       "75756                 60              30       41.403226              66   \n",
       "\n",
       "       april_min_temp  april_avg_temp  april_max_temp  may_min_temp  \\\n",
       "0                  41       55.500000              78            46   \n",
       "1                  41       55.500000              78            46   \n",
       "2                  41       55.500000              78            46   \n",
       "3                  41       55.500000              78            46   \n",
       "4                  41       55.500000              78            46   \n",
       "...               ...             ...             ...           ...   \n",
       "75752              40       56.266667              89            45   \n",
       "75753              40       56.266667              89            45   \n",
       "75754              34       50.183333              79            40   \n",
       "75755              34       50.183333              79            40   \n",
       "75756              36       51.533333              85            41   \n",
       "\n",
       "       may_avg_temp  may_max_temp  june_min_temp  june_avg_temp  \\\n",
       "0         56.854839            84             50      60.500000   \n",
       "1         56.854839            84             50      60.500000   \n",
       "2         56.854839            84             50      60.500000   \n",
       "3         56.854839            84             50      60.500000   \n",
       "4         56.854839            84             50      60.500000   \n",
       "...             ...           ...            ...            ...   \n",
       "75752     59.193548            88             47      63.566667   \n",
       "75753     59.193548            88             47      63.566667   \n",
       "75754     52.145161            79             41      56.233333   \n",
       "75755     52.145161            79             41      56.233333   \n",
       "75756     53.887097            80             41      58.433333   \n",
       "\n",
       "       june_max_temp  july_min_temp  july_avg_temp  july_max_temp  \\\n",
       "0                 90             52      62.725806             84   \n",
       "1                 90             52      62.725806             84   \n",
       "2                 90             52      62.725806             84   \n",
       "3                 90             52      62.725806             84   \n",
       "4                 90             52      62.725806             84   \n",
       "...              ...            ...            ...            ...   \n",
       "75752             91             54      66.951613             87   \n",
       "75753             91             54      66.951613             87   \n",
       "75754             86             48      58.758065             81   \n",
       "75755             86             48      58.758065             81   \n",
       "75756             90             48      60.532258             83   \n",
       "\n",
       "       august_min_temp  august_avg_temp  august_max_temp  september_min_temp  \\\n",
       "0                   52        62.161290               85                  52   \n",
       "1                   52        62.161290               85                  52   \n",
       "2                   52        62.161290               85                  52   \n",
       "3                   52        62.161290               85                  52   \n",
       "4                   52        62.161290               85                  52   \n",
       "...                ...              ...              ...                 ...   \n",
       "75752               52        68.612903               91                  44   \n",
       "75753               52        68.612903               91                  44   \n",
       "75754               48        61.612903               87                  41   \n",
       "75755               48        61.612903               87                  41   \n",
       "75756               49        64.338710               90                  43   \n",
       "\n",
       "       september_avg_temp  september_max_temp  october_min_temp  \\\n",
       "0               64.650000                  90                47   \n",
       "1               64.650000                  90                47   \n",
       "2               64.650000                  90                47   \n",
       "3               64.650000                  90                47   \n",
       "4               64.650000                  90                47   \n",
       "...                   ...                 ...               ...   \n",
       "75752           61.383333                  79                39   \n",
       "75753           61.383333                  79                39   \n",
       "75754           53.783333                  73                37   \n",
       "75755           53.783333                  73                37   \n",
       "75756           55.931034                  75                40   \n",
       "\n",
       "       october_avg_temp  october_max_temp  november_min_temp  \\\n",
       "0             63.016129                83                 43   \n",
       "1             63.016129                83                 43   \n",
       "2             63.016129                83                 43   \n",
       "3             63.016129                83                 43   \n",
       "4             63.016129                83                 43   \n",
       "...                 ...               ...                ...   \n",
       "75752         55.403226                68                 40   \n",
       "75753         55.403226                68                 40   \n",
       "75754         47.661290                59                 34   \n",
       "75755         47.661290                59                 34   \n",
       "75756         48.532258                60                 31   \n",
       "\n",
       "       november_avg_temp  november_max_temp  december_min_temp  \\\n",
       "0              53.800000                 72                 36   \n",
       "1              53.800000                 72                 36   \n",
       "2              53.800000                 72                 36   \n",
       "3              53.800000                 72                 36   \n",
       "4              53.800000                 72                 36   \n",
       "...                  ...                ...                ...   \n",
       "75752          51.283333                 71                 24   \n",
       "75753          51.283333                 71                 24   \n",
       "75754          44.650000                 62                 15   \n",
       "75755          44.650000                 62                 15   \n",
       "75756          45.150000                 69                 18   \n",
       "\n",
       "       december_avg_temp  december_max_temp  cooling_degree_days  \\\n",
       "0              49.274194                 71                  115   \n",
       "1              49.274194                 71                  115   \n",
       "2              49.274194                 71                  115   \n",
       "3              49.274194                 71                  115   \n",
       "4              49.274194                 71                  115   \n",
       "...                  ...                ...                  ...   \n",
       "75752          38.532258                 51                  260   \n",
       "75753          38.532258                 51                  260   \n",
       "75754          30.338710                 46                   55   \n",
       "75755          30.338710                 46                   55   \n",
       "75756          30.919355                 42                  148   \n",
       "\n",
       "       heating_degree_days  precipitation_inches  snowfall_inches  \\\n",
       "0                     2960                 16.59              0.0   \n",
       "1                     2960                 16.59              0.0   \n",
       "2                     2960                 16.59              0.0   \n",
       "3                     2960                 16.59              0.0   \n",
       "4                     2960                 16.59              0.0   \n",
       "...                    ...                   ...              ...   \n",
       "75752                 3772                 45.03              1.4   \n",
       "75753                 3772                 45.03              1.4   \n",
       "75754                 6218                106.32             36.6   \n",
       "75755                 6218                106.32             36.6   \n",
       "75756                 5853                107.69             28.8   \n",
       "\n",
       "       snowdepth_inches   avg_temp  days_below_30F  days_below_20F  \\\n",
       "0                     0  56.972603               0               0   \n",
       "1                     0  56.972603               0               0   \n",
       "2                     0  56.972603               0               0   \n",
       "3                     0  56.972603               0               0   \n",
       "4                     0  56.972603               0               0   \n",
       "...                 ...        ...             ...             ...   \n",
       "75752                 1  55.147541               6               0   \n",
       "75753                 1  55.147541               6               0   \n",
       "75754               438  47.911202              26               2   \n",
       "75755               438  47.911202              26               2   \n",
       "75756               377  49.127397              17               1   \n",
       "\n",
       "       days_below_10F  days_below_0F  days_above_80F  days_above_90F  \\\n",
       "0                   0              0              14               0   \n",
       "1                   0              0              14               0   \n",
       "2                   0              0              14               0   \n",
       "3                   0              0              14               0   \n",
       "4                   0              0              14               0   \n",
       "...               ...            ...             ...             ...   \n",
       "75752               0              0              25               3   \n",
       "75753               0              0              25               3   \n",
       "75754               0              0               6               0   \n",
       "75755               0              0               6               0   \n",
       "75756               0              0              16               0   \n",
       "\n",
       "       days_above_100F  days_above_110F  direction_max_wind_speed  \\\n",
       "0                    0                0                       1.0   \n",
       "1                    0                0                       1.0   \n",
       "2                    0                0                       1.0   \n",
       "3                    0                0                       1.0   \n",
       "4                    0                0                       1.0   \n",
       "...                ...              ...                       ...   \n",
       "75752                0                0                       NaN   \n",
       "75753                0                0                       NaN   \n",
       "75754                0                0                       NaN   \n",
       "75755                0                0                       NaN   \n",
       "75756                0                0                       NaN   \n",
       "\n",
       "       direction_peak_wind_speed  max_wind_speed  days_with_fog    site_eui  \\\n",
       "0                            1.0             1.0            NaN  248.682615   \n",
       "1                            NaN             1.0           12.0   26.500150   \n",
       "2                            NaN             1.0           12.0   24.693619   \n",
       "3                            NaN             1.0           12.0   48.406926   \n",
       "4                            1.0             1.0            NaN    3.899395   \n",
       "...                          ...             ...            ...         ...   \n",
       "75752                        NaN             NaN            NaN  132.918411   \n",
       "75753                        NaN             NaN            NaN   39.483672   \n",
       "75754                        NaN             NaN            NaN   48.404398   \n",
       "75755                        NaN             NaN            NaN  592.022750   \n",
       "75756                        NaN             NaN            NaN   29.154684   \n",
       "\n",
       "          id  \n",
       "0          0  \n",
       "1          1  \n",
       "2          2  \n",
       "3          3  \n",
       "4          4  \n",
       "...      ...  \n",
       "75752  75752  \n",
       "75753  75753  \n",
       "75754  75754  \n",
       "75755  75755  \n",
       "75756  75756  \n",
       "\n",
       "[75757 rows x 64 columns]"
      ]
     },
     "execution_count": 8,
     "metadata": {},
     "output_type": "execute_result"
    }
   ],
   "source": [
    "train"
   ]
  },
  {
   "cell_type": "code",
   "execution_count": 9,
   "metadata": {
    "id": "4Gnj_luoMdt5"
   },
   "outputs": [],
   "source": [
    "df_train.rename(columns={\n",
    "    'Year_Factor': 'year_factor', \n",
    "    'State_Factor': 'state_factor',\n",
    "    'ELEVATION': 'elevation',\n",
    "    'id': 'building_id'\n",
    "}, inplace=True)\n",
    "\n",
    "df_test.rename(columns={\n",
    "    'Year_Factor': 'year_factor', \n",
    "    'State_Factor': 'state_factor',\n",
    "    'ELEVATION': 'elevation',\n",
    "    'id': 'building_id'\n",
    "}, inplace=True)\n",
    "\n",
    "# df.columns = df.columns.values.lower()"
   ]
  },
  {
   "cell_type": "markdown",
   "metadata": {
    "id": "9lhB09q5Rdly"
   },
   "source": [
    "# <span style=\"font-family:cursive;text-align:center\">📊 Exploratory Data Analysis</span>"
   ]
  },
  {
   "cell_type": "markdown",
   "metadata": {
    "id": "naskuftkM8UU"
   },
   "source": [
    "<div class=\"alert alert-block alert-info\" style=\"font-size:14px; font-family:verdana; line-height: 1.7em;\">\n",
    "    <font size='5pt'><b>Understanding features:</b></font>\n",
    "\n",
    "year_Factor: anonymized year in which the weather and energy usage factors were observed  \n",
    "\n",
    "state_Factor: anonymized state in which the building is located  \n",
    "\n",
    "building_class: building classification  \n",
    "\n",
    "facility_type: building usage type  \n",
    "\n",
    "floor_area: floor area (in square feet) of the building  \n",
    "\n",
    "year_built: year in which the building was constructed  \n",
    "\n",
    "energy_star_rating: the energy star rating of the building  \n",
    "\n",
    "elevation: elevation of the building location  \n",
    "\n",
    "january_min_temp: minimum temperature in January (in Fahrenheit) at the location of the building  \n",
    "\n",
    "january_avg_temp: average temperature in January (in Fahrenheit) at the location of the building  \n",
    "\n",
    "january_max_temp: maximum temperature in January (in Fahrenheit) at the location of the building  \n",
    "\n",
    "[Similarly for all other months]\n",
    "\n",
    "cooling_degree_days: cooling degree day for a given day is the number of degrees where the daily average temperature   \n",
    "exceeds 65 degrees Fahrenheit. Each month is summed to produce an annual total at the location of the building.  \n",
    "\n",
    "heating_degree_days: heating degree day for a given day is the number of degrees where the daily average temperature   falls under 65 degrees Fahrenheit. Each month is summed to produce an annual total at the location of the building.  \n",
    "\n",
    "precipitation_inches: annual precipitation in inches at the location of the building  \n",
    "\n",
    "snowfall_inches: annual snowfall in inches at the location of the building  \n",
    "\n",
    "snowdepth_inches: annual snow depth in inches at the location of the building  \n",
    "\n",
    "avg_temp: average temperature over a year at the location of the building  \n",
    "\n",
    "days_below_30F: total number of days below 30 degrees Fahrenheit at the location of the building  \n",
    "\n",
    "days_below_20F: total number of days below 20 degrees Fahrenheit at the location of the building  \n",
    "\n",
    "days_below_10F: total number of days below 10 degrees Fahrenheit at the location of the building  \n",
    "\n",
    "days_below_0F: total number of days below 0 degrees Fahrenheit at the location of the building  \n",
    "\n",
    "days_above_80F: total number of days above 80 degrees Fahrenheit at the location of the building  \n",
    "\n",
    "days_above_90F: total number of days above 90 degrees Fahrenheit at the location of the building  \n",
    "\n",
    "days_above_100F: total number of days above 100 degrees Fahrenheit at the location of the building  \n",
    "\n",
    "days_above_110F: total number of days above 110 degrees Fahrenheit at the location of the building  \n",
    "\n",
    "direction_max_wind_speed: wind direction for maximum wind speed at the location of the building. Given in 360-degree compass point directions (e.g. 360 = north, 180 = south, etc.).  \n",
    "\n",
    "direction_peak_wind_speed: wind direction for peak wind gust speed at the location of the building. Given in 360-degree compass point directions (e.g. 360 = north, 180 = south, etc.).  \n",
    "\n",
    "max_wind_speed: maximum wind speed at the location of the building  \n",
    "\n",
    "days_with_fog: number of days with fog at the location of the building  \n",
    "\n",
    "building_id: building id  \n",
    "<br>\n",
    "<font size='5pt'><b>Target</b></font><br>\n",
    "site_eui: Site Energy Usage Intensity is the amount of heat and electricity consumed by a building as reflected in utility bills "
   ]
  },
  {
   "cell_type": "code",
   "execution_count": 10,
   "metadata": {},
   "outputs": [
    {
     "name": "stdout",
     "output_type": "stream",
     "text": [
      "Numerical Features Count 61\n",
      "Discrete feature Count 6\n",
      "Continuous feature Count 55\n",
      "Categorical feature Count 3\n"
     ]
    }
   ],
   "source": [
    "numerical_feature = [feature for feature in df_train.columns if df_train[feature].dtypes != 'O']\n",
    "discrete_feature=[feature for feature in numerical_feature if len(df_train[feature].unique())<25]\n",
    "continuous_feature = [feature for feature in numerical_feature if feature not in discrete_feature]\n",
    "categorical_feature = [feature for feature in df_train.columns if feature not in numerical_feature]\n",
    "print(\"Numerical Features Count {}\".format(len(numerical_feature)))\n",
    "print(\"Discrete feature Count {}\".format(len(discrete_feature)))\n",
    "print(\"Continuous feature Count {}\".format(len(continuous_feature)))\n",
    "print(\"Categorical feature Count {}\".format(len(categorical_feature)))"
   ]
  },
  {
   "cell_type": "code",
   "execution_count": 11,
   "metadata": {
    "colab": {
     "base_uri": "https://localhost:8080/"
    },
    "id": "Ciuy6HPlMx75",
    "outputId": "789f8ec8-d843-464f-91b5-34a6e94951b6",
    "scrolled": false
   },
   "outputs": [
    {
     "name": "stdout",
     "output_type": "stream",
     "text": [
      "<class 'pandas.core.frame.DataFrame'>\n",
      "RangeIndex: 75757 entries, 0 to 75756\n",
      "Data columns (total 64 columns):\n",
      " #   Column                     Non-Null Count  Dtype  \n",
      "---  ------                     --------------  -----  \n",
      " 0   year_factor                75757 non-null  int64  \n",
      " 1   state_factor               75757 non-null  object \n",
      " 2   building_class             75757 non-null  object \n",
      " 3   facility_type              75757 non-null  object \n",
      " 4   floor_area                 75757 non-null  float64\n",
      " 5   year_built                 73920 non-null  float64\n",
      " 6   energy_star_rating         49048 non-null  float64\n",
      " 7   elevation                  75757 non-null  float64\n",
      " 8   january_min_temp           75757 non-null  int64  \n",
      " 9   january_avg_temp           75757 non-null  float64\n",
      " 10  january_max_temp           75757 non-null  int64  \n",
      " 11  february_min_temp          75757 non-null  int64  \n",
      " 12  february_avg_temp          75757 non-null  float64\n",
      " 13  february_max_temp          75757 non-null  int64  \n",
      " 14  march_min_temp             75757 non-null  int64  \n",
      " 15  march_avg_temp             75757 non-null  float64\n",
      " 16  march_max_temp             75757 non-null  int64  \n",
      " 17  april_min_temp             75757 non-null  int64  \n",
      " 18  april_avg_temp             75757 non-null  float64\n",
      " 19  april_max_temp             75757 non-null  int64  \n",
      " 20  may_min_temp               75757 non-null  int64  \n",
      " 21  may_avg_temp               75757 non-null  float64\n",
      " 22  may_max_temp               75757 non-null  int64  \n",
      " 23  june_min_temp              75757 non-null  int64  \n",
      " 24  june_avg_temp              75757 non-null  float64\n",
      " 25  june_max_temp              75757 non-null  int64  \n",
      " 26  july_min_temp              75757 non-null  int64  \n",
      " 27  july_avg_temp              75757 non-null  float64\n",
      " 28  july_max_temp              75757 non-null  int64  \n",
      " 29  august_min_temp            75757 non-null  int64  \n",
      " 30  august_avg_temp            75757 non-null  float64\n",
      " 31  august_max_temp            75757 non-null  int64  \n",
      " 32  september_min_temp         75757 non-null  int64  \n",
      " 33  september_avg_temp         75757 non-null  float64\n",
      " 34  september_max_temp         75757 non-null  int64  \n",
      " 35  october_min_temp           75757 non-null  int64  \n",
      " 36  october_avg_temp           75757 non-null  float64\n",
      " 37  october_max_temp           75757 non-null  int64  \n",
      " 38  november_min_temp          75757 non-null  int64  \n",
      " 39  november_avg_temp          75757 non-null  float64\n",
      " 40  november_max_temp          75757 non-null  int64  \n",
      " 41  december_min_temp          75757 non-null  int64  \n",
      " 42  december_avg_temp          75757 non-null  float64\n",
      " 43  december_max_temp          75757 non-null  int64  \n",
      " 44  cooling_degree_days        75757 non-null  int64  \n",
      " 45  heating_degree_days        75757 non-null  int64  \n",
      " 46  precipitation_inches       75757 non-null  float64\n",
      " 47  snowfall_inches            75757 non-null  float64\n",
      " 48  snowdepth_inches           75757 non-null  int64  \n",
      " 49  avg_temp                   75757 non-null  float64\n",
      " 50  days_below_30F             75757 non-null  int64  \n",
      " 51  days_below_20F             75757 non-null  int64  \n",
      " 52  days_below_10F             75757 non-null  int64  \n",
      " 53  days_below_0F              75757 non-null  int64  \n",
      " 54  days_above_80F             75757 non-null  int64  \n",
      " 55  days_above_90F             75757 non-null  int64  \n",
      " 56  days_above_100F            75757 non-null  int64  \n",
      " 57  days_above_110F            75757 non-null  int64  \n",
      " 58  direction_max_wind_speed   34675 non-null  float64\n",
      " 59  direction_peak_wind_speed  33946 non-null  float64\n",
      " 60  max_wind_speed             34675 non-null  float64\n",
      " 61  days_with_fog              29961 non-null  float64\n",
      " 62  site_eui                   75757 non-null  float64\n",
      " 63  building_id                75757 non-null  int64  \n",
      "dtypes: float64(24), int64(37), object(3)\n",
      "memory usage: 37.0+ MB\n"
     ]
    }
   ],
   "source": [
    "df_train.info()"
   ]
  },
  {
   "cell_type": "code",
   "execution_count": 12,
   "metadata": {
    "colab": {
     "base_uri": "https://localhost:8080/"
    },
    "id": "My8mC0GHNJCt",
    "outputId": "33b67c3a-9cc7-4c5b-ea4d-0ec6a6a6b732"
   },
   "outputs": [
    {
     "name": "stdout",
     "output_type": "stream",
     "text": [
      "0\n",
      "0\n"
     ]
    }
   ],
   "source": [
    "print(df_train.duplicated().sum())\n",
    "print(df_test.duplicated().sum())"
   ]
  },
  {
   "cell_type": "code",
   "execution_count": 13,
   "metadata": {
    "colab": {
     "base_uri": "https://localhost:8080/"
    },
    "id": "NCbJF_dSN9XT",
    "outputId": "7a569afb-e1ae-4266-dc30-31e32be96b66"
   },
   "outputs": [
    {
     "name": "stdout",
     "output_type": "stream",
     "text": [
      "[]\n",
      "['year_factor', 'days_above_110F']\n"
     ]
    }
   ],
   "source": [
    "print([col for col in df_train if df_train[col].nunique()==1])\n",
    "print([col for col in df_test if df_test[col].nunique()==1])"
   ]
  },
  {
   "cell_type": "code",
   "execution_count": 14,
   "metadata": {
    "id": "zlU9sW1QgXkS"
   },
   "outputs": [],
   "source": [
    "def missing_values_table(df):\n",
    "        # Total missing values by column\n",
    "        mis_val = df.isnull().sum()\n",
    "        \n",
    "        # Percentage of missing values by column\n",
    "        mis_val_percent = 100 * df.isnull().sum() / len(df)\n",
    "        \n",
    "        # build a table with the thw columns\n",
    "        mis_val_table = pd.concat([mis_val, mis_val_percent], axis=1)\n",
    "        \n",
    "        # Rename the columns\n",
    "        mis_val_table_ren_columns = mis_val_table.rename(\n",
    "        columns = {0 : 'Missing Values', 1 : '% of Total Values'})\n",
    "        \n",
    "        # Sort the table by percentage of missing descending\n",
    "        mis_val_table_ren_columns = mis_val_table_ren_columns[\n",
    "            mis_val_table_ren_columns.iloc[:,1] != 0].sort_values(\n",
    "        '% of Total Values', ascending=False).round(1)\n",
    "        \n",
    "        # Print some summary information\n",
    "        print (\"Your selected dataframe has \" + str(df.shape[1]) + \" columns.\\n\"      \n",
    "            \"There are \" + str(mis_val_table_ren_columns.shape[0]) +\n",
    "              \" columns that have missing values.\")\n",
    "        \n",
    "        # Return the dataframe with missing information\n",
    "        return mis_val_table_ren_columns\n"
   ]
  },
  {
   "cell_type": "code",
   "execution_count": 15,
   "metadata": {
    "colab": {
     "base_uri": "https://localhost:8080/",
     "height": 324
    },
    "id": "1YTB3YwaOjBU",
    "outputId": "1bb4a1bf-dbf3-44a8-85da-a0499712ac5f"
   },
   "outputs": [
    {
     "name": "stdout",
     "output_type": "stream",
     "text": [
      "Train set columns with null values: \n",
      "['year_built', 'energy_star_rating', 'direction_max_wind_speed', 'direction_peak_wind_speed', 'max_wind_speed', 'days_with_fog']\n",
      "===========================================\n",
      "Your selected dataframe has 64 columns.\n",
      "There are 6 columns that have missing values.\n"
     ]
    },
    {
     "data": {
      "text/html": [
       "<style type=\"text/css\">\n",
       "#T_61378_row0_col0, #T_61378_row0_col1 {\n",
       "  background-color: #67000d;\n",
       "  color: #f1f1f1;\n",
       "}\n",
       "#T_61378_row1_col0, #T_61378_row1_col1 {\n",
       "  background-color: #940b13;\n",
       "  color: #f1f1f1;\n",
       "}\n",
       "#T_61378_row2_col0, #T_61378_row2_col1, #T_61378_row3_col0, #T_61378_row3_col1 {\n",
       "  background-color: #9c0d14;\n",
       "  color: #f1f1f1;\n",
       "}\n",
       "#T_61378_row4_col0, #T_61378_row4_col1 {\n",
       "  background-color: #f5523a;\n",
       "  color: #f1f1f1;\n",
       "}\n",
       "#T_61378_row5_col0, #T_61378_row5_col1 {\n",
       "  background-color: #fff5f0;\n",
       "  color: #000000;\n",
       "}\n",
       "</style>\n",
       "<table id=\"T_61378\">\n",
       "  <thead>\n",
       "    <tr>\n",
       "      <th class=\"blank level0\" >&nbsp;</th>\n",
       "      <th id=\"T_61378_level0_col0\" class=\"col_heading level0 col0\" >Missing Values</th>\n",
       "      <th id=\"T_61378_level0_col1\" class=\"col_heading level0 col1\" >% of Total Values</th>\n",
       "    </tr>\n",
       "  </thead>\n",
       "  <tbody>\n",
       "    <tr>\n",
       "      <th id=\"T_61378_level0_row0\" class=\"row_heading level0 row0\" >days_with_fog</th>\n",
       "      <td id=\"T_61378_row0_col0\" class=\"data row0 col0\" >45796</td>\n",
       "      <td id=\"T_61378_row0_col1\" class=\"data row0 col1\" >60.500000</td>\n",
       "    </tr>\n",
       "    <tr>\n",
       "      <th id=\"T_61378_level0_row1\" class=\"row_heading level0 row1\" >direction_peak_wind_speed</th>\n",
       "      <td id=\"T_61378_row1_col0\" class=\"data row1 col0\" >41811</td>\n",
       "      <td id=\"T_61378_row1_col1\" class=\"data row1 col1\" >55.200000</td>\n",
       "    </tr>\n",
       "    <tr>\n",
       "      <th id=\"T_61378_level0_row2\" class=\"row_heading level0 row2\" >direction_max_wind_speed</th>\n",
       "      <td id=\"T_61378_row2_col0\" class=\"data row2 col0\" >41082</td>\n",
       "      <td id=\"T_61378_row2_col1\" class=\"data row2 col1\" >54.200000</td>\n",
       "    </tr>\n",
       "    <tr>\n",
       "      <th id=\"T_61378_level0_row3\" class=\"row_heading level0 row3\" >max_wind_speed</th>\n",
       "      <td id=\"T_61378_row3_col0\" class=\"data row3 col0\" >41082</td>\n",
       "      <td id=\"T_61378_row3_col1\" class=\"data row3 col1\" >54.200000</td>\n",
       "    </tr>\n",
       "    <tr>\n",
       "      <th id=\"T_61378_level0_row4\" class=\"row_heading level0 row4\" >energy_star_rating</th>\n",
       "      <td id=\"T_61378_row4_col0\" class=\"data row4 col0\" >26709</td>\n",
       "      <td id=\"T_61378_row4_col1\" class=\"data row4 col1\" >35.300000</td>\n",
       "    </tr>\n",
       "    <tr>\n",
       "      <th id=\"T_61378_level0_row5\" class=\"row_heading level0 row5\" >year_built</th>\n",
       "      <td id=\"T_61378_row5_col0\" class=\"data row5 col0\" >1837</td>\n",
       "      <td id=\"T_61378_row5_col1\" class=\"data row5 col1\" >2.400000</td>\n",
       "    </tr>\n",
       "  </tbody>\n",
       "</table>\n"
      ],
      "text/plain": [
       "<pandas.io.formats.style.Styler at 0x20b4d3aab00>"
      ]
     },
     "execution_count": 15,
     "metadata": {},
     "output_type": "execute_result"
    }
   ],
   "source": [
    "print(\"Train set columns with null values: \")\n",
    "print(list(df_train.columns[df_train.isnull().any()]))\n",
    "print('===========================================')\n",
    "# Missing values for training data\n",
    "missing_values_train = missing_values_table(df_train)\n",
    "missing_values_train[:20].style.background_gradient(cmap='Reds')"
   ]
  },
  {
   "cell_type": "code",
   "execution_count": 16,
   "metadata": {
    "colab": {
     "base_uri": "https://localhost:8080/",
     "height": 324
    },
    "id": "EC_MgGLAOk8W",
    "outputId": "4fb0a2d4-c26e-408c-ab9e-c573b4241327"
   },
   "outputs": [
    {
     "name": "stdout",
     "output_type": "stream",
     "text": [
      "Test set columns with null values: \n",
      "['year_built', 'energy_star_rating', 'direction_max_wind_speed', 'direction_peak_wind_speed', 'max_wind_speed', 'days_with_fog']\n",
      "===========================================\n",
      "Your selected dataframe has 63 columns.\n",
      "There are 6 columns that have missing values.\n"
     ]
    },
    {
     "data": {
      "text/html": [
       "<style type=\"text/css\">\n",
       "#T_298e0_row0_col0, #T_298e0_row0_col1 {\n",
       "  background-color: #67000d;\n",
       "  color: #f1f1f1;\n",
       "}\n",
       "#T_298e0_row1_col0, #T_298e0_row1_col1, #T_298e0_row2_col0, #T_298e0_row2_col1, #T_298e0_row3_col0, #T_298e0_row3_col1 {\n",
       "  background-color: #840711;\n",
       "  color: #f1f1f1;\n",
       "}\n",
       "#T_298e0_row4_col0, #T_298e0_row4_col1 {\n",
       "  background-color: #fcbea5;\n",
       "  color: #000000;\n",
       "}\n",
       "#T_298e0_row5_col0, #T_298e0_row5_col1 {\n",
       "  background-color: #fff5f0;\n",
       "  color: #000000;\n",
       "}\n",
       "</style>\n",
       "<table id=\"T_298e0\">\n",
       "  <thead>\n",
       "    <tr>\n",
       "      <th class=\"blank level0\" >&nbsp;</th>\n",
       "      <th id=\"T_298e0_level0_col0\" class=\"col_heading level0 col0\" >Missing Values</th>\n",
       "      <th id=\"T_298e0_level0_col1\" class=\"col_heading level0 col1\" >% of Total Values</th>\n",
       "    </tr>\n",
       "  </thead>\n",
       "  <tbody>\n",
       "    <tr>\n",
       "      <th id=\"T_298e0_level0_row0\" class=\"row_heading level0 row0\" >days_with_fog</th>\n",
       "      <td id=\"T_298e0_row0_col0\" class=\"data row0 col0\" >9117</td>\n",
       "      <td id=\"T_298e0_row0_col1\" class=\"data row0 col1\" >93.900000</td>\n",
       "    </tr>\n",
       "    <tr>\n",
       "      <th id=\"T_298e0_level0_row1\" class=\"row_heading level0 row1\" >direction_max_wind_speed</th>\n",
       "      <td id=\"T_298e0_row1_col0\" class=\"data row1 col0\" >8575</td>\n",
       "      <td id=\"T_298e0_row1_col1\" class=\"data row1 col1\" >88.400000</td>\n",
       "    </tr>\n",
       "    <tr>\n",
       "      <th id=\"T_298e0_level0_row2\" class=\"row_heading level0 row2\" >direction_peak_wind_speed</th>\n",
       "      <td id=\"T_298e0_row2_col0\" class=\"data row2 col0\" >8575</td>\n",
       "      <td id=\"T_298e0_row2_col1\" class=\"data row2 col1\" >88.400000</td>\n",
       "    </tr>\n",
       "    <tr>\n",
       "      <th id=\"T_298e0_level0_row3\" class=\"row_heading level0 row3\" >max_wind_speed</th>\n",
       "      <td id=\"T_298e0_row3_col0\" class=\"data row3 col0\" >8575</td>\n",
       "      <td id=\"T_298e0_row3_col1\" class=\"data row3 col1\" >88.400000</td>\n",
       "    </tr>\n",
       "    <tr>\n",
       "      <th id=\"T_298e0_level0_row4\" class=\"row_heading level0 row4\" >energy_star_rating</th>\n",
       "      <td id=\"T_298e0_row4_col0\" class=\"data row4 col0\" >2254</td>\n",
       "      <td id=\"T_298e0_row4_col1\" class=\"data row4 col1\" >23.200000</td>\n",
       "    </tr>\n",
       "    <tr>\n",
       "      <th id=\"T_298e0_level0_row5\" class=\"row_heading level0 row5\" >year_built</th>\n",
       "      <td id=\"T_298e0_row5_col0\" class=\"data row5 col0\" >92</td>\n",
       "      <td id=\"T_298e0_row5_col1\" class=\"data row5 col1\" >0.900000</td>\n",
       "    </tr>\n",
       "  </tbody>\n",
       "</table>\n"
      ],
      "text/plain": [
       "<pandas.io.formats.style.Styler at 0x20b4d3aab60>"
      ]
     },
     "execution_count": 16,
     "metadata": {},
     "output_type": "execute_result"
    }
   ],
   "source": [
    "print(\"Test set columns with null values: \")\n",
    "print(list(df_test.columns[df_test.isnull().any()]))\n",
    "print('===========================================')\n",
    "# Missing values for test data\n",
    "missing_values_test = missing_values_table(df_test)\n",
    "missing_values_test[:20].style.background_gradient(cmap='Reds')"
   ]
  },
  {
   "cell_type": "code",
   "execution_count": 17,
   "metadata": {
    "colab": {
     "base_uri": "https://localhost:8080/",
     "height": 423
    },
    "id": "Ct3fxuu9O3ni",
    "outputId": "a6b3e07e-5d91-4696-deb5-4ab7645dd0d1"
   },
   "outputs": [
    {
     "data": {
      "text/html": [
       "<div>\n",
       "<style scoped>\n",
       "    .dataframe tbody tr th:only-of-type {\n",
       "        vertical-align: middle;\n",
       "    }\n",
       "\n",
       "    .dataframe tbody tr th {\n",
       "        vertical-align: top;\n",
       "    }\n",
       "\n",
       "    .dataframe thead th {\n",
       "        text-align: right;\n",
       "    }\n",
       "</style>\n",
       "<table border=\"1\" class=\"dataframe\">\n",
       "  <thead>\n",
       "    <tr style=\"text-align: right;\">\n",
       "      <th></th>\n",
       "      <th>year_factor</th>\n",
       "      <th>days_above_110F</th>\n",
       "    </tr>\n",
       "  </thead>\n",
       "  <tbody>\n",
       "    <tr>\n",
       "      <th>0</th>\n",
       "      <td>7</td>\n",
       "      <td>0</td>\n",
       "    </tr>\n",
       "    <tr>\n",
       "      <th>1</th>\n",
       "      <td>7</td>\n",
       "      <td>0</td>\n",
       "    </tr>\n",
       "    <tr>\n",
       "      <th>2</th>\n",
       "      <td>7</td>\n",
       "      <td>0</td>\n",
       "    </tr>\n",
       "    <tr>\n",
       "      <th>3</th>\n",
       "      <td>7</td>\n",
       "      <td>0</td>\n",
       "    </tr>\n",
       "    <tr>\n",
       "      <th>4</th>\n",
       "      <td>7</td>\n",
       "      <td>0</td>\n",
       "    </tr>\n",
       "    <tr>\n",
       "      <th>...</th>\n",
       "      <td>...</td>\n",
       "      <td>...</td>\n",
       "    </tr>\n",
       "    <tr>\n",
       "      <th>9700</th>\n",
       "      <td>7</td>\n",
       "      <td>0</td>\n",
       "    </tr>\n",
       "    <tr>\n",
       "      <th>9701</th>\n",
       "      <td>7</td>\n",
       "      <td>0</td>\n",
       "    </tr>\n",
       "    <tr>\n",
       "      <th>9702</th>\n",
       "      <td>7</td>\n",
       "      <td>0</td>\n",
       "    </tr>\n",
       "    <tr>\n",
       "      <th>9703</th>\n",
       "      <td>7</td>\n",
       "      <td>0</td>\n",
       "    </tr>\n",
       "    <tr>\n",
       "      <th>9704</th>\n",
       "      <td>7</td>\n",
       "      <td>0</td>\n",
       "    </tr>\n",
       "  </tbody>\n",
       "</table>\n",
       "<p>9705 rows × 2 columns</p>\n",
       "</div>"
      ],
      "text/plain": [
       "      year_factor  days_above_110F\n",
       "0               7                0\n",
       "1               7                0\n",
       "2               7                0\n",
       "3               7                0\n",
       "4               7                0\n",
       "...           ...              ...\n",
       "9700            7                0\n",
       "9701            7                0\n",
       "9702            7                0\n",
       "9703            7                0\n",
       "9704            7                0\n",
       "\n",
       "[9705 rows x 2 columns]"
      ]
     },
     "execution_count": 17,
     "metadata": {},
     "output_type": "execute_result"
    }
   ],
   "source": [
    "df_test[['year_factor', 'days_above_110F']]"
   ]
  },
  {
   "cell_type": "markdown",
   "metadata": {
    "id": "PQS9IP84RgTa"
   },
   "source": [
    "<div style=\"border-radius:10px; border:#DEB887 solid; padding: 15px; background-color: #FFFAF0; font-size:100%; text-align:left\">\n",
    "<h3 align=\"left\"><font color='#DEB887'>💡 Observations:</font></h3>\n",
    "   \n",
    "1) `year_built`, `energy_star_rating`, `direction_max_wind_speed`, `direction_peak_wind_speed`, `max_wind_speed`, `days_with_fog` variables have `NA` values.   \n",
    "2) Data contains 75757 samples and 64 features. We have 3 categorical and rest numerical features. Target is numerical.   \n",
    "3) There are no duplicates in individual dataset, however there might be duplicates in the combined version   \n",
    "4) there are no constant columns in train dataset, but test dataset has 2 constant columns   "
   ]
  },
  {
   "cell_type": "markdown",
   "metadata": {
    "id": "K6xeC-NuQ-wz"
   },
   "source": [
    "###  <span style=\"font-family:cursive;text-align:center\">combine the datasets for the visualizations</span>"
   ]
  },
  {
   "cell_type": "code",
   "execution_count": null,
   "metadata": {
    "id": "jGzdCTXpPBgv"
   },
   "outputs": [],
   "source": [
    "test['site_eui'] = np.nan #63\n",
    "test['dataset'] = 'test'\n",
    "train['dataset'] = 'train'\n",
    "\n",
    "\n",
    "# train = commondf[\"dataset\"]  == \"train\"\n",
    "\n",
    "df_all = pd.concat([train, test], axis=0, ignore_index=True)"
   ]
  },
  {
   "cell_type": "markdown",
   "metadata": {
    "id": "6i7oF5jmSVLz"
   },
   "source": [
    "<div class=\"alert alert-block alert-info\" style=\"font-size:14px; font-family:verdana; line-height: 1.7em;\">\n",
    "    The dataset contains time variable, `Year_Factor`, that has values from 1 to 7. Assuming the values are consecutive years,`train` dataset contains the first 6 years and `test` set contains the 7th year.</div>"
   ]
  },
  {
   "cell_type": "code",
   "execution_count": null,
   "metadata": {
    "colab": {
     "base_uri": "https://localhost:8080/",
     "height": 314
    },
    "id": "VFWyDFiNRGq_",
    "outputId": "f31b6218-025c-47d0-e0ee-30ba194d44cb"
   },
   "outputs": [],
   "source": [
    "ax = sns.catplot(x='Year_Factor', \n",
    "                 y='id', \n",
    "                 data=df_all.groupby(['dataset','Year_Factor']).agg({'id':'count'}).reset_index(),\n",
    "                 hue='dataset',\n",
    "                 kind='bar',\n",
    "                 aspect=2,\n",
    "                 height=4)\\\n",
    ".set(title=\"The number of data points by year\",\n",
    "     ylabel=None)\n",
    "\n",
    "# encoded (morphed) value of original year"
   ]
  },
  {
   "cell_type": "markdown",
   "metadata": {
    "id": "rUjLqPDGSbtC"
   },
   "source": [
    "<div class=\"alert alert-block alert-info\" style=\"font-size:14px; font-family:verdana; line-height: 1.7em;\">`train` set contains data points of 7 states, however, `test` doesn't have any data point from `State_6`.</div>"
   ]
  },
  {
   "cell_type": "code",
   "execution_count": null,
   "metadata": {
    "colab": {
     "base_uri": "https://localhost:8080/",
     "height": 314
    },
    "id": "Ert13lT1SXZo",
    "outputId": "911ba9f6-964a-47de-c755-2eeff22a869e"
   },
   "outputs": [],
   "source": [
    "ax = sns.relplot(x='State_Factor', \n",
    "                 y='id', \n",
    "                 data=df_all.groupby(['dataset','State_Factor']).agg({'id':'count'}).reset_index(),\n",
    "                 hue='dataset',\n",
    "                 style='dataset',\n",
    "                 aspect=2,\n",
    "                 height=4,\n",
    "                 s=50,\n",
    "                 alpha=0.9\n",
    "                )\\\n",
    ".set(title = \"The number of data points by States\",\n",
    "    ylabel=None)"
   ]
  },
  {
   "cell_type": "code",
   "execution_count": null,
   "metadata": {},
   "outputs": [],
   "source": [
    "# df_test[\"state_factor\"].unique()"
   ]
  },
  {
   "cell_type": "markdown",
   "metadata": {
    "id": "xQkM_hPvSnyV"
   },
   "source": [
    "<div class=\"alert alert-block alert-info\" style=\"font-size:14px; font-family:verdana; line-height: 1.7em;\">Both residential and commercial buildings are present in both datasets. `train` data contains more residential buildings compared to `test` set which is due to the number of`State_6` buildings in `train` set which seems to add to the number. Apart from `State_6`, the number of commercial buildings are higher than the residential buildings and `State_10` only contains commercial buildings. The type of building and state could be important factors in determining `EUI`.</div>"
   ]
  },
  {
   "cell_type": "code",
   "execution_count": null,
   "metadata": {
    "colab": {
     "base_uri": "https://localhost:8080/",
     "height": 374
    },
    "id": "HXTzCACLSdyQ",
    "outputId": "b158f88c-1391-4489-c82c-833cda06ac41"
   },
   "outputs": [],
   "source": [
    "fig, ax = plt.subplots(1,3, figsize=(20,5), sharey=True)\n",
    "fig.suptitle(\"The number of data points by dataset\")\n",
    "\n",
    "sns.barplot(x='dataset',\n",
    "            y='id',\n",
    "            data=df_all.groupby(['dataset','building_class']).agg({'id':'count'}).reset_index(),\n",
    "            hue='building_class',\n",
    "            ax=ax[0],\n",
    "            ci=False)\n",
    "\n",
    "for e, s in enumerate(df_all['building_class'].unique(),1):\n",
    "    sns.barplot(x='State_Factor',\n",
    "                y='id',\n",
    "                data=df_all[df_all['building_class']==s].groupby(['dataset','State_Factor']).agg({'id':'count'}).reset_index(),\n",
    "                hue='dataset',\n",
    "                ax=ax[e],\n",
    "                ci=False)\n",
    "    ax[e].set_title(s)\n",
    "    ax[e].set_ylabel(\"\")\n",
    "    ax[e].set_xlabel(\"\")\n",
    "\n",
    "ax[0].set_title(\"By building class\")\n",
    "ax[0].set_ylabel(\"\")\n",
    "ax[0].set_xlabel(\"\")"
   ]
  },
  {
   "cell_type": "markdown",
   "metadata": {
    "id": "Ofqr9zHmSrLK"
   },
   "source": [
    "<div class=\"alert alert-block alert-info\" style=\"font-size:14px; font-family:verdana; line-height: 1.7em;\">All facility types are present in both datasets. Almost 90% of residential `Multifamily_uncategorized` buildings and 50% of `Office_uncategorized` are in `State_6` of the training set. Not quite sure how `State_6` will affect the model learning and prediction.</div>"
   ]
  },
  {
   "cell_type": "code",
   "execution_count": null,
   "metadata": {
    "colab": {
     "base_uri": "https://localhost:8080/",
     "height": 595
    },
    "id": "XzEG9rS5SgrJ",
    "outputId": "6c969fe3-5c55-49ae-ac67-361f8375fe5f"
   },
   "outputs": [],
   "source": [
    "ax = sns.relplot(x='facility_type', \n",
    "                 y='id', \n",
    "                 data=df_all.groupby(['dataset','facility_type']).agg({'id':'count'}).reset_index(),\n",
    "                 hue='dataset',\n",
    "                 style='dataset',\n",
    "                 aspect=3,\n",
    "                 height=5,\n",
    "                 s=50,\n",
    "                 alpha=0.9\n",
    "                )\\\n",
    ".set(title = \"The number of data points by Facility type\",\n",
    "    ylabel=None)\n",
    "\n",
    "ax.set_xticklabels(rotation=90) \n",
    "None"
   ]
  },
  {
   "cell_type": "markdown",
   "metadata": {
    "id": "4UdbYPI-S0cy"
   },
   "source": [
    "<div class=\"alert alert-block alert-info\" style=\"font-size:14px; font-family:verdana; line-height: 1.7em;\">The oldest building was built in 1600 and the latest in 2016. The majority of the buildings were built since 1900. There were some 0 and null values. Not quite sure what 0 signifies.</div>"
   ]
  },
  {
   "cell_type": "code",
   "execution_count": null,
   "metadata": {
    "colab": {
     "base_uri": "https://localhost:8080/"
    },
    "id": "Q7tg5K61TAZa",
    "outputId": "6db42ba9-ae3b-4614-8881-a3b079776639"
   },
   "outputs": [],
   "source": [
    "df_all['year_built'].value_counts().index.sort_values()"
   ]
  },
  {
   "cell_type": "code",
   "execution_count": null,
   "metadata": {
    "colab": {
     "base_uri": "https://localhost:8080/",
     "height": 356
    },
    "id": "17d56Jh0Suwg",
    "outputId": "f4e70ad3-5c94-4075-bc1b-255d3d771677"
   },
   "outputs": [],
   "source": [
    "temp = df_all[['year_built']].fillna(2029).replace({0:2029}).astype('category').value_counts().reset_index().rename({0:'count'},axis=1)\\\n",
    "            .sort_values('year_built')\n",
    "# temp['year_built'] = temp['year_built'].astype('category')\n",
    "fig, ax = plt.subplots(figsize=(15,5))\n",
    "\n",
    "ax=plt.bar(temp['year_built'],\n",
    "           temp['count']\n",
    "          )\n",
    "\n",
    "fig.suptitle(f\"The year built min: {min(temp['year_built'])}, max: {max(df_all['year_built'])}\");"
   ]
  },
  {
   "cell_type": "markdown",
   "metadata": {
    "id": "d1FGBH8HTvNK"
   },
   "source": [
    "<div class=\"alert alert-block alert-info\" style=\"font-size:14px; font-family:verdana; line-height: 1.7em;\">`train` set buildings have higher floor areas compared to `test` set buildings and small positive correlation between `floor_area` and `energy_star_rating` can be observable. </div>"
   ]
  },
  {
   "cell_type": "code",
   "execution_count": null,
   "metadata": {
    "colab": {
     "base_uri": "https://localhost:8080/",
     "height": 868
    },
    "id": "ofxv628IS6HO",
    "outputId": "2472bbd2-451e-4aec-f432-ba60832c7053"
   },
   "outputs": [],
   "source": [
    "sns.pairplot(df_all,\n",
    "            vars=['energy_star_rating','floor_area','ELEVATION'], \n",
    "            hue='dataset',\n",
    "            height=4,\n",
    "            plot_kws = {'alpha': 0.4, 's': 30, 'edgecolor': 'k'},\n",
    "            corner=True\n",
    "           );"
   ]
  },
  {
   "cell_type": "markdown",
   "metadata": {
    "id": "VN4mVMnoT1Wy"
   },
   "source": [
    "<div class=\"alert alert-block alert-info\" style=\"font-size:14px; font-family:verdana; line-height: 1.7em;\">According to the average temperature (`avg_temp`), if we list states from warmest to coldest: State 1, State 10, State 2, and State 8. The range of temperatures of State1, State 6,  State 11 and State 4 are higher compared to the other states. </div>"
   ]
  },
  {
   "cell_type": "code",
   "execution_count": null,
   "metadata": {
    "colab": {
     "base_uri": "https://localhost:8080/",
     "height": 338
    },
    "id": "2mnXKkIwTyIm",
    "outputId": "1647ecc6-4192-4107-d83d-a734c552f556"
   },
   "outputs": [],
   "source": [
    "fig, ax = plt.subplots(figsize=(10,5))\n",
    "sns.boxplot(data=df_all[['avg_temp','State_Factor']].drop_duplicates(), y='avg_temp', x='State_Factor');\n",
    "\n",
    "\n",
    "# any one categorical col (with low unique vals)"
   ]
  },
  {
   "cell_type": "markdown",
   "metadata": {
    "id": "epiKT5XUUBbr"
   },
   "source": [
    "<div class=\"alert alert-block alert-info\" style=\"font-size:14px; font-family:verdana; line-height: 1.7em;\">Each month has unique temperature values between 31 and 59 which means the values in temperature volumes are highly repeated for the data points.</div>"
   ]
  },
  {
   "cell_type": "code",
   "execution_count": null,
   "metadata": {
    "colab": {
     "base_uri": "https://localhost:8080/",
     "height": 417
    },
    "id": "RsOexgVWT5_7",
    "outputId": "f49cdf66-c444-42ed-8d36-23c984146902"
   },
   "outputs": [],
   "source": [
    "cols = [['january_min_temp', 'january_avg_temp', 'january_max_temp'],\n",
    "        ['february_min_temp', 'february_avg_temp', 'february_max_temp'],\n",
    "        ['march_min_temp', 'march_avg_temp', 'march_max_temp'], \n",
    "        ['april_min_temp','april_avg_temp', 'april_max_temp'], \n",
    "        ['may_min_temp', 'may_avg_temp','may_max_temp'], \n",
    "        ['june_min_temp', 'june_avg_temp', 'june_max_temp'],\n",
    "        ['july_min_temp', 'july_avg_temp', 'july_max_temp'], \n",
    "        ['august_min_temp','august_avg_temp', 'august_max_temp'], \n",
    "        ['september_min_temp','september_avg_temp', 'september_max_temp'], \n",
    "        ['october_min_temp','october_avg_temp', 'october_max_temp'], \n",
    "        ['november_min_temp','november_avg_temp', 'november_max_temp'], \n",
    "        ['december_min_temp','december_avg_temp', 'december_max_temp']]\n",
    "        \n",
    "fig, ax = plt.subplots(2, 6, figsize=(20,6), sharey=True)\n",
    "fig.suptitle(\"Monthly temperature and number of unique values\")\n",
    "\n",
    "for e, c in enumerate(cols):\n",
    "    if e<=5:\n",
    "        sns.histplot(df_all[c].drop_duplicates(), ax=ax[0,e], legend=False)\\\n",
    "        .set(title=c[0][:c[0].find('_')]+ '_#'+str(len(df_all[c[0]].unique())))\n",
    "    else:\n",
    "        sns.histplot(df_all[c].drop_duplicates(), ax=ax[1,e-6], legend=False)\\\n",
    "        .set(title=c[0][:c[0].find('_')]+ '_#'+str(len(df_all[c[0]].unique())))\n",
    "        \n",
    "plt.subplots_adjust(hspace=0.4)"
   ]
  },
  {
   "cell_type": "markdown",
   "metadata": {
    "id": "zAopMcvkUKud"
   },
   "source": [
    "<div class=\"alert alert-block alert-info\" style=\"font-size:14px; font-family:verdana; line-height: 1.7em;\">Other weather related numerical columns also have few unique values.</div>"
   ]
  },
  {
   "cell_type": "code",
   "execution_count": null,
   "metadata": {
    "colab": {
     "base_uri": "https://localhost:8080/",
     "height": 1000
    },
    "id": "lIMt7AH0UHfQ",
    "outputId": "b6fb96d3-4ebf-411f-8b21-789ee3ffe776"
   },
   "outputs": [],
   "source": [
    "cols=['cooling_degree_days','heating_degree_days', 'precipitation_inches', 'snowfall_inches',\n",
    "       'snowdepth_inches', 'avg_temp', 'days_below_30F', 'days_below_20F',\n",
    "       'days_below_10F', 'days_below_0F', 'days_above_80F', 'days_above_90F',\n",
    "       'days_above_100F', 'days_above_110F', 'direction_max_wind_speed',\n",
    "       'direction_peak_wind_speed', 'max_wind_speed', 'days_with_fog']\n",
    "\n",
    "fig, ax = plt.subplots(6,3, figsize=(15,18), sharey=True)\n",
    "fig.suptitle(\"Numerical variables and the number of unique values\")\n",
    "\n",
    "for e, c in enumerate(cols):\n",
    "    if e<=5:\n",
    "        sns.histplot(df_all[c].drop_duplicates(), ax=ax[e,0], legend=False)\\\n",
    "        .set(title=c+\"_#\"+str(len(df_all[c].unique())), ylabel=None, xlabel=None)\n",
    "    elif (e>=6) & (e<=11):\n",
    "        sns.histplot(df_all[c].drop_duplicates(), ax=ax[e-6,1], legend=False)\\\n",
    "        .set(title=c+\"_#\"+str(len(df_all[c].unique())), ylabel=None, xlabel=None)\n",
    "    else:\n",
    "        sns.histplot(df_all[c].drop_duplicates(), ax=ax[e-12,2], legend=False)\\\n",
    "        .set(title=c+\"_#\"+str(len(df_all[c].unique())), ylabel=None, xlabel=None)\n",
    "        \n",
    "plt.subplots_adjust(hspace=0.7)"
   ]
  },
  {
   "cell_type": "code",
   "execution_count": null,
   "metadata": {},
   "outputs": [],
   "source": [
    "\n",
    "# # larger datasets\n",
    "# find groups in the columns\n",
    "# elevation, floor areas (dimentions)\n",
    "# temperature\n",
    "# wind\n",
    "\n",
    "\n"
   ]
  },
  {
   "cell_type": "markdown",
   "metadata": {
    "id": "_dfUqW2DUWxh"
   },
   "source": [
    "### <span style=\"font-family:cursive;text-align:center\">📌Target Variable Exploration (EUI)</span>"
   ]
  },
  {
   "cell_type": "code",
   "execution_count": null,
   "metadata": {},
   "outputs": [],
   "source": [
    "# the target is skewed  (log-normal)\n",
    "# the target has many outliers\n",
    "# decision:  log-transform,  IQR outlier treatment\n",
    "\n",
    "# perform:  we do not perform any transformation"
   ]
  },
  {
   "cell_type": "code",
   "execution_count": null,
   "metadata": {
    "colab": {
     "base_uri": "https://localhost:8080/",
     "height": 369
    },
    "id": "Ifnqpo7CUedf",
    "outputId": "c2a6e05e-b71f-4c05-906e-c667cd5842a4"
   },
   "outputs": [],
   "source": [
    "plt.figure(figsize=(10,5))\n",
    "ax1 = plt.subplot(1,2,1)\n",
    "cp = sns.histplot(x=df_all['site_eui'], kde=True, palette='Set2')\n",
    "ax1.set_xlabel('Target Histogram', fontsize=14)\n",
    "ax2 = plt.subplot(1,2,2)\n",
    "sns.boxplot(y=df_all['site_eui'], palette='Set2')\n",
    "ax2.set_xlabel('Target boxplot', fontsize=14)\n",
    "plt.tight_layout();"
   ]
  },
  {
   "cell_type": "markdown",
   "metadata": {
    "id": "9fxOhvl6VRKj"
   },
   "source": [
    "<div class=\"alert alert-block alert-info\" style=\"font-size:14px; font-family:verdana; line-height: 1.7em;\">State 2 and 4 have slightly higher EUI and State 11 and 8 have lower EUI level.</div>"
   ]
  },
  {
   "cell_type": "code",
   "execution_count": null,
   "metadata": {
    "colab": {
     "base_uri": "https://localhost:8080/",
     "height": 373
    },
    "id": "JZtfu5IsUlDu",
    "outputId": "0d84e7e2-2027-49bc-fb20-0758703c7130"
   },
   "outputs": [],
   "source": [
    "fig, ax = plt.subplots(1,2, figsize=(20,5))\n",
    "fig.suptitle(\"EUI by States\")\n",
    "\n",
    "sns.histplot(df_all, x='site_eui',hue='State_Factor', ax=ax[0])\\\n",
    ".set(title='EUI by State', ylabel=None)\n",
    "\n",
    "sns.histplot(df_all[df_all['State_Factor']!='State_6'], x='site_eui', hue='State_Factor', ax=ax[1])\\\n",
    ".set(title='EUI by State (State 6 removed)', ylabel=None);"
   ]
  },
  {
   "cell_type": "code",
   "execution_count": null,
   "metadata": {
    "colab": {
     "base_uri": "https://localhost:8080/",
     "height": 374
    },
    "id": "eIuQOoVVVKqe",
    "outputId": "98c837f6-a670-44bb-e6d6-9f13eacb6684"
   },
   "outputs": [],
   "source": [
    "fig, ax = plt.subplots(1,2, figsize=(15,5))\n",
    "fig.suptitle(\"EUI by State and building class\")\n",
    "\n",
    "sns.violinplot(data=df_all, y='site_eui', x='State_Factor', ax=ax[0])\n",
    "sns.violinplot(data=df_all, y='site_eui', x='building_class', ax=ax[1]);"
   ]
  },
  {
   "cell_type": "markdown",
   "metadata": {
    "id": "_IFDdo-7Ve8U"
   },
   "source": [
    "<div class=\"alert alert-block alert-info\" style=\"font-size:14px; font-family:verdana; line-height: 1.7em;\">Labs and Data Centers have higher EUI compared to the other types of buildings. Grocery stores, Health Care Inpatient, Health Care Uncategorized, Health Care Outpatient, and Food service, restaurants have higher range of EUI. It could be the essential services must operate for longer hours, therefore, have higher EUI.</div>"
   ]
  },
  {
   "cell_type": "code",
   "execution_count": null,
   "metadata": {
    "colab": {
     "base_uri": "https://localhost:8080/",
     "height": 583
    },
    "id": "4SYPB0JlVdgG",
    "outputId": "3cb62a30-6d11-4d5a-842a-3ee48cc3793f"
   },
   "outputs": [],
   "source": [
    "fig, ax = plt.subplots(figsize=(20,5))\n",
    "fig.suptitle(\"EUI by facility type\")\n",
    "ax=sns.boxplot(data=df_all, y='site_eui', x='facility_type')\n",
    "ax.set_xticklabels(ax.get_xticklabels(), rotation=90);"
   ]
  },
  {
   "cell_type": "markdown",
   "metadata": {
    "id": "pxcldUFvVkud"
   },
   "source": [
    "<div class=\"alert alert-block alert-info\" style=\"font-size:14px; font-family:verdana; line-height: 1.7em;\">`floor_area` could have positive relationship with `EUI`. The younger buildings tend to have higher `EUI` which could be because building height and size have increased over the years. It looks like the Higher the `energy_star_rating` is, the lower the `EUI` becomes.</div>"
   ]
  },
  {
   "cell_type": "code",
   "execution_count": null,
   "metadata": {
    "colab": {
     "base_uri": "https://localhost:8080/",
     "height": 354
    },
    "id": "esNqXoZ5Vhgk",
    "outputId": "6903371c-b9c1-4785-fd1f-5c7865cb255c"
   },
   "outputs": [],
   "source": [
    "fig, ax = plt.subplots(1,4, figsize=(20,5))\n",
    "\n",
    "for e, col in enumerate(['floor_area', 'year_built', 'energy_star_rating', 'ELEVATION']):\n",
    "    if col =='year_built':\n",
    "        sns.scatterplot(data=df_all[(df_all['year_built']!=0) & (df_all['year_built'].notna())], \n",
    "                        x=col, y='site_eui', ax=ax[e]).set(title='EUI by '+ col, ylabel=None)\n",
    "    else:\n",
    "        sns.scatterplot(data=df_all, x=col, y='site_eui', ax=ax[e]).set(title='EUI by '+ col, ylabel=None);"
   ]
  },
  {
   "cell_type": "markdown",
   "metadata": {
    "id": "fYzg9fB9V6MY"
   },
   "source": [
    "<div class=\"alert alert-block alert-info\" style=\"font-size:14px; font-family:verdana; line-height: 1.7em;\">The most data points are in lower number of `cooling_degree_days` and higher number of`heating_degree_days`. The majority of the datapoints are also in the lower levels of `snowfall_inches` and `snowdepth_inches`. `direction_max_wind_speed`, `direction_peak_wind_speed`, `max_wind_speed`, and `days_with_fog` columns have the `NA` values of over 50%. No relationship between `EUI` and the weather related numerica columns can be observed from the plot.</div>"
   ]
  },
  {
   "cell_type": "code",
   "execution_count": null,
   "metadata": {
    "colab": {
     "base_uri": "https://localhost:8080/",
     "height": 557
    },
    "id": "qJvgNFCdVq51",
    "outputId": "1dcd4537-d059-4877-b7a1-4fbad396e24d"
   },
   "outputs": [],
   "source": [
    "cols=[['cooling_degree_days','heating_degree_days', 'precipitation_inches', \n",
    "      'snowfall_inches','snowdepth_inches'], \n",
    "      ['avg_temp', \n",
    "      'direction_max_wind_speed','direction_peak_wind_speed', 'max_wind_speed', \n",
    "      'days_with_fog']]\n",
    "\n",
    "fig, ax = plt.subplots(2,5, figsize=(20,8))\n",
    "fig.suptitle('EUI by numerical columns')\n",
    "\n",
    "for e1, l in enumerate(cols):\n",
    "    for e2, col in enumerate(l):\n",
    "        sns.scatterplot(data=df_all, \n",
    "                        x=col, y='site_eui', ax=ax[e1, e2]).set(ylabel=None);"
   ]
  },
  {
   "cell_type": "markdown",
   "metadata": {
    "id": "Ul5Peo7PWBis"
   },
   "source": [
    "<div style=\"border-radius:10px; border:#DEB887 solid; padding: 15px; background-color: #FFFAF0; font-size:100%; text-align:left\">\n",
    "<h3 align=\"left\"><font color='#DEB887'>💡 Observations:</font></h3>\n",
    "\n",
    "- Categorical variables such as `State_Factor`, `building_class` and `facility_type` might have some correlation with `EUI`.\n",
    "- `State_6` is not present in `test` set. State 6 removed training data should be tested.\n",
    "- `floor_area`, `energe_star_rating` should be included in the modelling to be tested.\n",
    "- From the plots, it's difficult to observe direct (linear) relationship between `EUI` and weather related variables. However, this doesn't deny non-linear relationships among the variables.\n",
    "- Variables with more than 50% `NA` values should not be imputed (in my opinion) and better to be not included in the training set.\n",
    "- Weather variables have few unique values repeated throughout the datapoints. Not sure how this duplicated values might affect the modeling and prediction."
   ]
  },
  {
   "cell_type": "markdown",
   "metadata": {
    "id": "cCPPq7I0Yhoc"
   },
   "source": [
    "# <span style=\"font-family:cursive;text-align:center\">⚙️ Preprocessing</span>"
   ]
  },
  {
   "cell_type": "markdown",
   "metadata": {
    "id": "Lku2dS2MhaMx"
   },
   "source": [
    "\n",
    "\n",
    "<div class=\"alert alert-block alert-info\" style=\"font-size:14px; font-family:verdana; line-height: 1.7em;\">\n",
    "    we will suppose that two  if two buildings have the same values for these features;   \n",
    "they are the same building, in other words groupby_cols = (building_id)\n",
    "\n",
    "\n",
    "Removing duplicates by clubbing similar building data\n",
    "</div>"
   ]
  },
  {
   "cell_type": "code",
   "execution_count": null,
   "metadata": {},
   "outputs": [],
   "source": [
    "# null values,\n",
    "# weather data points have a lot of repetition\n",
    "# categories encoded"
   ]
  },
  {
   "cell_type": "code",
   "execution_count": null,
   "metadata": {
    "id": "EcEBH4qAV9X9"
   },
   "outputs": [],
   "source": [
    "groupby_cols = ['State_Factor','building_class','facility_type','floor_area','year_built']\n",
    "df_all = df_all.sort_values(by=groupby_cols+['Year_Factor']).reset_index(drop=True)"
   ]
  },
  {
   "cell_type": "code",
   "execution_count": null,
   "metadata": {
    "colab": {
     "base_uri": "https://localhost:8080/"
    },
    "id": "WXtGndrPZFUz",
    "outputId": "40d006ff-6edb-4782-dfc1-31593c065b8b"
   },
   "outputs": [],
   "source": [
    "df_all.loc[:,df_all.dtypes=='object'].columns"
   ]
  },
  {
   "cell_type": "markdown",
   "metadata": {
    "id": "W9j9jsBIhQi4"
   },
   "source": [
    "\n",
    "<div class=\"alert alert-block alert-info\" style=\"font-size:14px; font-family:verdana; line-height: 1.7em;\">\n",
    "    Null imputation for categorical values: <b>KNN Imputing</b>\n",
    "</div>"
   ]
  },
  {
   "cell_type": "code",
   "execution_count": null,
   "metadata": {
    "id": "XjuMu3CUY_rZ"
   },
   "outputs": [],
   "source": [
    "df_all_one_hot = df_all.copy()\n",
    "\n",
    "cats = ['State_Factor', 'facility_type', 'building_class']\n",
    "for col in cats:\n",
    "    dummies = pd.get_dummies(df_all_one_hot[col], dummy_na=False)\n",
    "    for ohe_col in dummies:\n",
    "        df_all_one_hot[f'ohe_{col}_{ohe_col}'] = dummies[ohe_col]"
   ]
  },
  {
   "cell_type": "code",
   "execution_count": null,
   "metadata": {
    "colab": {
     "base_uri": "https://localhost:8080/",
     "height": 487
    },
    "id": "pY3DyWgzsV3P",
    "outputId": "7a32f375-0d2e-46ee-ba7c-932b5eaf46df"
   },
   "outputs": [],
   "source": [
    "df_all_one_hot"
   ]
  },
  {
   "cell_type": "code",
   "execution_count": null,
   "metadata": {
    "id": "_PIXeOOqZmNc"
   },
   "outputs": [],
   "source": [
    "# This takes 1 hr, hence, unpickle the df1 and carry on with knn_imputing = False\n",
    "\n",
    "knn_imputing = False\n",
    "target='site_eui'\n",
    "\n",
    "if knn_imputing:\n",
    "    imputer = KNNImputer(n_neighbors=7)\n",
    "    tmp = df_all[['State_Factor', 'building_class', 'facility_type', 'dataset', target]]\n",
    "    df = df_all.drop(tmp.columns, axis=1)\n",
    "    df1 = pd.DataFrame(imputer.fit_transform(df),columns = df.columns)\n",
    "    tmp.to_csv('imputer_tmp.csv', index=False)\n",
    "    df1.to_csv('imputer_df1.csv', index=False)\n",
    "    joblib.dump(imputer, 'knn_imputer.pkl')\n",
    "\n",
    "else:\n",
    "    df1 = pd.read_csv('imputer_df1.csv')\n",
    "    tmp = df_all[['State_Factor', 'building_class', 'facility_type', 'dataset', target]]\n",
    "    df_all = df_all.drop(tmp.columns, axis=1)\n",
    "    for col in tmp.columns:\n",
    "        df_all[col]=tmp[col]\n",
    "    for col in df1.columns:\n",
    "        df_all[col] = df1[col]\n",
    "\n",
    "\n",
    "# df1: no null values\n",
    "# tmp: seperated columns\n",
    "#     df1 + tmp  => final df\n",
    "\n",
    "\n",
    "\n",
    "# null points  => neighbours (most gets imputed)"
   ]
  },
  {
   "cell_type": "markdown",
   "metadata": {
    "id": "UdvHvwnvq_H_"
   },
   "source": [
    "<div class=\"alert alert-block alert-info\" style=\"font-size:14px; font-family:verdana; line-height: 1.7em;\">\n",
    "    <b>Target encoding</b> for categorical columns.  \n",
    "Target encoding is the process of replacing a categorical value with the mean of the target variable. Any non-categorical columns are automatically dropped by the target encoder model.\n",
    "\n",
    "Note: You can also use target encoding to convert categorical columns to numeric. \n",
    "\n",
    "> “features are replaced with a blend of posterior probability of the target given particular categorical value and the prior probability of the target over all the training data.”\n",
    "\n",
    "[Target Encoding Vs. One-hot Encoding with Simple Examples](https://medium.com/analytics-vidhya/target-encoding-vs-one-hot-encoding-with-simple-examples-276a7e7b3e64)\n",
    "<div>"
   ]
  },
  {
   "cell_type": "code",
   "execution_count": null,
   "metadata": {
    "id": "762Z82fTiNQ3"
   },
   "outputs": [],
   "source": [
    "df_all_te = df_all.copy()\n",
    "\n",
    "cats = ['State_Factor', 'building_class', 'facility_type']\n",
    "for col in cats:\n",
    "    encoder = TargetEncoder()\n",
    "    df_all_te[f'te_{col}'] = encoder.fit_transform(df_all_te[col], df_all_te[target])"
   ]
  },
  {
   "cell_type": "markdown",
   "metadata": {},
   "source": [
    "# <span style=\"font-family:cursive;text-align:center\">Feature Engineering</span>"
   ]
  },
  {
   "cell_type": "markdown",
   "metadata": {
    "id": "-EA_HCis0OLe"
   },
   "source": [
    "<div class=\"alert alert-block alert-info\" style=\"font-size:14px; font-family:verdana; line-height: 1.7em;\"> \n",
    "    <font size='3.5pt'><b>Weather based features</b></font>\n",
    "\n",
    "we will extract new weather statistics from the building location weather features"
   ]
  },
  {
   "cell_type": "code",
   "execution_count": null,
   "metadata": {
    "id": "Fvv9pLi1zFeR"
   },
   "outputs": [],
   "source": [
    "# extract new weather statistics from the building location weather features\n",
    "temp = [col for col in df_all_te.columns if 'temp' in col]\n",
    "\n",
    "df_all_te['min_temp'] = df_all_te[temp].min(axis=1)\n",
    "df_all_te['max_temp'] = df_all_te[temp].max(axis=1)\n",
    "df_all_te['avg_temp'] = df_all_te[temp].mean(axis=1)\n",
    "df_all_te['std_temp'] = df_all_te[temp].std(axis=1)\n",
    "df_all_te['skew_temp'] = df_all_te[temp].skew(axis=1)\n",
    "\n",
    "\n",
    "# by seasons\n",
    "temp = pd.Series([col for col in df_all_te.columns if 'temp' in col])\n",
    "\n",
    "winter_temp = temp[temp.apply(lambda x: ('january' in x or 'february' in x or 'december' in x))].values\n",
    "spring_temp = temp[temp.apply(lambda x: ('march' in x or 'april' in x or 'may' in x))].values\n",
    "summer_temp = temp[temp.apply(lambda x: ('june' in x or 'july' in x or 'august' in x))].values\n",
    "autumn_temp = temp[temp.apply(lambda x: ('september' in x or 'october' in x or 'november' in x))].values\n",
    "\n",
    "\n",
    "### winter\n",
    "df_all_te['min_winter_temp'] = df_all_te[winter_temp].min(axis=1)\n",
    "df_all_te['max_winter_temp'] = df_all_te[winter_temp].max(axis=1)\n",
    "df_all_te['avg_winter_temp'] = df_all_te[winter_temp].mean(axis=1)\n",
    "df_all_te['std_winter_temp'] = df_all_te[winter_temp].std(axis=1)\n",
    "df_all_te['skew_winter_temp'] = df_all_te[winter_temp].skew(axis=1)\n",
    "### spring\n",
    "df_all_te['min_spring_temp'] = df_all_te[spring_temp].min(axis=1)\n",
    "df_all_te['max_spring_temp'] = df_all_te[spring_temp].max(axis=1)\n",
    "df_all_te['avg_spring_temp'] = df_all_te[spring_temp].mean(axis=1)\n",
    "df_all_te['std_spring_temp'] = df_all_te[spring_temp].std(axis=1)\n",
    "df_all_te['skew_spring_temp'] = df_all_te[spring_temp].skew(axis=1)\n",
    "### summer\n",
    "df_all_te['min_summer_temp'] = df_all_te[summer_temp].min(axis=1)\n",
    "df_all_te['max_summer_temp'] = df_all_te[summer_temp].max(axis=1)\n",
    "df_all_te['avg_summer_temp'] = df_all_te[summer_temp].mean(axis=1)\n",
    "df_all_te['std_summer_temp'] = df_all_te[summer_temp].max(axis=1)\n",
    "df_all_te['skew_summer_temp'] = df_all_te[summer_temp].max(axis=1)\n",
    "## autumn\n",
    "df_all_te['min_autumn_temp'] = df_all_te[autumn_temp].min(axis=1)\n",
    "df_all_te['max_autumn_temp'] = df_all_te[autumn_temp].max(axis=1)\n",
    "df_all_te['avg_autumn_temp'] = df_all_te[autumn_temp].mean(axis=1)\n",
    "df_all_te['std_autumn_temp'] = df_all_te[autumn_temp].std(axis=1)\n",
    "df_all_te['skew_autumn_temp'] = df_all_te[autumn_temp].skew(axis=1)"
   ]
  },
  {
   "cell_type": "code",
   "execution_count": null,
   "metadata": {
    "id": "wNexSXzl0XEi"
   },
   "outputs": [],
   "source": [
    "df_all_te['month_cooling_degree_days'] = df_all_te['cooling_degree_days']/12\n",
    "df_all_te['month_heating_degree_days'] = df_all_te['heating_degree_days']/12"
   ]
  },
  {
   "cell_type": "code",
   "execution_count": null,
   "metadata": {},
   "outputs": [],
   "source": [
    "df_all_te[temp]"
   ]
  },
  {
   "cell_type": "code",
   "execution_count": null,
   "metadata": {},
   "outputs": [],
   "source": [
    "df_all_te['cooling_degree_days']"
   ]
  },
  {
   "cell_type": "code",
   "execution_count": null,
   "metadata": {},
   "outputs": [],
   "source": [
    "df_all_te[['min_winter_temp', 'max_winter_temp', 'avg_winter_temp', 'std_winter_temp', 'skew_winter_temp',\n",
    "           'min_spring_temp', 'max_spring_temp', 'avg_spring_temp', 'std_spring_temp', 'skew_spring_temp',\n",
    "           'min_summer_temp', 'max_summer_temp', 'avg_summer_temp', 'std_summer_temp', 'skew_summer_temp',\n",
    "           'min_autumn_temp', 'max_autumn_temp', 'avg_autumn_temp', 'std_autumn_temp', 'skew_autumn_temp']]"
   ]
  },
  {
   "cell_type": "markdown",
   "metadata": {
    "id": "gW_LwCDi1dHH"
   },
   "source": [
    "<div class=\"alert alert-block alert-info\" style=\"font-size:14px; font-family:verdana; line-height: 1.7em;\"> \n",
    "    <font size='3.5pt'><b>Buildig based feature:</b></font>\n",
    "\n",
    "we will extract building statistics"
   ]
  },
  {
   "cell_type": "code",
   "execution_count": null,
   "metadata": {
    "id": "HD8yckVX1WeV"
   },
   "outputs": [],
   "source": [
    "# total area\n",
    "df_all_te['building_area'] = df_all_te['floor_area'] * df_all_te['ELEVATION']\n",
    "# rating energy by floor\n",
    "df_all_te['floor_energy_star_rating'] = df_all_te['energy_star_rating']/df_all_te['ELEVATION']\n"
   ]
  },
  {
   "cell_type": "code",
   "execution_count": null,
   "metadata": {},
   "outputs": [],
   "source": [
    "df_all_te[[\"floor_area\", \"ELEVATION\", \"energy_star_rating\", \"floor_energy_star_rating\", \"building_area\"]]"
   ]
  },
  {
   "cell_type": "markdown",
   "metadata": {
    "id": "r3OQZ3ud2UDI"
   },
   "source": [
    "### <span style=\"font-family:cursive;text-align:center\">Checking target variable transformation</span>"
   ]
  },
  {
   "cell_type": "code",
   "execution_count": null,
   "metadata": {
    "colab": {
     "base_uri": "https://localhost:8080/",
     "height": 445
    },
    "id": "Trbfsj7H1ltV",
    "outputId": "733680fd-b013-4e95-c4dd-515bf68c27bb"
   },
   "outputs": [],
   "source": [
    "target = 'site_eui'\n",
    "plt.figure(figsize=(10,7))\n",
    "# plot the original variable vs sale price    \n",
    "plt.subplot(2, 1, 1)\n",
    "train[target].hist(bins=50)\n",
    "plt.ylabel('Count')\n",
    "plt.xlabel('Original ' + target)\n",
    "\n",
    "# plot transformed variable vs sale price\n",
    "plt.subplot(2, 1, 2)\n",
    "np.log(train[target]).hist(bins=50)\n",
    "plt.ylabel('Count')\n",
    "plt.xlabel('Transformed ' + target);"
   ]
  },
  {
   "cell_type": "code",
   "execution_count": null,
   "metadata": {
    "colab": {
     "base_uri": "https://localhost:8080/",
     "height": 1000
    },
    "id": "Y3rb1jcp17AH",
    "outputId": "615abab0-6b10-471c-d627-d12110dc9d29"
   },
   "outputs": [],
   "source": [
    "nums = train.loc[:, train.dtypes != 'object'].columns\n",
    "df_all[nums].hist(bins=50, figsize=(20,20))\n",
    "plt.show();"
   ]
  },
  {
   "cell_type": "code",
   "execution_count": null,
   "metadata": {
    "colab": {
     "base_uri": "https://localhost:8080/"
    },
    "id": "pM7YSP6C1_tc",
    "outputId": "fe8bb10b-023f-4e50-a1cd-514c22f41626"
   },
   "outputs": [],
   "source": [
    "df_all_te[nums].skew().sort_values(key=abs, ascending=False)[:5]"
   ]
  },
  {
   "cell_type": "markdown",
   "metadata": {
    "id": "nlWi7jOr2ftv"
   },
   "source": [
    "<div class=\"alert alert-block alert-info\" style=\"font-size:14px; font-family:verdana; line-height: 1.7em;\"> \n",
    "    Binarize very skewed variables"
   ]
  },
  {
   "cell_type": "code",
   "execution_count": null,
   "metadata": {
    "id": "5gLq06O22SuJ"
   },
   "outputs": [],
   "source": [
    "skewed = ['days_above_110F', 'days_above_100F']\n",
    "\n",
    "for var in skewed:\n",
    "    \n",
    "    # map the variable values into 0 and 1\n",
    "    df_all_te[var] = np.where(df_all_te[var]==0, 0, 1)"
   ]
  },
  {
   "cell_type": "markdown",
   "metadata": {
    "id": "9ptQH8lu4Jgc"
   },
   "source": [
    "### <span style=\"font-family:cursive;text-align:center\">Saving feature dataset</span>"
   ]
  },
  {
   "cell_type": "code",
   "execution_count": null,
   "metadata": {
    "id": "2Mb4XdTs2geH"
   },
   "outputs": [],
   "source": [
    "saved = False\n",
    "if saved:\n",
    "    !pip install pickle5 --quiet\n",
    "    import pickle5 as pickle\n",
    "    data_path = 'feature_transformed_set_TEonly.pkl'\n",
    "    with open(data_path, \"rb\") as fh:\n",
    "        df = pickle.load(fh)\n",
    "else:\n",
    "    df_all.to_pickle('feature_transformed_set_TEonly.pkl')"
   ]
  },
  {
   "cell_type": "code",
   "execution_count": null,
   "metadata": {
    "colab": {
     "base_uri": "https://localhost:8080/"
    },
    "id": "XkF8i1fs3JES",
    "outputId": "48bf2346-507b-492c-8a94-c015ca4d85c6"
   },
   "outputs": [],
   "source": [
    "df_all_te.shape"
   ]
  },
  {
   "cell_type": "code",
   "execution_count": null,
   "metadata": {
    "colab": {
     "base_uri": "https://localhost:8080/",
     "height": 299
    },
    "id": "8gp9I_Ig4Qvw",
    "outputId": "aa2d4c78-e200-4129-97ee-817506283231"
   },
   "outputs": [],
   "source": [
    "df_all_te.head()"
   ]
  },
  {
   "cell_type": "markdown",
   "metadata": {
    "id": "O5olK6wY5F61"
   },
   "source": [
    "# <span style=\"font-family:cursive;text-align:center\">🧰 Baseline Modelling</span>"
   ]
  },
  {
   "cell_type": "code",
   "execution_count": null,
   "metadata": {
    "id": "1Z4ungvh4Vye"
   },
   "outputs": [],
   "source": [
    "# cats = ['State_Factor', 'facility_type', 'building_class', 'days_above_100F', 'days_above_110F']\n",
    "\n",
    "# typecasting numerical features\n",
    "for col in df_all_te.drop(columns=['dataset', 'id', 'site_eui', 'days_above_100F', 'days_above_110F']).columns:\n",
    "    df_all_te[col] = df_all_te[col].astype('float64')"
   ]
  },
  {
   "cell_type": "code",
   "execution_count": null,
   "metadata": {
    "colab": {
     "base_uri": "https://localhost:8080/",
     "height": 487
    },
    "id": "1cMYlpFw9EBk",
    "outputId": "bd014be7-9468-4bec-9c39-309462053548"
   },
   "outputs": [],
   "source": [
    "df_all_te"
   ]
  },
  {
   "cell_type": "code",
   "execution_count": null,
   "metadata": {
    "id": "QT8wKpG94aX1"
   },
   "outputs": [],
   "source": [
    "train = df_all_te[df_all_te['dataset']=='train']\n",
    "test = df_all_te[df_all_te['dataset']=='test']\n",
    "\n",
    "train = train.reset_index(drop=True)\n",
    "test = test.reset_index(drop=True)\n",
    "\n",
    "test_ids = test['id']\n",
    "train_ids = train['id']\n",
    "\n",
    "target = train['site_eui'] #y_train\n",
    "\n",
    "train = train.drop(['id', 'dataset', 'site_eui'], axis=1) #X_train\n",
    "test = test.drop(['id', 'dataset', 'site_eui'], axis=1) #X_test"
   ]
  },
  {
   "cell_type": "code",
   "execution_count": null,
   "metadata": {
    "colab": {
     "base_uri": "https://localhost:8080/"
    },
    "id": "zHJxJXaY6buD",
    "outputId": "261400d1-f88b-47be-ad07-883c190468a7"
   },
   "outputs": [],
   "source": [
    "y_test = pd.read_csv('y_test.csv')\n",
    "\n",
    "X_train = train\n",
    "X_test = test\n",
    "y_train = target\n",
    "y_test = y_test['site_eui']\n",
    "print('Train: ', X_train.shape)\n",
    "print('Test:', X_test.shape)\n",
    "print('Samples: ', y_train.shape)\n",
    "print('Targets: ', y_test.shape)"
   ]
  },
  {
   "cell_type": "markdown",
   "metadata": {},
   "source": [
    "### <span style=\"font-family:cursive;text-align:center\">Catboost</span>"
   ]
  },
  {
   "cell_type": "code",
   "execution_count": null,
   "metadata": {},
   "outputs": [],
   "source": [
    "# get discrete end categorical features colums indexes \n",
    "# needed later for the cat bosst model\n",
    "cats_discrete_idx = np.where(train.dtypes != 'float64')[0]"
   ]
  },
  {
   "cell_type": "code",
   "execution_count": null,
   "metadata": {
    "id": "dBdumPILAGLU"
   },
   "outputs": [],
   "source": [
    "catb = CatBoostRegressor(iterations=500,\n",
    "                         learning_rate=0.02,\n",
    "                         depth=12,\n",
    "                         eval_metric='RMSE',\n",
    "#                         early_stopping_rounds=42,\n",
    "                         random_seed = 23,\n",
    "                         bagging_temperature = 0.2,\n",
    "                         od_type='Iter',\n",
    "                         metric_period = 75,\n",
    "                         od_wait=100\n",
    "                        )"
   ]
  },
  {
   "cell_type": "code",
   "execution_count": null,
   "metadata": {},
   "outputs": [],
   "source": [
    "catb.fit(X_train, y_train,\n",
    "                 eval_set=(X_test,y_test),\n",
    "                 cat_features=cats_discrete_idx,\n",
    "                 use_best_model=True,\n",
    "                 verbose=True)\n",
    "\n",
    "y_pred = catb.predict(X_test)"
   ]
  },
  {
   "cell_type": "code",
   "execution_count": null,
   "metadata": {},
   "outputs": [],
   "source": [
    "print(\" Training data scores\\n\",\"--\"*10)\n",
    "print(\" RMSE:\", np.sqrt(mean_squared_error(y_test,y_pred)))\n",
    "print(\" MAE:\", mean_absolute_error(y_test,y_pred))\n",
    "print(\" MSE:\", mean_squared_error(y_test,y_pred))\n",
    "print(\" R2:\", r2_score(y_test,y_pred))"
   ]
  },
  {
   "cell_type": "markdown",
   "metadata": {},
   "source": [
    "### <span style=\"font-family:cursive;text-align:center\">XGBoost</span>"
   ]
  },
  {
   "cell_type": "code",
   "execution_count": null,
   "metadata": {},
   "outputs": [],
   "source": [
    "xgb = XGBRegressor(n_estimators=500, reg_alpha=0.01, n_jobs=-1)\n",
    "xgb.fit(X_train, y_train)\n",
    "y_pred = xgb.predict(X_test)"
   ]
  },
  {
   "cell_type": "code",
   "execution_count": null,
   "metadata": {},
   "outputs": [],
   "source": [
    "print(\" Training data scores\\n\",\"--\"*10)\n",
    "print(\" RMSE:\", np.sqrt(mean_squared_error(y_test,y_pred)))\n",
    "print(\" MAE:\", mean_absolute_error(y_test,y_pred))\n",
    "print(\" MSE:\", mean_squared_error(y_test,y_pred))\n",
    "print(\" R2:\", r2_score(y_test,y_pred))"
   ]
  },
  {
   "cell_type": "markdown",
   "metadata": {},
   "source": [
    "### <span style=\"font-family:cursive;text-align:center\">RandomForest</span>"
   ]
  },
  {
   "cell_type": "code",
   "execution_count": null,
   "metadata": {},
   "outputs": [],
   "source": [
    "rf = RandomForestRegressor(random_state=1, criterion='mse', max_depth = 15, min_samples_split= 2)\n",
    "rf.fit(X_train, y_train)\n",
    "y_pred = xgb.predict(X_test)"
   ]
  },
  {
   "cell_type": "code",
   "execution_count": null,
   "metadata": {},
   "outputs": [],
   "source": [
    "print(\" Training data scores\\n\",\"--\"*10)\n",
    "print(\" RMSE:\", np.sqrt(mean_squared_error(y_test,y_pred)))\n",
    "print(\" MAE:\", mean_absolute_error(y_test,y_pred))\n",
    "print(\" MSE:\", mean_squared_error(y_test,y_pred))\n",
    "print(\" R2:\", r2_score(y_test,y_pred))"
   ]
  },
  {
   "cell_type": "markdown",
   "metadata": {},
   "source": [
    "### <span style=\"font-family:cursive;text-align:center\">Lasso Regression</span>"
   ]
  },
  {
   "cell_type": "code",
   "execution_count": null,
   "metadata": {},
   "outputs": [],
   "source": [
    "lasso = Lasso()\n",
    "lasso.fit(X_train, y_train)\n",
    "y_pred = lasso.predict(X_test)"
   ]
  },
  {
   "cell_type": "code",
   "execution_count": null,
   "metadata": {},
   "outputs": [],
   "source": [
    "print(\" Training data scores\\n\",\"--\"*10)\n",
    "print(\" RMSE:\", np.sqrt(mean_squared_error(y_test,y_pred)))\n",
    "print(\" MAE:\", mean_absolute_error(y_test,y_pred))\n",
    "print(\" MSE:\", mean_squared_error(y_test,y_pred))\n",
    "print(\" R2:\", r2_score(y_test,y_pred))"
   ]
  },
  {
   "cell_type": "markdown",
   "metadata": {},
   "source": [
    "# <span style=\"font-family:cursive;text-align:center\">Model Evaluation</span>"
   ]
  },
  {
   "cell_type": "code",
   "execution_count": null,
   "metadata": {},
   "outputs": [],
   "source": [
    "error_rec = {\n",
    "    \"catboost\": {\n",
    "        \"mae\": 40.29268484855883,\n",
    "        \"rmse\": 61.19378120765249,\n",
    "    },\n",
    "    \"randomforest\": {\n",
    "        \"mae\": 50.1839889322522,\n",
    "        \"rmse\": 79.12972350643851,\n",
    "    },\n",
    "    \"xgboost\": {\n",
    "         \"mae\": 50.1839889322522,\n",
    "        \"rmse\": 79.12972350643851,\n",
    "    },\n",
    "    \"lasso\": {\n",
    "         \"mae\": 43.26164501092259,\n",
    "        \"rmse\": 66.08328222674918,\n",
    "    },\n",
    "}\n",
    "pd.DataFrame(error_rec).plot(kind=\"bar\", \n",
    "             color=[\n",
    "                 sns.color_palette(\"pastel\")[0], \n",
    "                 sns.color_palette(\"pastel\")[1], \n",
    "                 sns.color_palette(\"pastel\")[2], \n",
    "                 sns.color_palette(\"pastel\")[3]]);"
   ]
  },
  {
   "cell_type": "markdown",
   "metadata": {},
   "source": [
    "# <span style=\"font-family:cursive;text-align:center\">Hyperparameter Tuning</span>"
   ]
  },
  {
   "cell_type": "markdown",
   "metadata": {},
   "source": [
    "### <span style=\"font-family:cursive;text-align:center\">Using CrossValidation on CatBoost</span>"
   ]
  },
  {
   "cell_type": "code",
   "execution_count": null,
   "metadata": {},
   "outputs": [],
   "source": [
    "# prepaere the out of folds predictions \n",
    "train_oof = np.zeros((train.shape[0],))\n",
    "test_preds = np.zeros(test.shape[0])\n",
    "\n",
    "NUM_FOLDS = 5\n",
    "kf = KFold(n_splits = NUM_FOLDS, shuffle=True, random_state=0)\n",
    "\n",
    "\n",
    "for fold, (train_idx, test_idx) in tqdm.tqdm(enumerate(kf.split(train, target))):\n",
    "    X_train, X_test = train.iloc[train_idx][test.columns], train.iloc[test_idx][test.columns]\n",
    "    y_train, y_test = target[train_idx], target[test_idx]\n",
    "    \n",
    "    catb = CatBoostRegressor(iterations=500,\n",
    "                         learning_rate=0.02,\n",
    "                         depth=12,\n",
    "                         eval_metric='RMSE',\n",
    "#                         early_stopping_rounds=42,\n",
    "                         random_seed = 23,\n",
    "                         bagging_temperature = 0.2,\n",
    "                         od_type='Iter',\n",
    "                         metric_period = 75,\n",
    "                         od_wait=100)\n",
    "    # train model\n",
    "    catb.fit(X_train, y_train,\n",
    "                 eval_set=(X_test,y_test),\n",
    "                 cat_features=cats_discrete_idx,\n",
    "                 use_best_model=True,\n",
    "                 verbose=True)\n",
    "\n",
    "    oof = catb.predict(X_test)\n",
    "    train_oof[test_idx] = oof\n",
    "    test_preds += catb.predict(test)/NUM_FOLDS      \n",
    "    print(f\"out-of-folds prdiction ==== fold_{fold} RMSE\",np.sqrt(mean_squared_error(oof, y_test, squared=False)))\n"
   ]
  },
  {
   "cell_type": "markdown",
   "metadata": {},
   "source": [
    "### <span style=\"font-family:cursive;text-align:center\">Using Optuna with Random Forest</span> "
   ]
  },
  {
   "cell_type": "code",
   "execution_count": null,
   "metadata": {},
   "outputs": [],
   "source": [
    "# cross validating training data\n",
    "kfolds = KFold(n_splits=3, shuffle=True, random_state=42)\n",
    "\n",
    "# Objective function\n",
    "def random_forest_objective(trial, data=X_train, target=y_train):\n",
    "    # Dictionary to store best parameters\n",
    "    param = {\n",
    "        \"n_estimators\": trial.suggest_int(\"n_estimators\", 100, 500),\n",
    "        \"max_depth\": trial.suggest_int(\"max_depth\", 5, 20),\n",
    "        \"min_samples_split\": trial.suggest_int(\"min_samples_split\", 2, 10),\n",
    "        \"max_features\": trial.suggest_float(\"max_features\", 0.01, 0.95)\n",
    "    }\n",
    "     \n",
    "    model = RandomForestRegressor(**param)\n",
    "    \n",
    "    # Setting random seed and kfolds for cross-validation\n",
    "    kfolds = KFold(n_splits=10, shuffle=True, random_state=42)\n",
    "    \n",
    "    scores = cross_val_score(model, data, target, cv=kfolds, scoring=\"neg_root_mean_squared_error\")\n",
    "    return scores.mean()\n",
    "\n"
   ]
  },
  {
   "cell_type": "code",
   "execution_count": null,
   "metadata": {},
   "outputs": [],
   "source": [
    "def tuner(objective, n=5, direction='minimize'): \n",
    "    # Create Study object\n",
    "    study = optuna.create_study(direction=\"minimize\")\n",
    "\n",
    "    # Optimize the study\n",
    "    study.optimize(objective, n_trials=n)\n",
    "\n",
    "    # Print the result\n",
    "    best_params = study.best_params\n",
    "    best_score = study.best_value\n",
    "    print(f\"Best score: {best_score}\")\n",
    "    print(f\"Optimized parameters: {best_params}\\n\")\n",
    "    print(\"<<<<<<<<<< Tuning complete... >>>>>>>>>>\")\n",
    "    \n",
    "    # Return best parameters for the model\n",
    "    return best_params, best_score"
   ]
  },
  {
   "cell_type": "code",
   "execution_count": null,
   "metadata": {},
   "outputs": [],
   "source": [
    "%%time\n",
    "rf_param, rf_score = tuner(random_forest_objective,1)\n",
    "rf_tuned_model = RandomForestRegressor(**rf_param)"
   ]
  },
  {
   "cell_type": "code",
   "execution_count": null,
   "metadata": {},
   "outputs": [],
   "source": [
    "rf_tuned_model.fit(X_train, y_train)"
   ]
  },
  {
   "cell_type": "markdown",
   "metadata": {},
   "source": [
    "### <span style=\"font-family:cursive;text-align:center\">Final Evaluation</span>"
   ]
  },
  {
   "cell_type": "code",
   "execution_count": null,
   "metadata": {},
   "outputs": [],
   "source": [
    "y_hat_tuned = catb.predict(X_test)\n",
    "\n",
    "plt.figure(figsize = (7,5))\n",
    "sns.distplot(y_test - y_hat_tuned)\n",
    "plt.title(\"Error Rate Distribution\");\n",
    "plt.ylabel(\"error\")\n",
    "plt.xlabel(\"iteration\")"
   ]
  },
  {
   "cell_type": "code",
   "execution_count": null,
   "metadata": {},
   "outputs": [],
   "source": [
    "y_hat_tuned = rf_tuned_model.predict(X_test)\n",
    "\n",
    "plt.figure(figsize = (7,5))\n",
    "sns.distplot(y_test - y_hat_tuned)\n",
    "plt.title(\"Error Rate Distribution\");\n",
    "plt.ylabel(\"error\")\n",
    "plt.xlabel(\"iteration\")"
   ]
  },
  {
   "cell_type": "markdown",
   "metadata": {},
   "source": [
    "### <span style=\"font-family:cursive;text-align:center\">Saving Models</span> "
   ]
  },
  {
   "cell_type": "code",
   "execution_count": null,
   "metadata": {},
   "outputs": [],
   "source": [
    "with open('rf_tuned_final.joblib', 'wb') as f:\n",
    "    joblib.dump(rf_tuned_model, f, compress=1)\n",
    "\n",
    "with open('catb_best_final.joblib', 'wb') as f:\n",
    "    joblib.dump(catb,f,compress=3)"
   ]
  },
  {
   "cell_type": "code",
   "execution_count": null,
   "metadata": {},
   "outputs": [],
   "source": [
    "## Load models here\n",
    "load = False\n",
    "if load:\n",
    "    with open('rf_tuned_final.joblib', 'rb') as f:\n",
    "        rf = joblib.load(f)\n",
    "\n",
    "    with open('catb_best_final.joblib', 'rb') as f:\n",
    "        catb = joblib.load(f)"
   ]
  },
  {
   "cell_type": "markdown",
   "metadata": {},
   "source": [
    "# <span style=\"font-family:cursive;text-align:center\">Explainable AI</span>"
   ]
  },
  {
   "cell_type": "markdown",
   "metadata": {},
   "source": [
    "<div class=\"alert alert-block alert-info\" style=\"font-size:14px; font-family:verdana; line-height: 1.7em;\"> \n",
    "\n",
    "we will extract new weather statistics from the building location weather featurespick your sample to study the model upon"
   ]
  },
  {
   "cell_type": "code",
   "execution_count": null,
   "metadata": {},
   "outputs": [],
   "source": [
    "size = 2000\n",
    "\n",
    "sample_exists = False\n",
    "\n",
    "if sample_exists:\n",
    "    sample_set = pd.read_csv('data/shap/sample2000.csv')\n",
    "else:\n",
    "    sample_set = X_test.sample(size)\n",
    "sample_set"
   ]
  },
  {
   "cell_type": "markdown",
   "metadata": {},
   "source": [
    "<div class=\"alert alert-block alert-info\" style=\"font-size:14px; font-family:verdana; line-height: 1.7em;\"> calculate shap values"
   ]
  },
  {
   "cell_type": "code",
   "execution_count": null,
   "metadata": {},
   "outputs": [],
   "source": [
    "is_saved = False\n",
    "\n",
    "if is_saved:\n",
    "    with open('data/shap/shap_values_sample2000.pkl', 'rb') as f:\n",
    "        shap_values = joblib.load(f)\n",
    "else:\n",
    "    shap_values = shap.TreeExplainer(rf).shap_values(sample_set)"
   ]
  },
  {
   "cell_type": "code",
   "execution_count": null,
   "metadata": {},
   "outputs": [],
   "source": [
    "shap.initjs()"
   ]
  },
  {
   "cell_type": "code",
   "execution_count": null,
   "metadata": {},
   "outputs": [],
   "source": [
    "shap.summary_plot(shap_values, sample_set, plot_type=\"bar\")"
   ]
  },
  {
   "cell_type": "code",
   "execution_count": null,
   "metadata": {},
   "outputs": [],
   "source": [
    "shap.summary_plot(shap_values, sample_set)"
   ]
  },
  {
   "cell_type": "code",
   "execution_count": null,
   "metadata": {},
   "outputs": [],
   "source": [
    "limit = 200\n",
    "shap.force_plot(shap.TreeExplainer(rf_tuned_model).expected_value[0], shap_values[0:limit,:], sample_set.iloc[0:limit,:])"
   ]
  },
  {
   "cell_type": "code",
   "execution_count": null,
   "metadata": {},
   "outputs": [],
   "source": [
    "row = 60\n",
    "print(y_pred[row])\n",
    "shap.initjs()\n",
    "shap.force_plot(shap.TreeExplainer(rf_tuned_model).expected_value[0], shap_values[row], sample_set.iloc[row])"
   ]
  },
  {
   "cell_type": "code",
   "execution_count": null,
   "metadata": {},
   "outputs": [],
   "source": [
    "shap.dependence_plot('energy_star_rating', shap_values, sample_set)"
   ]
  },
  {
   "cell_type": "code",
   "execution_count": null,
   "metadata": {},
   "outputs": [],
   "source": [
    "shap.dependence_plot('State_Factor', shap_values, sample_set)"
   ]
  },
  {
   "cell_type": "code",
   "execution_count": null,
   "metadata": {},
   "outputs": [],
   "source": [
    "row = 111\n",
    "shap.plots._waterfall.waterfall_legacy(shap.TreeExplainer(rf_tuned_model).expected_value[0], \n",
    "                                       shap_values[row],\n",
    "                                       feature_names=sample_set.columns.tolist()\n",
    "                                      )"
   ]
  },
  {
   "cell_type": "code",
   "execution_count": null,
   "metadata": {},
   "outputs": [],
   "source": [
    "start = 120\n",
    "limit = 130\n",
    "\n",
    "shap.decision_plot(shap.TreeExplainer(rf_tuned_model).expected_value[0], \n",
    "                   shap_values[start:limit], \n",
    "                   feature_names=sample_set.columns.tolist())"
   ]
  },
  {
   "cell_type": "code",
   "execution_count": null,
   "metadata": {},
   "outputs": [],
   "source": [
    "limit = 500\n",
    "shap.plots.heatmap(shap.TreeExplainer(rf_tuned_model, data=sample_set)(sample_set[:limit]), max_display=15)"
   ]
  },
  {
   "cell_type": "code",
   "execution_count": null,
   "metadata": {},
   "outputs": [],
   "source": []
  }
 ],
 "metadata": {
  "colab": {
   "collapsed_sections": [],
   "name": "Guided_SampleNotebook_SiteEUIPrediction_WiDS22.ipynb",
   "provenance": []
  },
  "kernelspec": {
   "display_name": "Python 3 (ipykernel)",
   "language": "python",
   "name": "python3"
  },
  "language_info": {
   "codemirror_mode": {
    "name": "ipython",
    "version": 3
   },
   "file_extension": ".py",
   "mimetype": "text/x-python",
   "name": "python",
   "nbconvert_exporter": "python",
   "pygments_lexer": "ipython3",
   "version": "3.10.11"
  }
 },
 "nbformat": 4,
 "nbformat_minor": 1
}
