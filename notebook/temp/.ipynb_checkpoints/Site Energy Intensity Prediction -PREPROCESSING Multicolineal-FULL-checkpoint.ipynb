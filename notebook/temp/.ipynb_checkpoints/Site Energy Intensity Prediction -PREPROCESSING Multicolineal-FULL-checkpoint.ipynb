{
 "cells": [
  {
   "cell_type": "markdown",
   "id": "5f8ec4d8",
   "metadata": {},
   "source": [
    "# Proprocesammiento\n",
    "\n",
    "En esta notebook se hace lo siguiente:  \n",
    "1.- se calcula la Mean de los features que tiene valores nulos para luego ser imputados.  \n",
    "2.- Se elimina las variables categoricas.  \n",
    "3.- se cacula en Z-score para eliminar los Outliers.  \n",
    "4.- Se caclula en valor VIF para ser usado para eliminas las variables multicolineares.  \n",
    "5.- se estandarizan las columnas usando un StandardScaler.  \n"
   ]
  },
  {
   "cell_type": "code",
   "execution_count": null,
   "id": "35217b17",
   "metadata": {},
   "outputs": [],
   "source": [
    "import pandas as pd"
   ]
  },
  {
   "cell_type": "code",
   "execution_count": null,
   "id": "87b6bba3",
   "metadata": {},
   "outputs": [],
   "source": [
    "pd.set_option('display.max_columns', None)\n",
    "pd.set_option('display.max_rows', None)"
   ]
  },
  {
   "cell_type": "code",
   "execution_count": null,
   "id": "d9567328",
   "metadata": {},
   "outputs": [],
   "source": [
    "df_full = pd.read_csv('data/raw/train_dataset.csv')"
   ]
  },
  {
   "cell_type": "code",
   "execution_count": null,
   "id": "f72f4a2a",
   "metadata": {},
   "outputs": [],
   "source": [
    "# Se obtienen los valores antes de imputar para poder imputar la misma media en ambos set de datos\n",
    "a = df_full['year_built'].mean()\n",
    "b = df_full['energy_star_rating'].mean()\n",
    "c = df_full['direction_max_wind_speed'].mean()\n",
    "d = df_full['direction_peak_wind_speed'].mean()\n",
    "e = df_full['max_wind_speed'].mean()\n",
    "f = df_full['days_with_fog'].mean()"
   ]
  },
  {
   "cell_type": "code",
   "execution_count": null,
   "id": "eefe28ed",
   "metadata": {},
   "outputs": [],
   "source": [
    "df_full['year_built'].fillna(a, inplace=True)\n",
    "df_full['energy_star_rating'].fillna(b, inplace=True)\n",
    "df_full['direction_max_wind_speed'].fillna(c, inplace=True)\n",
    "df_full['direction_peak_wind_speed'].fillna(d, inplace=True)\n",
    "df_full['max_wind_speed'].fillna(e, inplace=True)\n",
    "df_full['days_with_fog'].fillna(f, inplace=True)"
   ]
  },
  {
   "cell_type": "code",
   "execution_count": null,
   "id": "4bd2a786",
   "metadata": {},
   "outputs": [],
   "source": [
    "#se genera el nuevo DF sin las columnas categoricas y la variable objetivo\n",
    "df_full = df_full.drop(columns=['State_Factor','building_class', 'facility_type', 'id'])"
   ]
  },
  {
   "cell_type": "code",
   "execution_count": null,
   "id": "2d183ef2",
   "metadata": {},
   "outputs": [],
   "source": [
    "df_full.columns"
   ]
  },
  {
   "cell_type": "markdown",
   "id": "ec243b06",
   "metadata": {},
   "source": [
    "Se calcula el Z-score para tratar de eliminar los outliers"
   ]
  },
  {
   "cell_type": "code",
   "execution_count": null,
   "id": "44d6abf0",
   "metadata": {},
   "outputs": [],
   "source": [
    "from scipy import stats\n",
    "import numpy as np"
   ]
  },
  {
   "cell_type": "code",
   "execution_count": null,
   "id": "3ab44146",
   "metadata": {},
   "outputs": [],
   "source": [
    "z = np.abs(stats.zscore(df_full))\n",
    "print(z)"
   ]
  },
  {
   "cell_type": "code",
   "execution_count": null,
   "id": "60d6120e",
   "metadata": {},
   "outputs": [],
   "source": [
    "df_full_z_scores = df_full[(z < 3).all(axis=1)]"
   ]
  },
  {
   "cell_type": "code",
   "execution_count": null,
   "id": "e5893628",
   "metadata": {},
   "outputs": [],
   "source": [
    "df_full_z_scores.shape"
   ]
  },
  {
   "cell_type": "code",
   "execution_count": null,
   "id": "85b4910c",
   "metadata": {},
   "outputs": [],
   "source": [
    "df_full_z_scores.describe()"
   ]
  },
  {
   "cell_type": "code",
   "execution_count": null,
   "id": "43a991a7",
   "metadata": {},
   "outputs": [],
   "source": [
    "from statsmodels.stats.outliers_influence import variance_inflation_factor\n",
    "from statsmodels.tools.tools import add_constant"
   ]
  },
  {
   "cell_type": "code",
   "execution_count": null,
   "id": "671029fb",
   "metadata": {},
   "outputs": [],
   "source": [
    "# Se calcula el valore de VIF para todos los features\n",
    "def compute_vif(df, considered_features):    \n",
    "    X = df[considered_features]\n",
    "    X['intercept'] = 1\n",
    "    vif = pd.DataFrame()\n",
    "    vif[\"Variable\"] = X.columns\n",
    "    vif[\"VIF\"] = [variance_inflation_factor(X.values, i) for i in range(X.shape[1])]\n",
    "    vif = vif[vif['Variable']!='intercept']\n",
    "    return vif"
   ]
  },
  {
   "cell_type": "code",
   "execution_count": null,
   "id": "6e9ef7d4",
   "metadata": {},
   "outputs": [],
   "source": [
    "# features altamente correlacionados segun el EDA y que deberia ser borradas\n",
    "considered_features = ['january_avg_temp', \n",
    "'february_min_temp', \n",
    "'february_avg_temp', \n",
    "'march_min_temp',\n",
    "'heating_degree_days', \n",
    "'cooling_degree_days',\n",
    "'july_avg_temp', \n",
    "'august_avg_temp', \n",
    "'days_below_20F',\n",
    "'days_below_30F', \n",
    "'days_below_10F', \n",
    "'direction_peak_wind_speed', \n",
    "'direction_max_wind_speed',\n",
    "'max_wind_speed'\n",
    "]\n",
    "compute_vif(df_full_z_scores, considered_features).sort_values('VIF', ascending=False)"
   ]
  },
  {
   "cell_type": "code",
   "execution_count": null,
   "id": "9e8f3591",
   "metadata": {},
   "outputs": [],
   "source": [
    "df_full_SC = df_full_z_scores.drop(columns=['january_avg_temp','february_min_temp', \n",
    "                                          'february_avg_temp', 'march_min_temp','heating_degree_days',\n",
    "                                          'cooling_degree_days','july_avg_temp', 'august_avg_temp', \n",
    "                                          'days_below_20F','days_below_30F', 'days_below_10F', 'direction_peak_wind_speed',\n",
    "                                          'direction_max_wind_speed','max_wind_speed'])"
   ]
  },
  {
   "cell_type": "markdown",
   "id": "e86d5a02",
   "metadata": {},
   "source": [
    "Probamos haciendo una standarizacion normal comun y corriente ya que en teoria se eliminaron los outlier"
   ]
  },
  {
   "cell_type": "code",
   "execution_count": null,
   "id": "c1c3f32b",
   "metadata": {},
   "outputs": [],
   "source": [
    "from sklearn.preprocessing import StandardScaler"
   ]
  },
  {
   "cell_type": "code",
   "execution_count": null,
   "id": "b188f7ce",
   "metadata": {},
   "outputs": [],
   "source": [
    "transformer = StandardScaler().fit(df_full_SC)\n",
    "df_full_scaled = transformer.transform(df_full_SC)"
   ]
  },
  {
   "cell_type": "code",
   "execution_count": null,
   "id": "fe8bc2b5",
   "metadata": {},
   "outputs": [],
   "source": [
    "#se debe transforma a un dataframe ya que el metodo transorm lo retorna en un ndarray\n",
    "df_full_scaled_df = pd.DataFrame(df_full_scaled, columns=df_full_SC.columns)\n",
    "df_full_scaled_df.describe()"
   ]
  },
  {
   "cell_type": "code",
   "execution_count": null,
   "id": "fab80601",
   "metadata": {},
   "outputs": [],
   "source": [
    "df_full_scaled_df.to_csv('data/preprocesada/Full_Data.csv')"
   ]
  }
 ],
 "metadata": {
  "kernelspec": {
   "display_name": "Python 3 (ipykernel)",
   "language": "python",
   "name": "python3"
  },
  "language_info": {
   "codemirror_mode": {
    "name": "ipython",
    "version": 3
   },
   "file_extension": ".py",
   "mimetype": "text/x-python",
   "name": "python",
   "nbconvert_exporter": "python",
   "pygments_lexer": "ipython3",
   "version": "3.9.7"
  }
 },
 "nbformat": 4,
 "nbformat_minor": 5
}
